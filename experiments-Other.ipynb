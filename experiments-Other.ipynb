{
 "cells": [
  {
   "cell_type": "code",
   "execution_count": 2,
   "metadata": {},
   "outputs": [],
   "source": [
    "import json\n",
    "\n",
    "relations = json.load(open('relations_representations.json'))\n",
    "relations_middle = json.load(open('relations_representations_middle.json'))\n",
    "relations_examples_text = json.load(open('relations_representations_text.json'))"
   ]
  },
  {
   "cell_type": "code",
   "execution_count": 3,
   "metadata": {},
   "outputs": [
    {
     "data": {
      "text/plain": [
       "dict_keys(['adjoins', 'author', 'capital', 'contains', 'film_performance', 'founders', 'genre', 'has_sibling', 'has_spouse', 'is_a', 'nationality', 'parents', 'place_of_birth', 'place_of_death', 'profession', 'worked_at'])"
      ]
     },
     "execution_count": 3,
     "metadata": {},
     "output_type": "execute_result"
    }
   ],
   "source": [
    "relations.keys()"
   ]
  },
  {
   "cell_type": "code",
   "execution_count": 4,
   "metadata": {},
   "outputs": [
    {
     "name": "stdout",
     "output_type": "stream",
     "text": [
      "Number of observations for relation:\n",
      "\n",
      "- adjoins: 1414\n",
      "- author: 1450\n",
      "- capital: 298\n",
      "- contains: 7123\n",
      "- film_performance: 2074\n",
      "- founders: 1023\n",
      "- genre: 297\n",
      "- has_sibling: 1653\n",
      "- has_spouse: 1986\n",
      "- is_a: 1243\n",
      "- nationality: 940\n",
      "- parents: 885\n",
      "- place_of_birth: 692\n",
      "- place_of_death: 514\n",
      "- profession: 676\n",
      "- worked_at: 829\n"
     ]
    }
   ],
   "source": [
    "def print_number_observations(relations_examples_dict:dict):\n",
    "    print('Number of observations for relation:\\n')\n",
    "    for rel in relations_examples_dict:\n",
    "        i = 0\n",
    "        for ex in relations_examples_dict[rel]:\n",
    "            i += len(relations_examples_dict[rel][ex])\n",
    "        print(f'- {rel}: {i}')\n",
    "        \n",
    "print_number_observations(relations)"
   ]
  },
  {
   "cell_type": "code",
   "execution_count": 5,
   "metadata": {},
   "outputs": [],
   "source": [
    "import numpy as np\n",
    "import pandas as pd\n",
    "from sklearn import preprocessing\n",
    "from sklearn.model_selection import train_test_split\n",
    "\n",
    "def _generate_data_for_relation(relations_examples_dict:dict):\n",
    "    X = []\n",
    "    Y = []\n",
    "    for rel in relations_examples_dict:\n",
    "        for ex in relations_examples_dict[rel]:\n",
    "            X.extend(relations_examples_dict[rel][ex])\n",
    "            Y.append(rel)\n",
    "    X = np.array(X)\n",
    "    Y = np.array(Y)\n",
    "    return X, Y\n",
    "\n",
    "def generate_splits(X:np.array, y:np.array, test_size=float):\n",
    "    X_train, X_test, y_train, y_test = train_test_split(X, y, test_size=test_size)\n",
    "    lb = preprocessing.LabelBinarizer()\n",
    "    y_train_bin = lb.fit_transform(y_train)\n",
    "    y_test_bin = lb.fit_transform(y_test)\n",
    "    return X_train, X_test, y_train_bin, y_test_bin, lb.classes_\n",
    "\n",
    "def _generate_logic_features(relations_examples_dict_text:dict):\n",
    "    X_text = []\n",
    "    for key in relations_examples_dict_text:\n",
    "        text = list(map(lambda x:relations_examples_dict_text[key][x], \n",
    "                        relations_examples_dict_text[key].keys()))\n",
    "        X_text.extend(text)\n",
    "\n",
    "    X_logic = []\n",
    "    for i in range(len(X_text)):\n",
    "        and_ = 0\n",
    "        or_ = 0\n",
    "        but_ = 0\n",
    "        for j in range(len(X_text[i])):\n",
    "            if X_text[i][j] == 'and':\n",
    "                and_ += 1\n",
    "            elif X_text[i][j] == 'or':\n",
    "                or_ += 1\n",
    "            elif X_text[i][j] == 'not':\n",
    "                but_ += 1\n",
    "        X_logic.append([and_, or_, but_])\n",
    "        \n",
    "    return np.array(X_logic)\n",
    "\n",
    "def _generate_random_features(relations_examples_dict_text:dict):\n",
    "    X_text = []\n",
    "    for key in relations_examples_dict_text:\n",
    "        text = list(map(lambda x:relations_examples_dict_text[key][x], \n",
    "                        relations_examples_dict_text[key].keys()))\n",
    "        X_text.extend(text)\n",
    "\n",
    "    X_logic = []\n",
    "    for i in range(len(X_text)):\n",
    "        and_ = 0\n",
    "        or_ = 0\n",
    "        but_ = 0\n",
    "        for j in range(len(X_text[i])):\n",
    "            if X_text[i][j] == ',':\n",
    "                and_ += 1\n",
    "            elif X_text[i][j] == 'km':\n",
    "                or_ += 1\n",
    "            elif X_text[i][j] == 'She':\n",
    "                but_ += 1\n",
    "        X_logic.append([and_, or_, but_])\n",
    "        \n",
    "    return np.array(X_logic)"
   ]
  },
  {
   "cell_type": "code",
   "execution_count": 6,
   "metadata": {},
   "outputs": [],
   "source": [
    "all_text = [relations_examples_text[i][j] for i in relations_examples_text\n",
    "            for j in relations_examples_text[i]]"
   ]
  },
  {
   "cell_type": "code",
   "execution_count": 7,
   "metadata": {},
   "outputs": [],
   "source": [
    "from nltk import word_tokenize\n",
    "\n",
    "tokens = []\n",
    "for i in all_text:\n",
    "    for j in i:\n",
    "        tokens.extend(word_tokenize(j))\n",
    "        \n",
    "from nltk import FreqDist\n",
    "\n",
    "frequencies = FreqDist(tokens)"
   ]
  },
  {
   "cell_type": "code",
   "execution_count": 8,
   "metadata": {},
   "outputs": [
    {
     "name": "stdout",
     "output_type": "stream",
     "text": [
      "27290\n",
      "472\n",
      "119\n"
     ]
    }
   ],
   "source": [
    "print(frequencies['and'])\n",
    "print(frequencies['or'])\n",
    "print(frequencies['not'])"
   ]
  },
  {
   "cell_type": "code",
   "execution_count": 362,
   "metadata": {
    "collapsed": true
   },
   "outputs": [
    {
     "data": {
      "text/plain": [
       "[(',', 53475),\n",
       " ('and', 27290),\n",
       " ('the', 18076),\n",
       " ('of', 12768),\n",
       " ('in', 10781),\n",
       " ('.', 6885),\n",
       " ('(', 5942),\n",
       " ('by', 4897),\n",
       " ('to', 4695),\n",
       " ('is', 3723),\n",
       " (')', 3638),\n",
       " ('a', 3329),\n",
       " (\"'s\", 2474),\n",
       " ('from', 2437),\n",
       " ('was', 2077),\n",
       " ('at', 1921),\n",
       " ('on', 1766),\n",
       " ('as', 1683),\n",
       " ('with', 1560),\n",
       " ('his', 1551),\n",
       " ('It', 1428),\n",
       " ('The', 1254),\n",
       " ('s', 997),\n",
       " ('film', 904),\n",
       " ('wife', 890),\n",
       " ('north', 873),\n",
       " ('located', 871),\n",
       " ('[', 858),\n",
       " (']', 834),\n",
       " (';', 814),\n",
       " ('south', 784),\n",
       " ('for', 755),\n",
       " ('west', 706),\n",
       " ('``', 678),\n",
       " ('son', 671),\n",
       " ('an', 669),\n",
       " ('born', 659),\n",
       " ('who', 639),\n",
       " ('east', 626),\n",
       " ('‘', 590),\n",
       " ('city', 587),\n",
       " ('capital', 583),\n",
       " (':', 565),\n",
       " ('-', 563),\n",
       " ('’', 559),\n",
       " ('between', 559),\n",
       " ('her', 541),\n",
       " ('near', 537),\n",
       " ('km', 527),\n",
       " ('after', 502),\n",
       " ('northern', 487),\n",
       " ('or', 472),\n",
       " ('which', 470),\n",
       " ('brother', 464),\n",
       " ('including', 463),\n",
       " ('southern', 459),\n",
       " ('first', 459),\n",
       " ('also', 455),\n",
       " ('it', 455),\n",
       " ('are', 434),\n",
       " ('its', 424),\n",
       " ('he', 395),\n",
       " ('that', 392),\n",
       " ('family', 380),\n",
       " ('American', 377),\n",
       " ('about', 371),\n",
       " ('New', 359),\n",
       " ('such', 357),\n",
       " ('United', 350),\n",
       " ('daughter', 350),\n",
       " ('where', 349),\n",
       " ('miles', 348),\n",
       " ('He', 341),\n",
       " ('India', 341),\n",
       " ('founded', 335),\n",
       " ('parts', 331),\n",
       " ('state', 325),\n",
       " ('into', 320),\n",
       " ('In', 319),\n",
       " ('part', 317),\n",
       " ('especially', 315),\n",
       " ('founder', 313),\n",
       " ('movie', 311),\n",
       " ('&', 297),\n",
       " ('States', 272),\n",
       " ('%', 270),\n",
       " ('husband', 267),\n",
       " ('I', 266),\n",
       " ('eastern', 259),\n",
       " ('now', 258),\n",
       " ('written', 258),\n",
       " ('married', 256),\n",
       " ('one', 254),\n",
       " ('former', 252),\n",
       " ('Pakistan', 250),\n",
       " ('western', 247),\n",
       " ('but', 245),\n",
       " ('situated', 244),\n",
       " ('through', 243),\n",
       " ('most', 241),\n",
       " ('South', 238),\n",
       " ('up', 238),\n",
       " ('/', 232),\n",
       " ('were', 227),\n",
       " ('Canada', 227),\n",
       " ('has', 226),\n",
       " (\"'\", 222),\n",
       " ('known', 222),\n",
       " ('–', 220),\n",
       " ('town', 217),\n",
       " ('then', 213),\n",
       " ('Germany', 213),\n",
       " ('bordered', 213),\n",
       " ('novel', 206),\n",
       " ('England', 205),\n",
       " ('had', 205),\n",
       " ('King', 205),\n",
       " ('region', 204),\n",
       " ('countries', 200),\n",
       " ('father', 197),\n",
       " ('President', 194),\n",
       " ('island', 194),\n",
       " ('North', 193),\n",
       " ('Italy', 192),\n",
       " ('sister', 190),\n",
       " ('along', 184),\n",
       " ('China', 182),\n",
       " ('later', 180),\n",
       " ('lies', 176),\n",
       " ('author', 176),\n",
       " ('2', 175),\n",
       " ('British', 175),\n",
       " ('northwest', 174),\n",
       " ('two', 174),\n",
       " ('”', 174),\n",
       " ('1', 173),\n",
       " ('southwest', 172),\n",
       " ('second', 172),\n",
       " ('well', 171),\n",
       " ('coast', 170),\n",
       " ('particularly', 169),\n",
       " ('director', 162),\n",
       " ('southeast', 161),\n",
       " ('famous', 160),\n",
       " ('actor', 158),\n",
       " ('late', 157),\n",
       " ('around', 155),\n",
       " ('“', 154),\n",
       " ('called', 152),\n",
       " ('she', 152),\n",
       " ('largest', 151),\n",
       " ('became', 151),\n",
       " ('president', 151),\n",
       " ('area', 150),\n",
       " ('have', 150),\n",
       " ('found', 148),\n",
       " ('northeast', 148),\n",
       " ('leader', 147),\n",
       " ('under', 146),\n",
       " ('states', 144),\n",
       " ('actress', 144),\n",
       " ('be', 143),\n",
       " ('just', 143),\n",
       " ('both', 141),\n",
       " ('English', 141),\n",
       " ('other', 140),\n",
       " ('central', 140),\n",
       " ('led', 140),\n",
       " ('Africa', 138),\n",
       " ('over', 138),\n",
       " ('France', 137),\n",
       " ('based', 137),\n",
       " ('Australia', 135),\n",
       " ('borders', 135),\n",
       " ('home', 131),\n",
       " ('province', 130),\n",
       " ('West', 128),\n",
       " ('border', 128),\n",
       " ('been', 128),\n",
       " ('named', 128),\n",
       " ('Laos', 128),\n",
       " ('comedy', 128),\n",
       " ('co-founder', 128),\n",
       " ('America', 127),\n",
       " ('character', 127),\n",
       " ('York', 124),\n",
       " ('Nepal', 124),\n",
       " ('Bangladesh', 124),\n",
       " ('Republic', 122),\n",
       " ('while', 122),\n",
       " ('Central', 122),\n",
       " ('borough', 122),\n",
       " ('A', 121),\n",
       " ('mi', 120),\n",
       " ('She', 120),\n",
       " ('Mexico', 119),\n",
       " ('not', 119),\n",
       " ('died', 118),\n",
       " ('approximately', 118),\n",
       " ('films', 118)]"
      ]
     },
     "execution_count": 362,
     "metadata": {},
     "output_type": "execute_result"
    }
   ],
   "source": [
    "frequencies.most_common(200)"
   ]
  },
  {
   "cell_type": "code",
   "execution_count": 358,
   "metadata": {
    "collapsed": true
   },
   "outputs": [
    {
     "data": {
      "text/plain": [
       "dict_keys([',', 'Sweden', 'nor', 'Ireland', 'and', '[', '26', ']', 'northern', 'extending', 'south', 'into', 'Athens', 'the', 'United', 'States', 'Italy', 'Kingdom', 'until', 'amnesty', 'of', '1847', '.', 'He', 'then', 'returned', 'to', 'Mediterranean', 'countries', 'like', 'Germany', 'England', 'from', 'Hundred', 'Years', '’', 'War', 'Britain', 'French-speaking', 'world', 'Russia', '67,785', '(', '10.33', '%', ')', 'USA', '63,275', '9.64', 'Belgium', 'Catalonia', 'which', 'lies', 'in', 'eastern', '45', 'production', 'also', 'Portugal', 'Loterías', 'y', 'Apuestas', 'del', 'Estado', 'Poland', 'Greece', 'back', 'Holland', 'loup-garou', 'lycanthropos', 'Benelux', 'Israel', 'accounting', 'for', 'PCF', 'but', 'Liber-T', 'system', 'Telepass', 'Netherlands', 'US', 'China', 'allies', 'with', 'UK', 'Senegal', 'EU', ';', 'on', 'many', 'other', 'places', 'times', 'ETA', 'is', 'considered', 'by', 'Romania', 'i', 'north', 'Switzerland', 'obscure', 'Britonia', 'what', 'now', 'Galicia', 'or', 'edit', 'Spanish', 'they', 'are', 'frequently', 'found', '3,700', '1,600', '400', 'Great', 'Madrid', 'Barajas', 'International', 'Airport', 'Vietnam', 'tomoi', 'Malaysia', 'muay', 'Lao', 'Huay', 'Xai', 'its', 'west', 'northwest', 'near', 'Vientiane', 'possibly', 'Philippines', 'similar', 'neighboring', 'part', 'West', 'Singapore', '/', 'Taiwan', 'Laotian', 'national', 'language', 'Myanmar', 'Cambodia', 'Mallory', 'visited', 'through', 'including', 'Phuket', '8', 'But', 'there', 'no', 'confirmed', 'records', 'Burma', 'highlands', 'joined', '1995', '2', 'Newfoundland', 'Labrador', 'provinces', 'Fahrzeugfabrik', 'Eisenach', 'Puerto', 'Rico', 'and/or', 'parts', 'Pentapolis', 'Ethiopia', 'all', 'land', 'attacks', 'American', 'embassies', 'Chris', 'Stevens', 'The', 'largest', 'attack', 'occurred', 'western', 'Syria', 'Nigeria', 'others', 'except', 'Kuwait', 'Lebanon', 'Bahrain', 'Iraq', 'southwest', 'Turkey', 'a', 'On', 'Arabian', 'Peninsula', ':', 'bordering', 'Canadian', 'British', 'Columbia', 'southern', 'In', '1874', 'portion', 'present', 'El', 'Salvador', 'Mexico', 'Guatemala', 'Rio', 'Grande', '-', 'Costa', 'Rica', 'Pacific', 'lowlands', 'Honduras', 'Chile', 'Jamaica', '1', 'It', 'has', 'following', 'Dominican', 'Republic', 'Punjab', 'southeast', 'Orissa', 'Kerala', 'Madhya', 'Pradesh', 'Delhi', 'down', '161,000', 'Eastern', 'HimachalPradesh', 'Uttarakhand', 'Uttar', '24', '25', 'New', 'remainder', 'York', 'State', 'Australia', 'Zealand', '–', 'May', '1984', 'Mount', 'Kisco', 'was', 'aired', 'April', '2011', 'since', 'spread', 'Neumann', 'Bohemia', 'Father', 'Damien', '77', 'per', 'cent', 'Kent', \"'s\", 'Cavern', 'Han-sur-Lesse', 'French-Speaking', 'Finland', 'Spain', 'will', 'welcome', 'voters', 'France', 'an', 'official', 'holiday', 'Luxembourg', '1944', 'two', 'styles', 'music', 'who', 'originated', 'via', '214', 'Croix', 'de', 'Guerre', '1940', 'Palm', 'south-west', 'Morocco', '18th', '``', 'Top', '20', 'completed', 'Solvay', 'Business', 'School', 'Brussels', 'invades', 'Austrian', 'day', 'South', 'Korea', 'about', '500', 'accept', 'that', 'independence', 'Pakistan', '“', 'samosa', '”', 'India', 'samboosa', 'Afghanistan-', 'Kazakhstan', 'Uzbekistan', 'Iran', 'They', 'live', 'adjacent', 'areas', '3', 'he', 'four', 'voyages', 'across', 'highest', 'point', 'east', '1902', 'Texas', 'Arizona', 'Kansas', 'Albuquerque', '1907', 'Located', 'close', 'border', 'Because', '7', 'ending', 'U.S.', '620', 'km', 'Die', 'total', 'kaputten', 'Kids', 'Brazil', 'Georgia', '4', 'it', 'government-mandated', '35', 'hours', 'week', 'Koln', 'Czech', 'Artois', 'Nord', 'small', 'Estonia', 'Low', 'Countries', 'Goethe', 'at', 'Hainan', 'Bendorf', 'five', 'editions', 'building', 'army', 'were', 'both', 'aimed', 'glorifying', 'Institut', 'fÌr', 'Rundfunktechnik', 'Denmark', 'pestilence', 'declaring', 'war', 'game', 'be', 'broadcast', 'W9', '*', 'Lage', 'Alstom', 'Saudi', 'Arabia', 'Beez', 'Entertainment', 'Shin', 'Vision', 'most', 'popularly', 'Ghana', 'occupy', 'Ruhr', 'area', 'force', 'against', 'Gabon', 'Gambia', 'Centre', 'Culturel', 'Français', 'June', '28th', '1919', 'terms', 'forced', 'Wittlich', '1881', '1883', 'during', 'World', 'II', 'mission', '2000', 'GT-R', 'ST162', 'Miber', 'made', 'surrenders', '61', '58', '27.03', 'credits', 'i.e', 'French', 'Connection', 'processing', 'early', 'stages', 'Canada', 'University', 'Munich', 'Baden', 'region', 'eight', 'weeks', 'Flanders', 'surrendered', 'Walter', 'President', 'Nicolas', 'Sarkozy', 'would', 'control', 'because', 'issue', 'joint', 'ultimatum', 'Mayen', 'later', 'additionally', 'borders', 'today', 'Kosovo', 'Macedonia', '11', 'Perth', 'if', 'we', 'had', 'time', 'visit', 'bordered', 'San', 'Francisco', 'Bay', 'major', 'port', 'city', 'may', 'peninsulas', 'Western', 'Indonesia', 'Province', 'been', 'disputed', 'between', 'Oregon', 'chartered', 'raised', 'Keene', 'Erie', 'buried', 'Janakpur', 'Kathmandu', 'located', 'this', 'varying', 'degrees', 'as', 'well', 'Nishapur', 'present-day', 'Khuzestan', 'invaded', '&', 'northeast', 'perhaps', '41', '9', '46', 'smaller', 'communities', 'northwestern', 'eventually', 'Afghanistan', 'Shiite', 'northeastern', 'mess', \"'re\", 'start', 'them', 'southwestern', 'Persia', 'modern', 'behalf', 'Press', 'TV', 'Egypt', 'launched', 'full-scale', 'invasion', 'Tehran', 'Native', 'Armenia', 'Susa', 'Malamir', 'traditional', 'rival', '1983', 'Libya', 'Elam', 'current', '~', 'Kenya', '1962', 'WBS', 'Bukoba', 'Mwanza', 'Msoma', 'na', 'Dar', 'es', 'Salaam', 'Mkapa', 'Mwananchi', 'Communications', 'Ltd', 'MCL', '31,000', '/12,000', 'sq', 'mi', 'Rwanda', 'Northern', 'Mozambique', 'DRC', 'Ajmer', 'Haryana', 'Sindh', 'majority', 'regions', 'Pakistani', 'Sind', 'Himachal', '1.6', 'Ukraine', '3.8', 'Bulgaria', 'Outlands', 'Serbia', 'thus', 'corresponds', 'main', 'Montenegro', 'should', 'show', 'frontiers', 'Florida', 'Latvia', 'Suwalki', 'Belarus', 'created', 'case', 'Malta', 'Small', 'numbers', 'inhabit', 'Free', 'City', 'Danzig', 'while', 'his', 'great-grandfather', 'emigrated', 'There', 'number', 'Tiruvallur', 'Chengalpet', 'Haiti', 'Zimbabwe', 'fuel', 'stop', 'before', 'heading', 'Sudan', 'southeastern', 'Congo', 'Arkansas', 'larger', 'increase', 'than', 'Nationally', 'claims', 'decreased', '12,000', '377,000', 'Kentucky', 'Yet', 'state', 'promoting', 'employers', 'up', 'Baker', 'Beach', 'offers', 'beautiful', 'views', 'Oklahoma', 'Knoxville', 'Joelton', 'Spring', 'Hill', 'Virginia', '1951', 'nearby', 'Musandam', 'exclave', 'Jordan', 'Qatar', '83', '80', 'UAE', 'Beirut', 'finally', 'Muscat', 'went', 'recognizes', 'called', 'Veraniño', 'Martiño', 'King', 'formerly', 'Austria', 'Canary', 'Islands', 'recognized', 'defeated', 'Andorra', '38', '2,500', 'Japan', 'settled', 'friends', 'Haringey', 'Bosnia', 'Episode', 'Delight', 'home', 'dependency', 'Hebrides', 'Kiribati', 'Alaska', '1986', 'connected', 'North', 'bodies', 'water', 'Northwest', 'mainland', 'portions', 'Peru', 'Trinidad', 'Tobago', 'previously', 'Guiana', 'Dutch', 'English', '1966', 'sits', 'shadow', 'Missouri', 'Ohio', 'To', 'Thailand', 'Red', 'Sea', '15.92', '14.3', 'Arab', 'Emirates', 'sultanate', 'Yemen', 'currently', 'I', 'am', 'my', 'fourth', 'term', 'Argentina', 'Bolivia', 'Ciudad', 'Este', 'far', 'Uruguay', 'Ecuador', 'Delta', 'Amacuro', 'Venezuela', 'used', 'writ', 'followed', 'Colombia', 'Solomon', 'Loyalty', 'Zenadh', 'Kes', 'Torres', 'Strait', 'stretching', 'westernmost', 'population', '1859', 'extends', 'Alcoota', 'Station', 'Victoria', 'Wales', 'Kimberley', 'panhandle', 'Wyoming', 'canton', 'Valais', 'section', 'central', 'Yunnan', 'province', 'japonica', 'Suvarnabhumi', 'Tibet', 'Indochina', 'Southern', 'pop', '8.4M', '2005', 'est', 'Cote', \"d'Ivoire\", 'Chad', 'Cameroon', 'Thuringia', 'just', 'Nuevo', 'Santander', 'plus', 'secession', 'became', 'Ambassador', 'decimalised', 'pound', 'sterling', 'Paramount', 'Comedy', 'Outside', 'where', 'Boxing', 'Day', 'some', 'Commonwealth', 'nations', 'lesser', 'extent', 'executive', 'office', 'Dublin', 'Scotland', 'Barbara', 'Boxer', 'former', 'congresswoman', 'opening', 'strait', 'connecting', 'Straight', 'connects', 'Golden', 'Gate', 'arid', 'occupation', 'anticipation', 'combat', 'operations', 'Saddam', 'Hussein', 'rightly', 'Saint', 'John', 'River', 'Valley', 'Prince', 'Edward', 'Island', 'Hopewell', 'Rocks', 'modern-day', 'included', 'Ontario', 'credit', 'union', 'systems', 'Nova', 'Scotia', 'Tonga', 'southward', 'Papua', 'Guinea', 'coastal', 'tvarohovnik', 'Slovak', 'sernik', '31', 'Significant', 'minority', 'populations', 'feel', 'decisions', 'independent', 'north-eastern', 'Córdoba', 'Mauritania', 'converted', 'Temne', 'Mali', 'Liberia', 'female', 'masks', 'Central', 'cable', 'along', 'Pilots', 'reported', 'noticing', 'blast', 'grew', 'Queens', 'boroughs', 'No', 'events', 'held', 'Bronx', 'County', 'Richmond', 'spoken', 'after', '1810', 'Maine', 'Iowa', 'born', 'Milton', 'Rhode', 'excluding', 'Southwestern', 'Connecticut', 'District', 'Delaware', 'Maryland', 'Utah', '5', 'January', '2008', '10', 'miles', 'Oregon-', 'Engler', 'dan', 'Chicago', 'metro', 'symbol', 'peace', 'bird', 'Escanaba', 'Forest', 'Cheboygan', 'Rick', 'Snyder', 'refugee', 'Burundi', 'Garamba', 'Virunga', 'National', 'Park', 'T', 'anzania', 'Parc', 'des', 'Cuba', 'Africa', 'Croatia', 'accepts', 'over', 'Republika', 'Srpska', 'Serbian', 'entity', 'one', 'dump', 'shore', 'town', 'cities', 'next', 'right', 'street', 'Idaho', 'Dakota', 'Washington', 'reaching', 'furthest', 'Parklands', 'Shop-In', '13', '1.5', '2.4', 'offshore', 'Hungary', '6', 'Lithuania', 'evolved', 'Mecklenburg-Vorpommern', 'Saxony', 'Australian', 'fifth', 'common', '1993', 'teams', 'based', 'even', 'matter', 'seconds', 'Tasmania', 'country', 'continent', 'species', 'hunted', 'extinction', 'single', 'endemic', 'stamp', 'issues', 'Southeast', 'Asia', 'Europe', 'final', 'event', 'Games', 'introduced', 'Marmite', 'Promite', 'Oxo', 'Brookvale', 'NSW', 'Suva', 'Fiji', 'Whenuapai', 'Bali', 'Mentawais', '$', '19.6', 'million', 'playing', 'play', 'toured', 'Defence', 'Signals', 'Directorate', 'February', '19', '2009', 'Later', 'P', 'O', 'service', 'sailed', 'top', 'forty', 'under', 'Young', 'Offenders', 'Act', '1997', 'Melanesia', 'America', '39', 'Hong', 'Kong', 'Middle', 'East', 'AUS', '>', 'Cavy', 'Council', '109', '180', 'three', 'cumbungi', 'bulrush', '8,000', '40,455', '37,946', 'when', 'Ibagli', 'passed', 'November', '16', '23', 'only', '1924', 'ball', 'extended', '2010', '133', '100,000', 'TVNZ', 'TV2', '1606', 'led', 'bu', 'lrush', 'around', 'jandals', 'coast', 'Maori', 'tribes', 'Global', 'TV3', 'possums', 'began', 'September', 'Fox8', 'almost', 'soon', 'colonization', '1788', '159', '14', 'Territory', 'Wairere', 'Boulders', 'AU', '43', 'circumnavigations', '169', 'Jersey', 'Oak', 'Bluffs', 'Martha', 'Vineyard', 'Kennedy', '1885', 'Paraguay', 'more', 'recently', '1988', 'Villas', 'Miseria', 'backed', '27', 'Amazonas', 'basin', 'N', '28', '92', 'longtime', 'market', 'leader', 'Buenos', 'Aires', 'Indiana', 'Gridiron', 'field', 'producer', 'Inside', 'Edition', 'Massachusetts', 'Catskills', 'do', 'Minnesota', 'Robert', 'Livingston', 'drove', 'Herzegovina', 'Rumania', 'Bosnia-Herzegovina', '1991', '1992', 'Serbs', 'southcentral', '932', 'Slovenia', 'Dalmatia', '4.5', 'Other', 'companies', 'adjoining', 'South-Western', 'minor', 'Paris', 'Total', '2,304,000', 'Huguenots', 'declared', 'joining', 'Basque', '2006', 'farther', 'Castile', 'Cuatro', 'ceded', 'confine', 'popular', 'Latin', 'distant', 'gave', 'women', 'vote', '1931', 'Lowson', 'several', 'trips', 'died', '1973', 'aged', '91', 'Mougins', 'Philadelphia', 'Upstate', 'Lake', '49', '50', 'Slate', 'Vermont', 'Michigan', 'December', 'D.C.', '1849', 'painter', 'Brooklyn', 'Sol', 'Bloom', 'me', 'Moldova', 'central/northern', 'Kilimanjaro', 'Marwar', '215', 'diversion', 'off', 'Jodhpur', 'kingdom', 'Bundi', 'defines', 'Asmara', 'Eritrea', 'Cairo', 'Khartoum', 'Somalia', 'zones', 'Yukon', 'Territories', 'Saskatchewan', 'Midwestern', 'Origin', 'Burkina', 'Faso', '1917', '--', 'mainly', 'Ocean', '‘', 's', 'taken', 'light', 'outwith', 'l', 'eaders', 'Government', 'Odessa', 'Russian', 'Federation', 'standing', 'temptations', 'big', 'Powers', 'probably', '1980', 'demand', 'gain', 'sovereignty', 'Tunisia', 'Equatorial', 'Niger', 'few', 'kilometers', 'Sahrawis', 'extreme', 'living', 'listed', '29', 'rarely', 'Railway', 'Co.', '-04', 'president', '34', 'Edessa', 'oik', 'territory', 'separate', 'administered', 'gained', 'gains', 'self', 'government', 'Equator', 'Timor', 'Leste', 'declining', 'rapidly', 'neighbouring', 'ranked', 'Senator', 'Governor', 'Bob', 'Kerrey', '40', '37', 'Nay', '21', '1872', 'London', '1,900', '700', 'named', 'Skagen', 'Antarctica', 'native', 'periphery', 'seceeded', 'secedes', 'Highway', 'NH45', 'Kanchipuram', 'Brythonic', 'heathlands', 'Wells', 'Cornovii', 'left', 'Gloucestershire', 'Liverpool', '5.2', 'geographically', 'within', 'Casco', 'Palestinian', 'territories', 'Six', 'Petra', 'neighbours', 'Palestine', 'Aqaba', 'Cyprus', 'Bank', 'Togo', '1947', 'renamed', 'Mecklenburg', 'Bloomington', 'half', '10.3', 'annulled', 'their', 'alliance', \"'Boyar\", \"'\", 'eastward', 'annul', 'autonomy', 'Upper', 'Moesia', 'Baltic', 'form', 'Opari', 'Tanzania', '33', 'Darfur', 'caught', '82', 'bus', 'Groningen', 'Heerenveen', 'Sri', 'Lanka', '=', 'Laos', 'Siam', 'Andaman', 'Nepal', 'imposed', 'religion', 'Guyana', 'Panama', 'St.', 'Vincent', 'Nicaragua', '1,110', 'cases', 'femicide', 'Belize', 'Hedjaz', 'Patriotic', 'enjoying', 'Tikal', 'away', 'MÌnster', 'Hannover', 'Balkhash', 'Alakol', 'Kyrgyzstan', 'Kyrgistan', 'Mongolia', 'Tajikistan', 'Tajikista', 'n', 'Baluchistan', 'Marshall', 'Madagascar', 'piece', 'Saarland', 'desert', 'nearly', 'Niamey', 'Algeria', 'Agadez', 'Marche', 'Kickapoo', 'Traditional', 'Tribe', 'Tennessee', 'narrow', 'belt', 'Shelby', 'Carolina', 'Railroad', 'refuses', 'go', 'Mississippi', 'Balkan', 'somewhere', 'approximately', '15', 'navy', 'base', '60', 'Abu', 'Dhabi', 'annexation', 'response', '65', '17', 'occupies', 'out', 'declares', 'advance', 'nation', 'did', 'not', 'withdraw', 'forces', 'north-east', 'reminds', 'neighbor', 'accused', 'liberation', 'oil-rich', 'speech', 'claimed', 'Bielorussia', '30,000', 'pairs', 'Lviv', 'Dubrovytsia', 'Soviet', 'Union', 'nowadays', 'instead', 'invading', 'position', 'Slovakia', 'citation', 'needed', 'lying', 'RPC', 'Canal', 'End', '59', 'Tel', 'Aviv', '1972', 'Massacre', 'An', 'agreement', 'sale', 'Chieftains', 'Manhattan', 'Staten', 'This', 'train', 'stopped', 'composed', 'Sylhetis', 'mostly', 'borough', 'heroin', 'dealer', 'attempted', 'murder', 'Broker', 'Kings', 'Majesta', 'representing', 'become', 'Algonquin', 'Technical', 'High', 'Williamsburg', 'Bashkortostan', 'banks', 'Nandi', 'Escarpment', 'beyond', 'landing', 'Kampala', 'shared', 'Kasese', 'Gulf', 'UCSD', 'stood', 'busy', 'much', 'e.g', 'Chinese', 'African', 'Greater', 'Inner', '1.4', 'percent', 'Aboriginal', '1.1', 'Wisconsin', 'German', 'Nordic', 'those', 'Mark', 'Rieser', 'Horn', 'Borrelia', 'isolated', 'Northeast', 'Suriname', 'our', 'way', 'A', 'short', 'passage', 'blackberries', 'Rathcormack', 'least', '18', 'killed', 'California', '0.42', 'Immigrants', 'Borneo', 'shares', 'Brunei', 'Weepa', '0.1', 'Rockhampton', 'second', 'islands', 'south-east', 'Davis-Monthan', 'AFB', 'although', 'shorter', 'Paiute', '1864', '1896', 'Las', 'Cruces', 'Paso', '44', '36', 'Nevada', 'grows', 'wild', 'observed', 'Austin', 'Pennsylvania', 'near-west', 'Paul', 'Johnson', 'removed', 'B.S', \"'86\", 'studied', 'return', 'stolen', 'items', 'annexing', 'Balochistan', '2.74', 'Sistan', 'Jiroft', 'Bangladesh', '1957', 'Sluys', 'being', 'sold', '6,214', 'MG', '1A3', '2.7', 'Zia-ul-Haq', 'exception', 'surrounds', 'Beijing', '75', 'subsequent', 'drive', 'island', 'Hispaniola', 'forms', 'two-thirds', 'capita', 'income', 'roughly', 'six', 'have', 'spiritual', 'reasons', 'Cahuachi', 'Nazca', '55', 'sources', 'Equador', 'Amazonian', 'forests', 'represent', 'south-eastern', 'Goiás', 'thought', 'proficient', 'Then', 'traveled', 'easternmost', 'Crescent', 'together', 'potential', 'conflict', 'Waitemata', 'Harbour', 'branch', 'Uganda', 'inhabited', 'Portuguese', 'colonies', 'raids', 'Botswana', 'northeasterly', 'Caprivi', 'Strip', 'increasingly', 'aggressive', 'export', '120,000', 'workers', 'Anton', '13,000', '1936', 'Damascus', 'inland', 'include', 'people', 'As', '427,057', 'large', '3,000', 'Al', 'Hamidiyah', '2003', '1952', 'Asian', 'Turkistan', 'kin', '/northern', 'Turkmen', 'Adogony', 'Baudouin', 'Euloge', 'Lower', 'head', 'further', 'mayor', 'Herbert', 'Weichmann', 'federal', 'overthrow', 'Ivory', 'Coast', '1997-1999', '63', '1997–1999', 'Syracuse', 'Hampshire', 'Palmyra', '70', 'upstate', 'Adirondack', 'Mountains', 'Region', 'sections', 'Nebraska', 'hhgregg', 'remains', 'competitive', 'Felipe', 'Desert', '1858', 'Fritz', 'Barrier', 'Adelaide', 'Ionian', 'Duquesne', 'little', 'oasis', 'date', 'palms', 'call', 'outskirts', 'Districts', 'Manesar', 'Somali-speaking', 'speakers', 'Sidamo', 'Somaliland', 'chat', 'last', 'group', 'Ogaden', '…', '432', 'km/268', 'Transcaucasus', 'Hereti', 'Saingilo', 'Quebec', 'Vienna', 'Peter', 'Habeler', '7,111', 'ex-', 'Yugoslavia', '794', 'peaking', '#', 'flows', 'Tirol', 'Carinthia', '1985', 'Shaanxi', 'Chahar', '9,719,932', '95', '9,233,935', '+', '476,277', 'T-Vice', 'performed', '8.5', '8.7', 'Turkmenistan', 'Kerch', 'controlled', 'local', 'firm', 'Derways', 'Ren-TV', 'pass', 'transit', 'Byelorussia', 'Samoa', 'cut', 'gas', 'exports', 'Little', 'points', 'Crimea', 'identify', 'rural', 'planned', 'Isle', 'Dogs', 'financial', 'district', 'known', 'Many', 'evacuated', 'Siberia', 'tiny', 'principality', 'banned', 'French-occupied', 'However', 'still', 'move', 'exist', 'sizeable', 'dead', 'wounded', 'Riots', 'partly', 'Mgahinga', 'Gorilla', '–Tanzania', 'Burundi–Rwanda', 'Tanzania–', 'Democratic', 'Rwenzori', 'Burund', '-Tanzania', 'Tanzania-', 'north-central', 'claim', 'lakes', 'one-upmanship', 'usually', 'north-western', 'does', 'reach', 'Alberta', 'separates', 'channel', 'crash-landing', 'particularly', 'Appenzell', 'U.S.A.', 'eleven', 'imported', 'Bavaria', 'place', 'Land', 'Salzburg', 'Jura', 'Alp-Sennereien', 'she', 'makes', 'her', 'retreated', '115', 'glaciers', 'Vogerlsalat', 'Voltige', '13.3', 'Samichlaus', 'rented', 'version', 'Hahnenkamm', 'KitzbÌhel', '1278', 'came', 'rule', '332,600', '226,850', 'U.A.E', 'Newport', 'Caughnawaga', 'Colonies', 'lived', '94', 'millions', 'TVP1', 'People+Arts', 'SIC', 'Radical', 'August', 'Bialowieza', 'Czechoslovakia', 'July', '2007', 'Petersburg', '7.2', 'abdicate', 'exiled', 'various', 'Constituent', 'republic', 'segment', 'Indian', 'northward', 'Oceans', 'heart', 'Azerbaijan', 'Bishkek', 'goes', 'among', 'Mosuo', 'surrounding', 'Baja', 'Mexican', 'troops', 'see', 'wilderness', 'exodus', 'coalition', 'states', 'backing', 'armies', 'Sinai', '1.3', 'billion', 'immediately', 'Anwar', 'Sadat', 'intervene', 'migrated', 'neighbors', 'another', 'band', 'Chihuahua', 'ocean', 'originates', 'Lawrence', 'Seaway', 'Caribbean', 'drain', 'side', 'Cedar', 'Key', 'enters', 'third', 'grower', 'Volcanoes', 'north-west', 'delegation', 'why', 'Mayange', 'refugees', 'non-residential', 'Melbourne', 'Docklands', 'G', 'user', 'road', 'seen', 'boxing', 'discovered', 'took', 'absorbed', 'Vu', 'Quang', 'Nature', 'Reserve', 'Repuglic', 'Benin', 'Visakhapatnam', 'Taluks', 'situated', 'bank', 'Fleet', 'Street', 'range', 'parallel', 'capital', 'warship', 'visiting', 'pilot', 'migrates', 'formed', 'threatened', 'covers', 'Lowell', 'Champa', '98', 'Chaiya', 'Surat', 'Thani', 'Muay', 'Thai', 'eventual', 'shipwreck', 'middle', '12', '22', 'Altaic', '-speaking', 'believed', 'economically', 'emerging', 'resource-rich', 'Southwest', 'converges', 'possibilities', 'likely', 'Kaunas', 'remained', 'forbidden', '15th', 'century', 'Grand', 'Duchess', 'Kaliningrad', 'Oblast', 'tomorrow', 'didn', 't', 'get', 'stamped', 'loses', 'soccer', 'match', 'occurs', 'private', 'Claudius', 'Gregg', 'Meriwether', 'October', '1904', 'Gresham', 'corner', 'halves', 'work', 'Rogue', 'Illinois', 'Hillsboro', 'Eugene', 'Portland', 'Vancouver', 'Johnstone', 'Tai', 'Chi', 'movements', 'Mid', '1992-1997', 'Naxi', 'primarily', '350', 'Korean', 'peninsula', 'Xinjiang', 'plans', 'operates', 'services', 'Java', 'till', 'reaches', 'woman', 'says', 'Dravidian', '-Andite', 'And', 'global', 'yield', 'Mahindra', 'wood', '12.8', 'Digital', 'Library', 'Bhutan', 'yeesu', '4th', 'millennium', 'BC', '1.2B', 'S', 'economic', 'growth', 'continued', 'plants', 'such', 'Macau', 'Last', 'night', 'cruise', 'Williams', 'paddled', 'raft', 'warmer', 'microclimate', 'Norway', 'Vatican', 'surrounded', 'Sechura', 'Quechuas', 'shows', 'Valdivia', 'NW', 'Lingen', 'Wedde', 'Westerwolde', 'Lordship', 'falling', '4.4', '1.7', 'jaguar', 'R', 'w', 'anda', 'Marino', 'affected', 'More', 'Smaller', '1048', 'Ghazni', '1866', 'exhibited', 'Niagara', 'Falls', 'Peninsulas', 'episode', 'Offenbach', 'Spear', 'Destiny', 'bit', 'Electropaz', 'oceans', 'variant', 'lives', '1361', 'Erleystown', 'record', 'Lofty', 'Ranges', 'Queensland', 'could', 'Lexington', 'Fort', 'Worth', 'Louisville', 'landlocked', 'Namibia', 'Zambia', 'KwaZulu-Natal', 'Angola', 'Queensboro', 'Bridge', 'waterfront', 'Roosevelt', 'Long', 'security', 'chief', 'bound', 'Oman', 'high', 'mountains', 'Transjordan', 'USS', 'Cole', 'bombing', 'Lesotho', 'Limpopo', 'valley', 'river', 'Saxon', '2607', 'Colorado', '1890', 'acquired', 'statehood', 'Thaheem', 'tribe', 'Baloch', 'Chittenden', 'Chester', 'Prague', 'continuing', 'Montana', '2,900', 'Pools', 'county', 'U.S', 'Richard', 'Bassett', 'Cincinnati', 'Saxony-Anhalt', 'throughout', 'year', 'rainforest', 'torresmo', '86', 'People', '25,000', 'murders', 'Bogotá', '7,491', '6,322', 'totally', 'different', 'crashes', 'Fouta', 'Djallon', 'Antilles', 'whereupon', 'moved', 'Joseph', 'Powder', 'Country', 'mamones', 'talpa', 'jocote', '1939', '1942', 'quick', 'folks', 'Manchester', 'Harvard', 'Foxborough', 'Phillips', 'Academy', 'Andover', '234', 'Palestinians', 'non-Arabs', 'jailed', 'Leba', 'non', '64', 'Prime', 'Minister', 'Menachem', 'Begin', 'desire', 'destroy', 'intention', 'waged', 'terror', 'captured', 'diplomatic', 'relations', 'Swaziland', 'Louisiana', '102', '103', 'Marin', 'Monterey', 'starting', 'instrumental', 'taking', '16,500', '14,600', 'headed', 'straight', 'belong', 'easily', 'conquered', 'SPF', 'passing', 'representatives', 'Moravia', 'Duchy', 'Season', 'Scandinavia', 'Magyar', 'tip', '110', '177', 'Los', 'Angeles', 'Short', 'Line', 'Company', 'line', 'Vegas', 'intermontane', 'horse', 'Died', '1933', 'Northampton', 'Coolidge', 'worked', 'ladder', 'Tehama', 'Toulon', 'Cap-Martin', 'kilometres', 'Nice', 'Iberian', 'Marseille', 'travel', 'Seychelles', '310', 'seven', 'visits', '6,000', 'Faramea', 'Guettarda', 'Berkeley', 'Atlantic', '750', '470', 'northernmost', 'Halland', 'Shandong', 'ancillary', 'Biscay', 'deposits', 'electoral', 'votes', 'Nixon', 'picked', 'represented', 'Jackson', 'crosses', 'Amsterdam', 'Knokke-Heist', '1990', 'Trappist', 'brewing', 'abbey', 'diaspora', 'groups', 'Dirk', 'Paesmans', '1965', 'coached', 'Ajax', '1500', 'V', 'Rhine', 'iyo', 'regionally', 'chapters', 'facilities', 'delegations', 'Tanganyika', 'underneath', 'Tirat', 'Hakarmel', 'Diego', 'contiguous', 'Serengeti', 'better', 'gravels', 'Tunduru', 'upper', 'KTN', 'Now', 'painted', 'Wanyamwezi', 'Germans', 'Koraro', 'Mbola', 'Malawi', '1,700', '1,300', 'If', 'ran', 'Bissau', 'Chilies', 'peperoncini', 'typical', '1958', 'occasionally', 'SE', 'Siskiyou', 'Alabama', 'grow', '1980s', 'Although', 'late', '19th', 'deserts', 'partially', 'Irving', 'Fremont', 'generally', 'Dubrovnik', 'placed', '32', '30', '1889', '-90', 'member', 'Brownswille', '2001', 'struck', 'greater', 'remarkable', 'spectacular', 'again', 'marginally', 'Temple', 'Athena', 'Nike', 'Sarasota', 'Jaisalmer', 'Khuri', 'Jangladesh', 'Sierra', 'Leone', 'Horseshoe', 'Leeds', 'Grenville', 'Counties', '?', 'Brantford', 'related', 'Christians', 'sovereign', 'Hamas', 'describes', 'Sport.ro', 'Danube', '1859–78', '29.0', '11.6', '7.650', '6.184', 'UAB', 'hospital', 'Cuttack', 'triangle', 'heavier', 'taste', 'Gujarat', 'largely', 'Amitabh', 'Bachchan', 'Shafqat', 'highly', 'respected', 'purported', 'descendents', 'North-Western', 'Panipat', 'Assam', '11.0', 'ally', 'Ladakh', 'Ganges', 'Begram', 'Mathura', 'Muzaffarnagar', 'tropical', 'languages', 'Kashmir', 'UTC+05:30', '2012-10-01T22:43:06', '+05:30', 'Rajasthan', 'Secular', 'subsequently', 'Agra', '16,561,000', 'beef', 'meat', 'choice', 'biryani', 'make', 'relationships', 'seasonal', 'Ghaggar', 'Pune', 'Mumbai', 'kidding', 'Muslims', 'scheduled', 'Ceylon', 'Hackney', '12.66', 'Dover', 'Tuolomne', 'Salmon', 'Power', 'vice-president', 'Guinea-Bissau', 'Croatian', 'Sava', 'contained', '117', 'father', 'eaten', 'Puntland', 'Djibouti', 'Christian', 'Trigg', 'counties', 'location', 'Neuengamme', 'Jinja', 'Entebbe', '4,100', '/1,600', 'Juliana', 'Mbiti', '206,000', 'tons', 'Kgalagadi', 'Transfrontier', 'Oceania', 'sparse', '~30', '514', 'stagnant', 'Aconcagua', 'These', 'birds', 'migrate', 'first', 'outside', 'great', 'deal', 'F.', 'virginiana', 'Death', 'Polynesian', 'Andites', 'pampas', 'winters', 'Eurasia', 'Gondwana', 'split', 'tallgrass', 'prairie', 'lower', 'polar', 'waters', 'inundated', 'rest', 'beaches', '48', 'Lustria', 'nineteen', 'dependencies', '17th', 'likewise', 'covered', '1840', 'considers', 'itself', 'autonomous', 'ready', 'join', 'united', 'completes', 'unilateral', 'disengagement', 'pull-out', 'suicide', 'bombers', 'Guadalajara', 'Tepoztlán', 'Cuernavaca', 'operated', 'crashed', 'disappeared', 'Caspian', 'Birger', 'jarl', 'built', 'power', 'Trosso', 'reached', 'Americas', '1492', 'flag', 'coasts', 'Pamean', 'share', 'geographical', 'psychedelic', 'scene', '1960s', 'After', 'party', 'deep', 'Cordilleras', 'Cordoba', 'Cuzco', 'couple', 'divorced', 'Juarez', 'furniture', 'prison', 'encroaching', 'Harmattan', 'ravaged', 'shrub', 'zone', 'Oran', 'Raceway', 'Paula', 'Argy', 'young', 'ambassador', 'Parkinson', 'news', 'struggle', 'apartheid', 'Pretoria', 'Irish', 'closely', 'Tok', 'Pisin', 'Their', 'meets', 'sank', 'mouth', 'Elbe', '84', '100', '62', 'milles', 'Timbuktu', 'recorded', 'Arctic', 'archipelago', 'Willamette', 'mile', 'General', 'Grant', 'Margrave', 'Lusatia', 'Tatarstan', 'nestled', 'Merced', 'sheltered', 'bays', '800', 'm', 'surface', 'cross', 'overlooking', 'Situated', 'Santa', 'Monica', 'W.', 'cabin', 'Wexford', 'Southeastern', '1808', 'pap', 'Others', 'scar', 'conscience', 'Hwange', 'Bundelkhand', 'Indus', 'terminates', 'Andhra', '1918', 'especially', 'Allaines', 'Allainville', 'result', 'versant', 'citrus', 'fruits', 'networks', 'success', 'abroad', '1.26', 'breaks', 'Italian', 'overtaken', 'journalists', 'detained', 'broke', '190', '240,400', 'persons', '45,000', 'Eclectic', 'Medical', 'Society', 'honorary', 'family', 'Kincaid', 'Site', 'Bessarabia', 'current-day', 'subsurface', \"'ve\", 'got', 'bases', 'March', 'Farah', 'Tigrinya', 'pre-1890', 'Tigre', 'Afar', 'Jehllubeeya', '5.6', 'Matara', 'empties', 'Disparu', 'Jacobovici', 'argued', 'marshy', 'Governorate', 'returning', '20,000', 'Hasidic', 'substantial', 'minorities', 'Boston', 'd', 'r', 'enclave', 'evict', 'Iraqi', 'Quatar', 'sharing', 'sea', 'Not', 'too', 'emirates', 'though', 'Fork', '1949', 'That', 'unit', 'deployed', 'Val-de-Reuil', 'Manurhin', 'Hans', 'Cany', 'CompiÚgne', 'Rethondes', 'Charles', 'Gaulle', 'Hella', '1822-1830', 'Preuves', 'Steinheim', 'Skull', '350kya', 'Arago', 'Tattoo', 'Mind', 'able', 'surrender', '1362', '1990s', 'stores', 'opened', 'contributing', 'toward', 'project', '16.3', '15.4', 'Rudolf', 'Virchow', 'universities', 'metropolitan', 'threat', 'Future', 'Isolating', 'Tiger', 'occupied', 'Lyon', 'Carbonne', 'wanted', 'isolate', 'Niort', 'Egmont', 'Manga', 'Anime', 'orphanage', 'sent', 'influential', 'Toul-Rosieres', 'Air', 'Base', 'famously', 'Carp', 'originally', 'Port', 'Moody', 'Autonomous', 'Sagarmatha', 'Zone', 'Rhine-Westphalia', '101', '134', '139', 'Detroit', 'typically', 'Prenzlauer', 'Berg', 'namely', 'recognised', 'declaration', 'Ottoman', 'Empire', 'declare', 'Belgrade', '302', 'documented', '.Whole', '1580.61', 'MW', 'Karnataka', '1350.23', 'Maharashtra', 'Jammu', 'Saurashtra', '2175.60', '1730.10', 'Almost', 'Goud', 'Brahmins', 'Harayana', 'proximity', 'outdoors', 'existing', 'entire', 'Junction', 'Whitehorse', 'Dulce', 'Canyon', 'Yuma', 'Phoenix', 'Shiprock', 'Northwestern', 'examples', 'cinder', 'cones', 'Atlanta', 'Morristown', 'silk', 'weavers', 'stations', 'Warren', 'edge', 'spent', 'childhood', 'Phillipsburg', 'refinery', 'recognize', 'entered', 'ten', 'list', 'surpassing', 'operational', '2013', 'GLONASS', 'widespread', 'warheads', 'Federal', 'Against', 'votos', 'en', 'blanco', 'dudka', 'crossing', 'Extreme', '10.1', 'Isthmus', 'Tehuantepec', 'Heads', 'Office', 'presence', 'Bar', '1913', 'Irvine', 'Fresno', 'Springfield', 'Lancaster', 'Lady', 'Bastet', 'Perris', 'incorporated', 'dependent', 'oil', 'hundreds', 'years', 'agreed', 'buy', 'Also', 'released', 'markets', 'whiskey', 'protests', 'lease', '85', '22.3', '13.9', 'issued', 'Twenty-One', 'Demands', 'protested', 'optional', 'GPS', '6635', 'Konglish', 'Chinglish', 'Chang', 'Motors', 'dragon-eye', 'learned', 'master', 'techniques', 'Rain', 'foray', 'can', 'regarded', 'moves', 'chapter', 'Formosa', 'shish', 'kebab', 'chuanr', 'matriarchy', 'prior', 'contact', 'patriarchal', 'defeats', 'B.', 'sinica', 'Confucianist', '1945', 'We', 'Espoo', 'Anavil', 'Valsad', 'Ahmedabad', 'pods', 'sweet', 'sour', 'curries', 'Goa', '1945.25', 'chapati', 'poli', 'chaas', 'Anavils', '2310.70', '26.63', 'Bhojas', 'Yadav', 'clans', 'MadhyaPradesh', 'Bhavai', 'briefly', 'Rock', 'suburb', 'warm', 'acts', 'circa', '1916', 'Fernie', 'tend', 'Alexandria', 'erroneously', 'occur', 'Barrios', 'wayapopi', 'morrocoy', 'politically', 'noxious', 'often', 'dissipates', 'whereby', 'lie', 'ACT', 'talking', 'Griffith', 'Dorrigo', 'Tom', 'Barnes', '1979', 'Tasmanian', 'Kosciuszko', 'centres', 'Riverina', '90', '200', '201', 'count', 'ry', '65.4', '63.7', 'Leviton', '1959', '461', 'Trans-Afghanistan', 'Gas', 'Pipeline', 'Hudson', '25th', 'coastline', 'Pulaski', 'restaurant', 'cousin', 'Neil', 'Goldmacher', 'real', 'estate', 'broker', 'Alto', 'Adige/SÌdtirol', 'watts', 'W', 'Tirano', '0.2', 'Imperia', 'Numbers', 'unknown', 'Arli', '1960', 'Independence', 'Vojvodina', '1653', '1954', 'Annual', 'meeting', 'Interlaken', 'Luria', 'example', 'thriving', 'fox', 'hunts', 'Liechtenstein', '1844', 'mountain', 'climbing', '1926', 'separating', 'emergency', 'status', 'Ghat', 'Faya-Largeau', 'emptying', 'without', 'ico', 'whilst', \"'sofa\", 'designated', 'terrorist', 'organisation', 'Largest', 'Cenovis', 'Bovril', 'placing', 'proving', '167', 'brought', 'exiles', 'trip', 'Transvaal', 'protectorate', 'Maracaibo', 'ruba', 'Plate', '1812', 'Zulia', 'From', 'here', 'Aves', 'Sandusky', 'Capital', 'Devon', 'Winton', 'Motor', 'Chamic', 'Pailin', 'Samlout', 'vital', 'link', 'Khmer', 'Pradal', 'Serey', 'Rundi', 'Corrientes', 'Sinaloa', '1867', 'spilling', 'Born', 'mother', 'midwest', '465', '748', 'west-southwest', 'Salt', 'Rainbow', 'self-proclaimed', 'Norrbotten', 'sometimes', 'Dominion', 'Yeah', '62,400,000', 'Muslim', 'Bengal', 'retained', 'VT', 'designation', 'Command', 'Staff', 'College', 'retaliates', 'Srilanka', 'marks', 'military', 'victory', 'Sufi', '•', 'Islamic', 'extremists', 'compromising', 'Peshawar', 'retaliated', 'historic', 'European', 'peoples', 'Sufis', 'builds', 'Atom', 'bomb', '...', 'Hindustan', 'Unilever', 'Limited', 'Karachi', 'demonstrated', 'alleged', 'involvement', 'one-third', 'Azad', 'restaurants', 'terrorists', 'rhino', 'once', 'chose', 'accede', 'attacked', 'Lahore', 'pre-NPT', 'Taxila', 'formation', 'heated', 'nuclear', 'race', 'concluding', 'announced', 'begins', 'Hacks', 'Point', 'Observer', 'infantry', '1st', '5th', 'Hawaii', 'Elkton', 'Northeastern', 'combined', 'agents', 'Mesa', 'Dennis', 'DeConcini', 'Democrat', 'Tempe', 'Spokane', 'Gilbert', 'Norfolk', 'Orlando', 'Chandler', 'air', 'Klaip', 'da', 'sites', 'Tomoi', 'infancy', 'relative', 'good', 'connections', 'Dartmouth', 'Educated', 'school', 'Klamath', '!', 'missions', 'Guilin', 'increased', 'reliance', 'cooperation', 'denounced', 'T.', 'p.', 'poliocephalus', 'Guangxi', 'Silkie', 'eastwards', '1978', 'Censorship', 'biggest', 'conquest', 'continental', 'Ripton', 'halfway', 'dogs', 'During', 'tour', 'Tian', 'Shan', '1977', 'size', '2012', 'growing', 'popularity', 'pro-recognition', 'camp', 'French-mandated', '1783', 'huge', 'fireball', 'meteor', 'formally', 'possession', 'Dominica', 'Lauren', 'Bennett', 'secondarily', 'Nambia', 'Oaxaca', 'White', 'Kiev', 'Pora', 'KelKel', 'linked', 'Dnieper', 'Omaha', 'persistent', 'offender', 'Ry', '1893', '54', 'Lilongwe', 'southwards', 'widening', '9-mile', 'long', 'admitted', 'Organization', 'Unity', 'Sahara', 'Helgoland', 'Lela', 'Nyanza', 'Nairobi', 'Tsavo', 'Isolated', 'persist', 'south-western', 'Zanzibar', '1994', 'Kiki', \"L'Arc\", 'Triomphe', 'Camargue', 'stayed', 'Rome', 'days', 'Sicily', '1792', 'Haute-Savoie', 'Dope', 'Stars', 'Inc', 'Deathstars', 'Serie', '116,346', '622', '239', 'Map', 'Les', 'Crados', 'Alsace', 'Lorraine', 'PCI', '86,200', '13.14', 'Notre', 'Dame', 'ca', '1648-1657', 'Kemal', 'AtatÌrk', 'Avenue', 'Dhaka', 'Jana', 'Gana', 'Mana', '10.9', '440', 'specifically', 'having', 'person', 'energy', 'use', 'closer', '0.7', 'kW', 'oldest', 'so', 'Khulna', '1971', 'newly-established', 'emerged', 'champion', 'cement', 'factory', 'won', 'gold', 'runner', 'silver', 'Talpatti', '69', '1,100,00070', 'Hermon', 'withdrawal', 'camps', 'developed', 'separated', 'Persian', '10–15', 'Faridabad', 'Gurgaon', 'Baba', 'Ramdev', 'continue', 'fast', 'inhabitants', 'Hammersmith', 'Fulham', 'crumbled', 'kabulitis', 'NWFP', 'skirmishes', 'ferry', 'Mexican-', 'tattoo', 'artist', '1821', '1976', 'moving', 'Orange', '2002', 'Holman', 'Correctional', 'Facility', 'signed', 'Naivasha', '1887', 'costal', 'jungles', '11.2', '10.7', 'majority-owned', '7.8', 'Linke', 'Labour', 'Party', 'eutrophic', 'ranged', '22.8', 'absent', 'widely', '5,000', 'foothold', 'surpassed', 'branches', 'spice', 'trade', 'natives', 'disease', 'bissettii', 'sparsely', 'travelling', 'ago', 'centuries', 'relatively', 'well-known', 'lag', 'behind', 'Tucson', '1598', 'grown', 'disjunct', 'dark', '—', 'capturing', 'Raton', 'Pass', 'SP', 'site', 'Nursultan', 'Nazarbayev', 'each', '522', '381', 'Caledonia', 'ruling', 'enjoyed', 'Libyan', 'support', 'Regiment', 'Col.', 'Nathan', 'Whiting', 'Three', 'thousand', 'Roger', 'Sherman', '1999', 'Russia/', 'Dallas', 'trained', 'provided', 'postal', 'stamps', 'Gaza', 'Its', 'strongholds', 'posh', 'Limburg', '17.17', 'red', 'stylized', 'letter', 'Phonogram', '37.2', 'slopes', '1912', 'Wiesbaden', 'barony', 'Bear', '12.9', '12.2', 'Harkin', 'caucuses', 'Twin', 'wards', 'Protestant', 'five-sixths', 'At', 'Olympics', 'leaving', 'Belfast', 'Another', 'Warrenpoint', 'IDA', 'Stellenbosch', 'ranging', 'belonging', 'Gibraltar', '79', 'Valencia', 'Wakhan', 'Corridor', 'Giha', 'Kigoma', 'Dunham', 'Tuareg', 'Berber', 'Village', 'Belcarra', '123', '125', 'darkness', 'witnessed', 'South-East', '1981', 'cm', 'Genoa', 'Valdarno', 'Nuvenia', 'paired', 'Sambuca', 'Cisalpine', 'Gaul', 'La', 'Ruota', 'Della', 'Fortuna', 'Lorient', 'Latina', 'cms', 'Sardinia', 'Nazi', 'sled', 'Venice', 'Square', '7.1', 'Portofino', 'Luca', 'Torosani', 'frequent', 'alternative', 'name', '1848', '3.1', 'Ebro', 'future', 'Allied', 'soldiers', 'Iceland', 'Razzeta', \"d'Oropa\", 'Milan', 'Krapina', 'Grotta', 'Guattari', 'Alexandre', 'Millerand', 'Explosivos', 'Alaveses', 'Contaimines', 'Clusaz', 'Nordics', 'notably', 'C.I', 'Montecchio', 'Maggiore', 'N3', 'E', 'radio', 'signal', 'Individuals', 'spotted', 'Narragansetts', 'founded', 'eighth', 'end', 'Lassi', 'very', 'drunk', 'Cape', 'reports', 'newspaper', 'distribution', 'includes', 'Sonora', 'Mexicali', 'Alta', 'U.T', 'Caucasus', 'Eurasian', '49,088', '97,472', '10,450', '157,010', '14.4', 'international', 'businessman', 'CNPC', '2458', 'factories', 'runner-up', 'medal', 'table', 'Ying', 'weasel', 'twenty-six', 'thirty', 'minister', 'chocolate', 'Sikkim', 'foothills', 'launches', 'massive', 'offered', 'Guerrero', 'Hafez', 'al-Assad', 'Golan', 'Heights', 'archaeological', 'dig', '10,000', 'distance', 'Which', 'F.Y.R.O.M', 'sister', '1963', 'Tripura', 'secular', 'Deoghar', 'Parganas', 'Jamuna', 'mistaken', 'Yamuna', 'Kolkata', 'commemorated', 'remaining', 'possible', 'Taslima', 'Calcutta', 'flower', '600', '1998', 'Following', 'Darussalam', '71', '72', 'clockwise', 'divided', 'Benares', 'Kankhal', 'Honda', 'EX5', 'peninsular', '2.4m', 'colonized', 'incl', 'links', 'Kuala', 'Lumpur', 'self-governing', 'strip', 'significant', 'Besançon', 'Metz', '1909', 'Cannes', 'debuted', 'Lille', 'Wallonia', 'tunnel', 'ever', 'battling', 'monarchies', 'Family', '1967', 'Winnipeg', 'dispute', 'prepared', 'starve', 'joins', 'Axis', 'powers', 'moderate', 'hit', '1943', 'rejected', 'publication', 'Vitam-R', 'Berlin', 'network', 'Ludwig', 'Maximilians', 'levels', 'latter', 'Kreator', 'Sodom', 'Destruction', 'FIFA', 'Cup', 'finals', 'subsidiary', 'Xiamen', 'Suzhou', 'Chongqing', 'continues', 'dinner', 'shores', '4.8', '4.7', 'Meiolania', 'Barred', 'Dove', 'Monte', 'Carlo', 'quickly', 'captures', 'Autonomy', 'Borough', 'tourist', 'center', 'crossed', 'Jet2.com', 'suspended', 'flights', 'gandbol', 'Far', 'historically', 'travelled', 'Suburban', 'Montgomery', 'George', 'firmly', 'Stonewall', 'Stormers', 'Celtic', 'St', 'Channel', 'Wheeling', 'Cumberland', 'Panhandle', 'Waterfront', 'Tucumán', 'Pitt', 'Click', 'View', 'Image', 'Mzab', 'Ahmed', 'Ben', 'Bella', '5,445', 'referenced', 'song', 'Baltimore', 'driven', 'Camp', 'Holabird', 'Front', '60.4M', '96.8', '24.3M', 'Chattisgarh', 'Ranthambore', 'Nagaland', 'Atakor', 'massif', '3,441,945', 'Mirdha', 'Jat', 'Jats', '88', 'Shijiazhuang', 'passes', 'Tianjin', 'Will', 'attained', 'top-ten', 'positions', 'offices', 'Linz', 'extinct', 'forming', 'disperse', 'Miklos', 'Horthy', 'in1960', '11.9M', 'shoreline', 'STS', 'age', 'discoveries', 'TVR', 'TVE', 'underdogs', 'penalty', 'shoot-out', 'Natural', 'Music', 'Festival', 'Ejido', 'Madeira', 'Santiago', 'Compostela', '-sponsored', 'Jesuits', 'temporarily', 'earning', 'trophies', 'titles', 'Prussia', 'hoped', '42', 'Rangers', '46,750', 'numerous', 'names', '1975', 'raise', 'awareness', 'unlike', '1689', 'Edinburgh', 'Unicorn', 'played', 'Third', 'Lanark', 'oats', 'parents', 'Stephan', 'b', 'Bluebell', '7.3', '1.9', 'thistle', 'ned', 'Procurator', 'Fiscal', 'comprising', 'Karelia', 'Ingria', 'presently', 'looked', '26th', '1834', '1851', '1836', 'forcing', 'Americans', 'retreat', 'hour', 'canal', 'proposed', 'DC', 'whimsical', 'bottle', 'art', 'versus', 'immediate', 'Banks', 'Helsinki', 'managed', 'escape', 'republics', 'Ark', 'Crashdiet', 'Hardcore', 'Superstar', 'While', 'Utelias', 'Vili', '727', '452', 'Scandinavian', 'Fantomen', 'Ivar', 'Boehling', 'OlofsmÀssa', 'Olaf', 'Mass', 'Månbas', 'Alpha', 'Kosmos', 'convicted', 'smuggling', 'villa', 'Bornholm', 'Estates', '900–1300', 'usage', 'Quintana', 'Roo', 'Ruhiira', 'Congo-Kinshasa', 'Donald', 'Carcieri', 'Dogon', 'added', 'flanking', 'Garden', 'suburban', 'Hampton', 'Masirah', 'rs', 'vast', 'wind', 'farms', '1861', 'Mateo', 'Yaletown', 'Expansion', 'Transylvian', 'South-Eastern', 'Corsica', 'Salonika', 'annexed', 'Nuesslisalat', 'annexes', 'sphere', 'influence', 'newly', 'Summer', 'Nights', 'biologically', 'submitted', 'Sp', 'Albania', 'takes', 'lot', 'Kafue', 'Luangwa', 'Mpulungu', 'heard', 'rare', 'environmental', 'dumped', 'Welsh', 'narrowest', 'sense', 'estimated', 'Kraków', 'Subcarpathian', 'Ruthenia', '5.8', 'village', 'Somerville', '12,182', 'frequented', 'shenina', 'Mosul', 'Glaspie', 'appointed', 'defeating', 'emirs', 'fall', 'panzers', 'seize', 'due', 'threats', 'Lula', '9,376', 'Cana-fístula', 'Together', 'Bohemian', 'commercial', 'hub', '57,000', '28,000', 'Marathi', 'Konkani', 'Yakshagana', 'lavani', 'Jinnah', 'Rajastan', 'Uttarayan', 'Kite', 'flying', 'festival', 'Rajputana', 'Malwa', 'Cochin', 'Cruz', 'Kokum/amsul/ratamba/birund', 'seceded', 'Dorset', 'Portsmouth', 'Tunnel', 'LNG', 'Liaon***', 'Linyi', 'Burundi–', 'Steadman', 'presumably', 'existed', 'matchless', 'citizens', 'shipped', 'west-central', 'Maghreb', 'besides', 'Redbridge', 'Guianas', 'Amazon', 'Basin', 'ahead', 'Hooker', 'slightly', 'DR', 'primary', 'defeat', 'McCarthy', 'Fargo', 'Norwalk', '60.1', '58.6', 'Moline', 'Des', 'Moines', 'Mainz', '165.6', 'NATO', 'Kargil', 'Alamgirpur', 'towards', 'Kanauj', 'Kazahkstan', 'Kyrgystan', 'Jani', 'ancient', 'Kirgizstan', 'contraction', '1.8', 'downtown', 'Recovery', 'king', '1987', 'Hallingdal', 'almond', 'cake', 'NetCom', 'absolute', 'monarchy', 'Nelonen', 'TV4', 'Brecht', 'leave', 'Fantomet', 'safeguarded', 'iron', 'ore', 'supplies', 'alfer', 'alver', 'Àlvor', 'Nicke', 'Nyfiken', 'Douglas', 'addition', 'dialects', 'Cherkasy', 'Guyanas', 'cajaro', 'Petrobras', 'Surinam', 'campus', 'worth', 'stroll', 'You', 'might', 'onto', 'Shore', 'residents', 'distinct', 'Berwick', 'eighteenth', 'Hyougo', '116', '81', 'Patrick', 'Leahy', 'Bennington', 'Launched', '10-gun', 'sloop', 'Galtung', '2.1', 'members', 'Gothenburg', 'Devil', 'us', 'orchestras', 'modernity', 'Bismark', 'Archipelago', 'Moluccas', 'Boroondara', 'Ahaggar', '49.1', 'dams', 'Bayonne', 'Bergen', 'Allentown', 'endangered', '111,740', 'Teaneck', 'Colonia', 'inlets', 'Oudomxay', 'Abuja', 'Tallinn', 'Livonia', 'Bab-el-Mandeb', '56.5M', 'Tamil', 'Nadu', '66.4M', 'Uttaranchal', 'Bihar', 'Mahra', '10-15', '10.4', 'Dhofar', 'Chin', 'Maldives', 'sides', 'WIBG', 'WINX', 'Pittsburgh', 'Morse', 'Asheville', 'Rd', 'residing', 'Wilkes-Barre', '1790', '47', 'Simon', 'Cameron', 'Christianity', '11,353,140', '7th', 'Buffalo', 'graduated', 'engineering', 'Litchfield', 'Fairfield', 'Haven', 'Bridgeport', 'Madras', 'Villuppuram', 'Marakkanam', 'olluco', 'majás', 'picuro', 'Huascarán', 'gift', 'Obama', 'stretches', 'valleys', '97', 'Kararan', 'Orogeny', '1650-', 'Ma', 'Gawler', 'Craton', '1829', 'Kwinana', 'Angaston', 'Birkenhead', 'Emu', 'Field', 'Maralinga', '129th', 'meridian', 'nickname', 'pinkie', 'MYA', '57', '2004', 'North-eastern', 'winter', 'visitor', 'beating', 'Tamils', 'Indies', 'Kapuge', 'Lakshadweep', 'Manjusri', 'Vasthu', 'Vidya', 'Sastra', 'vasthu', 'vidya', 'sastra', 'amethyst', 'Anuradhapura', 'Mannar', 'Anglophone', 'unfair', 'Among', '1905', 'Today', 'exists', '160', 'south-southeast', 'using', 'ours', 'broken', 'Bremen', 'Herne', 'Hagen', '1,925', 'crimes', 'Ann', 'Arbor', 'southern-to-midwest', 'encompassed', 'Vilnius', 'wooden', 'synagogues', 'Mantova', 'Pellegrino', 'Terme', 'Elder', 'J.A', 'Jeter', 'Overseer', 'Philips', 'Arena', 'fought', 'wars', 'Levant', 'nbsp', 'Yitzhak', 'Rabin', 'Jehu', '1961', '51', 'runs', 'Dawson', 'Creek', 'Pyongyang', 'thorugh', 'Elba', 'Murmansk', '191,976', 'Svalbard', 'Ural', 'lowland/coastal', 'Two', 'airliners', 'Leix', 'Provence', 'Swedish', 'speaking', 'certain', 'Riga', 'Latgale', 'Hong-Kong', 'prime', 'His', 'wife', 'descend', 'Charleville', '47th', '52nd', 'arriving', 'Almirante', 'Banff', 'Jasper', 'entry', 'Judith', 'Formation', 'Manitoba', 'Franconia', 'Ho', 'Minh', 'deposition', 'nights', 'PDR', 'Summers', 'power-grids', 'towns', 'Jervis', 'Nassau', 'Suffolk', 'Rockland', 'Parson', 'Design', 'tier', 'Altamont', 'Greensboro', 'Bills', 'Mato', 'Grosso', 'São', 'Paulo', 'Paraná', 'Somewhere', 'Straights', 'beach', 'your', 'running', 'Finnish', 'responded', 'pressure', 'free', 'extremities', 'quarter', 'responds', 'south-central', 'maritime', 'Moldavia', 'Taiyuan', 'Yucatán', 'Amapá', 'Munster', 'Telstar', 'relays', 'trans-', 'Faisal', '118', 'Roundworld', 'neighbour', 'According', 'experts', 'Mercer', 'Reno', 'Konark', 'neighborhood', 'Kagera', 'pockets', 'worldwide', 'cosmopolitan', 'attached', 'twice', 'landplane', 'flight', 'notable', 'build', '12.5', 'enter', '1524.70', '745.5', 'Khargone', 'Kush', 'overland', '2nd', 'Battalion', 'less', 'Nile', 'Isreal', 'Pennines', 'Lemmy', '978', 'metres', '3,209', 'ft', 'Snowdon', '157', 'Dewi', 'David', '52,250', 'Cardiff', 'martyr', '1623', 'restored', 'new', 'Juba', 'Addis', 'Ababa', 'Doctors', 'With', 'Cuamm', 'Lewiston', 'Darussa', 'lam', 'centre', '150', 'Durham', 'established', 'colony', 'Blues', 'separation', 'MUN2', 'Televen', 'RCN', 'restricted', '—then', 'approx', '24.86', 'Hejaz', 'Asir', '5.29', 'fifteen', 'hijackers', 'livestock', 'infrastructure', 'Veneto', 'Piemonte', 'mom', 'My', 'dad', 'Michoacán', '148', 'twenty', 'Sinterklaas', 'Brunswick', 'consists', 'hedgehogs', 'She', 'lemon', 'variety', 'encountered', 'resumption/compulsory', 'acquisition', 'Rottnest', 'Fr', 'Rate', 'Burning', 'Seed', 'Otago', 'ostracism', 'community', 'Sydney', 'Canberra', 'degree', 'g', 'co-hosted', 'Rugby', 'garden', 'plant', 'radicalize', 'Maoris', 'auction', '-born', 'author', 'life', 'Z7', 'Metal', 'Dayz', 'sixty', 'consortium', 'Zug', 'shot', 'own', 'high-speed', 'lines', 'TGVs', '20.5', 'Alps', 'German-speaking', 'Drahtfunk', 'Lucerne', 'Nakhchivan', 'Nakhichevan', 'Azeri', 'monitor', 'Contra', 'Griswold', '1953', 'Cleveland', 'Happy', 'Birthday', 'Dear', 'Hogan', 'Catholic', 'CH-', '9999', 'SÌdtirol', 'turned', 'Dobrudja', 'Leibstandarte', 'ordered', '4000–5000', 'lost', 'Bosnian', 'Skagway', 'elk', 'reintroduced', 'edition', 'presented', 'Rosanna', 'Mangiarelli', 'nearest', 'breeding', 'SA', 'Ouachita', '18,100', 'Sar', 'level', '228', 'km/142', 'Laberia', 'spanning', 'Lombardia', 'Venetia', 'Carmelites', 'Wesorts', 'Titanic', 'Cherbourg', 'Calais', 'equator', 'Galápagos', 'Gorgona', 'chugua', 'parchita', 'said', 'Udaipur', 'organized', 'Sun', 'Photographic', 'Bikaner', '5.1', 'Exporting', 'Hermanus', 'Sarmatia', '1350', 'mass', 'colonizing', 'Japheth', 'collision', 'shifting', 'eyes', 'exporter', 'Dardanelles', 'Pagan', 'tribal', 'majors', 'looking', 'supporters', '~838', 'buyers', 'seek', 'returns', 'minnesota', 'boat', 'ride', 'famous', 'bridges', 'Gagauzia', 'bottom', 'rankings', 'Ballylemon', 'sittuyin', 'expand', 'search', 'Rangoon', 'Peninsular', 'Monrovia', 'Cabbagetown', 'positioned', '7.4', '66', 'Our', 'awesome', 'adventure', 'Maradia', 'Lawana', 'Ramakien', 'Don', 'Muang', 'Maledives', '31.7', 'Noord-Holland', 'Shanghai', 'Uyghurs', 'Salars', 'Yellow', 'formal', 'forged', 'normal', 'roamed', 'Nuclear', 'Plants', 'Chili', 'powder', 'Curry', 'Five-spice', 'Westphalian', 'Murray', 'Kangaroo', 'sieges', '1863', 'Vicksburg', 'firing', 'squad', '17.2', '16.2', 'revoked', 'Treaty', 'Amiens', 'bolster', 'defences', '3.2', 'avocats', '1882', 'Nana', 'Premier', 'Georges', 'Clemenceau', 'utilized', 'Mon', 'Cicci', 'raid', 'U-boat', 'Nazaire', \"Qu'Appelle\", 'Saskatoon', 'Beaver', 'Dene', 'Suline', 'Slavey', 'Tsuut', 'ina', \"Xi'an\", 'Wutai', 'shan', 'Bolton', 'seriously', 'worn', 'traipsing', 'longest', 'pipeline', 'provides', 'Town', 'Mauritius', 'Xun', 'Algoa', 'Elizabeth', 'Durban', 'course', '41,800', '1996', '1550', '1672', 'aim', 'convert', 'Orthodox', 'WÌrttemberg', 'fight', 'Freire', 'co-official', 'Quechua', 'Aymara', 'Arica', '+370', '486.5', 'swirling', 'Fulton', 'Terry', 'Branstad', 'vagrant', 'Christmas', 'Timor-Leste', 'Tuvalu', 'Seattle', '35–40', 'Holger', 'Tuaregs', 'unrecognized', 'Bernardino', 'GEORGIA', 'MISSISSIPPI', 'Augustine', 'Pensacola', '1,647', 'Poconos', 'Bradford', 'aide', 'Heinz', 'Benjamin', 'Franklin', 'Kingston', 'Heilongjiang', 'Norman', 'lobo', 'shortly', 'afterwards', 'adds', 'Media', 'causeway', 'Khyber', 'Pakhtunkhwa', 'Muhammad', 'secure', 'LOC', 'hills', 'SW', 'Yorker', 'Lashkar-e-Taiba', 'ethnic', 'completely', 'bypassing', '13.7M', 'Tiby', 'Toya', 'Michele', 'Bachmann', 'describe', 'Badakshan', 'CP', 'Franco', 'Sens', 'FR', 'Ljubljana', 'productions', 'amounts', 'foot', 'represents', 'shortest', '~96', 'Logan', 'Buckingham', 'mk', 'Moresby', 'Honiara', '10.5', 'consulate', 'Benghazi', 'stepping', 'Hosni', 'Mubarak', 'bid', 'Judea', 'plunged', 'let', 'Few', 'Put', 'whose', 'descendants', '7,000', '6,500', 'Since', '1937', 'spanned', '1850', 'election', 'Hoover', 'Dam', 'Modoc', 'Plateau', 'northwards', 'seaboard', '1927', '1901', 'Second', 'Tamborine', 'Mountain', 'Republics', '16.6', 'preparing', 'jointly', 'block', 'Omar', 'Bongo', 'similarly', 'structured', 'retirement', 'fund', 'Hezbollah', 'min', '1.2', 'bottles', 'Baranavichy', '51.45', '31.97', 'Shield', 'M4A1s', 'Foreign', 'Military', 'Sales', 'Andean', 'P.', 'b.', 'cyanescens', 'Metrovia', 'Guayaquil', 'Brzeg', 'division', 'Bydgoszcz', 'Auschwitz', 'ones', 'collapsed', '1346', 'IV', 'conquering', 'royal', 'partnership', 'Apart', 'Dunstanburgh', 'Castle', '4,409', 'Scafell', 'Pike', 'attended', 'Westminster', 'Lopcombe', 'Corner', 'James', 'Constitución', 'watch', 'fireworks', 'met', 'beneath', 'balloon', 'becoming', 'shipping', 'avoid', 'Rhodesia', 'Stanislaus', 'cables', 'snap', 'image', 'enlarge', 'Prairie', 'respective', 'Samaritan', 'Provinces', 'Alison', 'Redford', 'Calgary', 'proportion', 'Mobitel', '1974', 'laban', 'arbil', 'bears', '909', 'km/565', 'triangular', 'Alternatively', 'populous', 'Pashtun', '15-19', 'Kabul', 'Neighbouring', 'Kandahar', 'Some', 'definitions', 'unruly', 'Waziristan', 'Hindu', 'und', 'Baton', 'Rouge', 'Polk', 'Sabine', 'Bayou', 'Teche', 'Vermilion', 'ranges', 'bodart', 'dandiya', 'garba', 'Kutch', 'locals', 'peculiar', 'dialect', 'Anarta', 'Rangoli', 'Jodhpuri', 'Nagauri', 'Aroras/Khatris', 'Idar', 'Namib', '55,000', 'Malanka', 'Barmer', 'inside', 'track', 'succeeding', 'Bill', 'Frist', '5,300', '22,000', 'furulya', 'post-WWII', '<', '28.9', '550', 'kg', 'sadly', 'arm', 'fever', 'febre', 'maculosa', 'Sint', 'Maarten', 'Modern', 'opposite', 'Albina', 'Slavik', 'Sorry', 'Sandoval', 'overseas', 'department', 'smallest', 'french-speaking', 'Dispilio', 'Tablet', 'hombre', 'Sofia', 'lakefront', 'east-central', 'lowest', 'dropping', '51.3', 'municipality', 'Eurajoki', 'signatories', 'Miami', 'closing', 'concert', 'suburbs', 'PATCO', 'linking', 'agitation', 'resulted', 'Congress', 'creating', 'Woodside', 'Eurovision', 'Song', 'Contest', 'calendar', 'Terai', 'tournament', '124–229', 'experienced', 'Taplejung', 'Tihar', 'Sri_lanka', '190,000', 'platinum', 'DR2', '1423', 'staying', 'Tuscany', 'By', 'kept', 'mid-west', 'NFD', 'populated', 'uncommon', 'landings', 'past', 'Jefferson', 'Davis', 'Greenville', 'caucus', '9.06', 'Windsor', 'Casting', 'thereafter', 'freshwater', 'fish', 'Show-Me-Energy', 'Cooperative', 'SMEC', 'Thomas', 'Hart', 'Benton', 'quasi-liberal', 'severs', \"'m\", 'Ilford', 'Silicon', 'meant', 'relinquish', 'Baghdad', 'controversial', '80,000', 'Zambezi', 'Rapids', 'Tulcea', 'Moldava', 'hot', 'dry', 'supported', 'Primorsky', 'Krai', 'memoir', 'invented', 'architects', 'containing', 'teachings', 'attributed', 'written', 'Robeson', 'poet', 'epic', 'poem', 'Iranian', 'immense', 'copy', 'greatest', 'persian', 'Iranologist', 'best', 'selling', 'novel', 'Into', 'Wild', 'bestselling', 'non-fiction', 'book', 'fan', 'Jon', 'Life', 'collaboration', '1764', 'ancestor', 'classic', 'counterculture', 'cult', 'communo-anachist', 'fiction', 'yes', 'book..', 'science', 'bestseller', 'ed', 'Journal', 'writer', 'Larry', 'Niven', 'pretty', 'entertaining', '1/2', 'odes', 'series', 'occult', 'books', 'revolutions', 'heavenly', 'spheres', 'published', 'Victorian', 'novelist', 'Test', 'Twins', 'title', 'film', '1781', 'philosopher', 'lecturer', 'self-help', 'guide', 'Michael', 'Gordon', 'acclaimed', 'debut', 'Thursday', 'Next', 'stanzas', '1748', 'trilogy', 'Who', 'Greek', 'ascribed', 'Both', 'tale', 'Iliad', 'Aesop', 'Fables', 'Pierre', 'Corneille', 'heavily', 'adapted', 'translated', 'Struggle', '1841', 'Scottish', 'journalist', 'Parade', 'Jerome', 'Kern', '1928', 'musical', 'adaptation', 'reads', 'story', 'love', '1946', 'w/', 'Karl', 'Marx', '1923', 'creator', 'mythos', 'theme', 'Mary', '1818', 'Man', '1826', 'Kindle', 'introduction', 'subtitled', 'comic', 'ideology', 'focuses', 'consequences', 'Jeremy', 'Bentham', 'parallels', 'Pragmatism', 'fantasy', 'six-part', 'Midsummer', 'Night', 'Dream', 'Scene', 'performance', 'Zorba', 'successful', 'Yogi', 'Commissar', 'sage', 'dictated', 'epics', 'When', 'history', 'VishnuKalpa', 'character', 'man', 'sleeps', 'Arthur', 'C.', 'Clarke', 'Sunzi', 'Bingfa', 'warfare', 'expert', 'B.C', 'general', 'Steven', 'Sondheim', 'reference', 'beat', 'simply', 'lame', 'attempt', 'infamous', 'ook', 'co-wrote', 'Pratchett', 'humorist', 'Z', 'never', 'mind', 'taltos', 'Songs', 'act', 'steampunk', 'William', 'Gibson', 'anyway', 'Data', 'Havens', 'Uhm', 'comedic', 'playwright', 'full-length', 'stage', 'dramatization', 'revolutionary', 'Nobel', 'Prize-winning', 'bawdiest', 'pen', 'truly', 'fascinating', 'urban', 'theorist', 'you', 'Make', 'sure', 'check', 'co-written', 'Prize-winner', 'autobiographical', 'inimitable', 'Iain', 'M.', 'Dr', 'child', 'psychiatrist', 'psychologist', '1950s', 'legend', 'activist', 'iconoclast', 'esteemed', 'spawned', 'novels', 'Gods', 'Mars', 'produced', 'Physicist', 'wrote', 'Millennium', 'Trilogy', 'best-selling', 'horror', 'loosely', '1935', 'co-authored', 'Canterbury', 'Tales', 'tonight', 'Wharton', 'Professor', 'tune', 'words', 'adopted', 'THE', 'SECRET', 'SPEECH', 'Linda', 'Brent', 'pen-name', 'pseudonym', 'wow', 'movies', 'Odd', 'Couple', 'prestigious', 'historian', 'Arthurian', 'revised', 'Theodor', 'Adorno', 'political', 'TGWPWF', 'girl', 'kicked', 'hornets', 'nest', 'cell', 'phone', 'collection', 'stories', 'travelogue', '1897', 'MIT', 'professor', 'arguably', 'flipping', 'mystery', 'Sir', 'Miller', '1658', 'Animal', 'Farm', 'dystopian', 'Big', 'Brother', 'fictional', 'directed', 'novella', 'same', 'lesbian', 'vampire', 'unadapted', 'Levine', 'gang', 'alternate', 'reality', 'scottish', 'compiled', '1970', 'documentary', 'theories', 'satirical', 'Stephen', 'Colbert', 'thriller', 'Broadway', '-New', 'edited', 'dedicated', 'Klaas', 'memory', 'Women', 'fictionalized', 'autobiography', 'intended', 'MaddAddam', 'Byrne', 'neurologist', 'abolitionist', 'science-fiction', 'coauthored', '1838', 'referring', '1938', 'son', 'emperor', 'Roman', 'Emperor', 'stoic', 'Philip', 'J.', 'Just', 'worthy', '1753', 'Tragedian', 'mystical', 'tragedian', 'statesman', '1831', 'brilliant', '20th', 'thinking', 'framework', 'popularized', 'sixth', 'storyteller', '6th', 'popularised', 'seminal', '13th', 'Saga', 'attitude', 'branding', 'described', 'collected', 'easy', 'Friday', 'Link', 'wealthy', 'dilletante', '1786', 'best-seller', 'entitled', 'Streets', 'Laredo', 'devoured', 'Like', 'blockbuster', 'movie', 'Catching', 'Fire', 'phenomenon', 'simple', 'Damn', 'interesting', 'adventurous', 'hoop-la', '1382', 'Kim', 'Newman', 'fantastic', '1964', 'physics', 'textbook', 'mini-series', 'Newbery', 'Honor', 'Hoosier', 'children', 'CM', 'writings', 'House', 'Maximum', 'Ride', 'footnote', 'obviously', 'read', 'Hemingway', 'favorite', 'inspired', 'machine', 'economist', 'Uruguayan', 'newest', 'Pre-Raphaelite', 'gothic', 'drama/horror', 'interest', 'Chapter', 'pamphlet', 'sci-fi', 'deceased', 'Let', 'forget', 'Playwright', 'episodic', 'performer', 'feminist', 'Written', 'Reprise', 'Monologhi', 'della', 'Vagina', 'drawn', 'illus', '1726', 'clergyman', 'satirist', 'commentaries', 'traditionally', 'theory', 'AD', 'inventing', 'Sphere', '1894', 'hard', 'believe', 'contains', 'manuscript', 'scientific', 'notes', 'Works', 'Days', 'Isaac', 'Asimov', 'original', 'Cosmo', 'Cosmopolitan', 'EIC', '1722', 'really', 'want', 'ironic', 'rewriting', 'step', 'aside', 'impact', 'award-winning', '»', 'genius', 'literature', 'picture', 'Child', 'format', 'relish', 'thou', 'old', 'screenplay', 'Frenchman', 'adult', '1791', 'Discworld', 'donning', 'cap', 'urban-', 'Bantam', 'Books', 'Inc.', 'ISBN', '0-553-38016-8', 'physicist', 'strange', 'monotone', 'quality', 'message', 'refers', 'Boz', 'Socratic', 'method', 'Weis', 'Eloquence', 'Vernacular', 'Novels', 'What', 'Wants', 'arrived', 'monk', '1819', 'Pilgrim', 'Progress', '1678', 'fairy', 'BCE', 'Year', 'Flood', 'latest', 'weighty', 'tome', 'Sanskrit', 'Indeed', 'theologian', '1820', 'Sandworms', 'Dune', 'expanded', 'conceived', 'Anthropologist', 'Preston', 'teacher', 'focus', 'cyberpunk', 'Charity', 'Truth', '3rd', 'Norton', '502', '0-393-31276-3', '^', 'penned', 'Novel', 'noted', 'architect', 'Malloreon', 'cults', 'IMDB', 'Therein', 'chef', 'Samuel', 'L.', 'Clemens', 'Beautiful', 'Without', 'Mercy', 'ballad', 'authored', 'minus', 'crinkly', 'paper', 'fancy', 'penmanship', 'key', 'taught', 'law', 'drafted', 'Founding', 'Fathers', 'big-budget', '14th', 'Darktower', 'Came', 'essay', '1817', 'romantic', '1775', 'moment', 'altered', 'lyrics', 'Kern-', 'Florence', 'Stoker', 'widow', 'Dracula', 'conservative', 'Elizabethan', 'III', 'Arbid', 'lacks', 'married', 'according', 'Intermediate', 'favourite', 'presentation', 'biologist', 'mathematician', 'tongue-in-cheek', 'humor', 'Here', 'Tehanu', 'Polish', 'memoir-style', 'Civil', 'War-era', 'full', 'text', 'Stymer', 'Vanessa', 'Redgrave', 'amazon', 'score', 'nobel', 'laureate', 'Greeks', 'noble', 'Hector', 'Odyssey', 'study', 'actually', '1918-1956', 'Prize', 'Literature', 'winner', 'recipient', 'convinced', 'real-life', 'Illustrated', 'poetry', 'Scientology', 'founder', 'masses', 'Kenyan', 'Aviatrix', 'Oral', 'History', 'Zombie', 'critically', 'audiobook', 'post-apocalyptic', 'Book', 'Ember', 'como', 'su', 'autor', 'Louis', 'Lippa', 'everyone', 'else', '1884', 'fathers', 'stock', 'analysis', 'von', 'Daddymann', 'Constant', 'Princess', '1485', 'mentioned', 'nonsense', 'verse', 'Through', 'Looking-Glass', 'ole', 'Brian', 'CNN', 'reporter', 'existentialist', 'For', 'serialisation', 'masterwork', 'early-1980s', 'authors', 'Gaiman', 'puppeteer', 'ur-SM', '1870', 'put', 'crime', '1925', 'lyric', 'writers', 'cemetery', 'Astronomer', 'Royal', 'Out', 'Eden', 'etc', 'mischief', 'limited', 'atonement', 'sic', 'apologies', 'scientist', '11th', 'nod', 'comes', 'blackout', 'gags', '-winner', 'one-man', 'Dossie', 'Easton', 'know', 'Wind-Up', 'Bird', 'Chronicle', 'Japanese', 'set', 'prize-winning', 'Jacob', 'Philosopher', 'protagonist', 'Way', 'need', 're-read', 'every', 'friend', 'Purgatory', 'Hell', 'motivated', 'admiration', 'll', 'Author', 'Faust', 'Johann', 'Wolfgang', 'veteran', '1929', 'anti-war', 'Ban', 'Biao', '3–54', 'CE', 'Nobel-laureate', 'seventh', 'pastoral', 'elegy', 'Frederick', 'Loewe', '1956', 'tragedy', 'Korol', 'Lir', 'incidental', 'Barnsley', 'Barnsley-born', 'Club', 'Kid', 'dramatic', 'Fletcher', 'Adventures', 'Oliver', 'Twist', 'Inkworld', 'narrative', '236', 'certified', 'lunatic', 'ft.', 'ketch', 'eponymous', '1719', '1690', 'Bloomsbury', 'Award', 'finalist', 'school-age', 'Hollering', '1955', 'literary', 'doyen', 'folktale', '16th', 'labelled', 'Porter', 'Edited', 'Introduction', 'cartographer', 'ad', 'Heaven', 'Misfortunes', 'Mr.', 'Teal', 'featuring', 'aristocrat', 'article', 'works', 'Kernighan', 'Knopf', 'gourmande', 'extraordinaire', '1743', 'Venetian', 'prose', 'writing', 'Return', 'Gone', 'Away', 'hero', 'immortalised', '1600', 'arranged', 'Pulitzer', '-winning', 'Alfred', 'A.', 'experimental', 'modernist', 'appearance', 'Curtain', 'something', 'Whitehead', 'performances', 'Norwegian', 'storybook', 'Vintage', 'Social', 'Gospel', 'fanatic', 'sayings', 'accepted', '1837', 'Danish', 'medieval', 'Invasion', 'cartoonist', 'think', 'wonder', 'Remember', 'how', 'Ubu', '1982', 'Foundation', 'Earth', 'given', 'him', 'influenced', 'Turner', 'retelling', 'Maid', 'Madleen', '1876', 'Bertrand', 'Russell', 'futurist', 'sociologist', 'comedy', 'religious', 'Jesus', 'Gather', 'Name', 'volume', 'Wikipedia', 'Moor', 'Sigh', 'Based', 'c.', 'astronomer', 'Jonson', 'purposeful', 'action', 'Human', 'Laureate', 'articulated', 'examine', 'DSM-IV', 'DSM', 'DSM-IV-TR', 'Dr.', 'Helen', 'Schucman', 'enthralled', \"n't\", 'Baigent', 'Oz', '1900', 'Andrew', 'Lloyd', 'Webber', 'truth', 'kinda', 'stupid', 'novelisation', 'script', 'uses', '1910', '1911', '3-volume', '1,273-page', 'magnum', 'opus', 'alone', 'Search', 'playwrights', 'featured', 'blown', 'Actor', 'Calcuttans', 'Pan', '0-330-26738-8', 'S.', 'Burroughs', 'scroll', 'immortal', 'Anthony', 'Perkins', 'upon', 'poems', '1989', 'Woodpecker', 'analogue', 'NBC', '1908', '1377', 'Lutheran', 'faith', 'conclusion', '1934', 'needs', 'Swathmore', 'one-woman', 'wikipedia', 'soliloquy', 'authorship', 'variously', 'invalid', 'overview', 'algorithms', 'come', 'borrow', 'Penguin', 'edn', 'p.342', 'p.314', 'director', 'hated', 'Bruce', 'Sterling', 'journalism', 'renouned', 'playwrite', '1968', 'pharmaceutical', '1596', 'Judgment', 'SF', 'Queen', 'Damned', 'Nyack', 'celebrated', 'ensuing', 'fatwa', 'anyone', 'Jewish-American', 'Snow', 'Crash', 'Sing', 'Body', 'Electric', 'Fahrenheit', '451', 'Wishsong', 'Shannara', 'historical', '1930', 'grandfather', '40-50', 'season', 'depicts', 'Caesar', 'civil', 'drama', 'Sociologist', 'Kurtz', 'sad', 'timeless', 'contradictions', '17-28', 'moon', 'dictator', 'Alice', 'Walker', 'immunologist', 'Re-Birth', 'Aaronovitch', 'suggested', '1932', 'contemporary', 'Treasury', 'Higher', 'Teachings', 'easiest', 'thing', 'world–', 'aloud', 'J', '1898', 'Swan', 'naturalist', '146', 'References', '1643', 'spoke', 'remarks', 'nothing', 'crumpled', 'porno', 'politicians', 'taxes', 'correspondent', 'biological', 'career', 'Oxford', '019857519X', 'evolutionary', 'God', 'Delusion', 'Papal', 'nuncio', 'Hyde', 'Iqbal', 'speculated', 'Kaif', 'Abbey', 'imperiled', '1215', 'compete', 'Wrestlers', 'Moravians', 'avidly', 'ministering', 'received', 'freedom', 'assumed', '1789', 'marched', 'Cathedral', '55.5', '89', 'studies', 'Framlingham', 'Ritz', '200,000', 'protestors', 'take', 'streets', 'resides', '1488', '1920', 'burning', 'sea-coal', 'proclamation', '99', 'library', 'venues', 'Hounslow', '1871', 'Marylebone', 'core', '10-', 'Gatwick', 'Heinemann', '53', 'mercantile', 'house', 'arrival', 'assortment', 'clubs', 'Currently', 'B.U.G', 'Mafia', 'blogger', 'airport', 'serves', '1880', 'Kurt', 'Daluege', 'hanged', 'Pankrác', 'making', 'demands', 'Stanislav', 'Grof', 'Created', 'Having', 'medicine', 'peaceful', 'student', 'demonstration', 'Headquartered', 'Rawalpindi', 'serving', 'Olympic', 'torch', '`', '367', '290', 'posted', 'Sallins', 'quite', 'syncretic', 'Christianized', 'Tonantzin', 'Chapultepec', 'these', '274', 'Mexicas', '300', 'Soon', 'closed', 'friendly', 'police', 'Chandi', 'Mandir', 'legislator', 'affiliate', 'Capitol', '130', 'remain', 'Museum', 'governorates', '396', '250', 'RAF', 'Habbaniya', 'legal', '87', 'Hazratbal', 'Shrine', 'railhead', 'started', 'displayed', 'Expo', 'Dome', '15:17', 'UTC', '23:17', 'establishing', 'councillor', 'midway', 'centered', '120', 'Zhejiang', 'Xi', 'CPC', 'reside', 'municipalities', 'Marsala', 'Main', 'Ethiopian', 'Rift', 'stadium', '163km', 'LOCATED', '260', 'KILOMETERS', 'SOUTH', 'OF', 'Smog', 'winding', 'schools', 'Most', 'Moulsham', 'metropolis', 'cars', 'rapper', 'singer', 'dancer', 'Seocho-gu', 'satellite', 'Nowon-gu', 'charge', 'administrative', 'affairs', 'rushing', 'outlets', 'plane', 'Szymany', 'Threave', 'co-designed', 'Parliament', 'Medna', 'Bayrokova', 'resident', 'Africville', 'villages', 'arrests', 'Plath', 'Hughes', 'Thames', 'Water', 'underground', 'reservoirs', 'opens', 'Woolwich', 'Shlomo', 'Argov', 'consul', 'sell-out', 'trace', 'roots', 'Southend', 'ranking', 'Byzantium', 'Migrations', 'replacing', 'Upon', 'promoted', 'Holocaust', 'denial', 'symposium', 'store', 'openings', 'Found', 'comprised', 'Dubai', 'Ruler', 'sex', 'abuse', 'charges', 'Seraphim', 'Storheim', 'appeared', 'meanwhile', 'reigning', 'regime', '21:25', 'hrs', 'Holy', 'Wall', 'Spaffords', 'destruction', 'Biography', 'Early', 'Goren', 'apostolic', 'delegate', '1948', 'Hacham', 'Ben-Sion', 'Tashi', 'Waldorf', 'save', 'snowy', 'Birganj', 'Biratnagar', 'spend', 'months', 'arrested', 'IOM', 'Jitedasti', 'sat', 'throne', 'Potsdam', 'jasmine', 'symbolic', 'Thousands', 'gathered', 'mentions', 'famine', 'find', 'jobs', 'driving', 'economy', 'Paco', 'writes', 'capitals', 'Brindisi', 'instance', 'Ilyushin', 'Il-62', 'takeoff', 'MfS', 'headquartered', '56', 'headquarters', 'Yugoslav', 'Army', 'besieged', 'cottage', '1855', 'educated', '78', 'graduate', '580', 'neighbourhood', 'directly', 'Macleod', 'Only', 'businesses', 'encompasses', 'Auckland', 'Petrograd', 'Lubyanka', 'Archangelskoye', 'Once', 'NKVD', 'transported', 'Bose', 'stalled', 'front', 'McDonald', 'station', '519', 'Bellary', 'Road', 'NH', 'Hyderabad', 'pizzeria', 'farmlands', '14km', 'burgraviates', 'dated', 'Postmark', 'Allies', '275', '171', 'docked', 'glued', 'devastating', 'devastated', 'Saigon', 'earlier', 'lays', 'siege', 'college', 'dominates', 'skyline', 'freed', 'Gu', 'three-hour', 'journey', 'daily', 'unrests', 'riots', 'assassinated', 'Chery', 'HITB', 'Plenary', 'Hall', 'temple', 'Batu', 'Caves', 'operating', 'accessible', 'car', 'opposed', '10km', 'Malaysian', 'XI', 'wandered', 'seat', 'shifted', 'outlet', '195', 'carrier', 'airline', 'N7', 'route', 'codes', 'however', '3.75', 'ruled', 'dynasty', 'Casablanca', 'destroying', 'Specifically', 'follows', 'minutes', '315', '196', '420', 'Mendiola', 'Miguel', 'opposition', '315km', '170', 'nautical', 'task', 'prompted', 'aid', 'charts', 'mosque', 'Peking', 'cities—namely', 'Morayta', 'north-northwest', 'establishment', '330', 'ended', '1453', 'capture', 'survivors', '1018', 'Delyan', 'captive', 'domed', 'churches', 'rivals', 'death', 'blow', 'Sultan', 'Mehmet', 'initially', '163', 'kms', 'Bombay', 'proud', 'barring', 'slums', 'Baghdadi', 'Jews', 'buffer', 'compromise', 'Shah', 'Massoud', 'Radisson', 'SAS', 'Hotel', 'km2', '603', 'matches', '858', 'So', 'Iona', '.There', 'Universal', 'Success', 'Group', 'Intercontinental', 'capitol', 'initiative', 'Yudhoyono', '|', 'death_date', 'death_place', 'flame', 'Bandung', 'Inhambane', '829', 'districts', 'usual', 'architecture', 'liberating', '1513', 'housed', 'Aegean', 'stops', 'Mura', 'Pregne', 'preparation', 'operatic', 'barely', 'survived', 'assassination', 'Blue', 'professional', 'surfer', 'Warragamba', 'catchment', 'Bathurst', '390', '242', 'Including', '540', '340', '175', 'Jane', 'empire', 'centred', 'U.N.', 'Messenger', 'Peace', '1915', 'Raja', 'Mahendra', 'Pratap', 'leishmaniasis', 'commonly', 'closest', 'Taliban', '230', '143', 'tried', '140', 'ancestors', 'Bikrampur', 'Fertility', 'photographed', 'residential', '75km', 'poverty', 'everywhere', 'Even', '320', 'Kilometers', 'Kilometres', 'Almora', 'AM', 'celtic', 'coin', 'Biatec', 'round', 'meetings', 'Barcelona', '1823', 'Hoyo', 'Manzanares', 'designed', 'planning', 'Yogyakarta', 'Burger', 'hosts', 'decided', 'Nellie', 'going', 'deepest', 'Kibera', 'discourse', 'Emmanuel', 'units', 'complex', 'Airways', 'Tower', '-based', 'Yusuf', 'al-Qaradawi', 'sermon', 'Al-Ahli', '1839', 'Filming', 'safely', 'conveying', 'ultimately', 'al-Husayni', 'telegram', 'Havel', 'DGVN', 'Aachen', 'fourth-largest', 'mixing', 'Hansa', 'Studio', 'pornographic', 'actress', 'Carlebach', 'investors', 'legislative', 'Virgin', 'Megastores', 'Piraeus', 'flooded', 'embassy', 'bloody', 'battle', 'burn', 'Bol', 'basketball', 'Coptic', 'cathedral', '360', 'Teutamides', 'teaches', 'dojo', 'Upplands', 'VÀsby', '1903', 'loc', 'ated', 'Johanneshov', 'saved', 'Daereungwon', 'residence', 'Silla', '2,200', '1,400', '30km', 'Haridwar', 'jeans', 'exported', 'sailors', 'Minchey', 'explosion', 'Mekong', 'Neak', 'Leung', 'Anonima', 'Sound', 'Ltd.', 'Kohima', '111', 'holed', 'regional', 'Italians', 'lake', 'Oktoberfest', 'late-era', 'renaming', 'Ages', 'insight', 'test', 'broadcastings', 'proclaimed', '4hr', 'taxi', 'Sonjna', 'Moringa', 'oleifera', 'flowers', '145', 'Tree', 'Durgapur', 'Leaves', 'Ali', 'Ghandour', 'Lebanese', 'Émile', 'Lahoud', 'MTS', 'LTE', 'Meetings', 'teenager', 'summer', 'Rainy', 'company', 'public', 'transportation', 'Aki', 'Maita', 'Bandai', 'prefectures', 'accompanying', 'leads', 'Ubiquitous', 'Networking', 'Laboratory', 'UNL', 'Hachiko', 'rail', 'Monarchy', 'reigned', 'detached', '5.9', '3.7', 'stand', '210', 'rises', 'sponsored', 'U.S.I.S', 'stay', 'laid', 'Amber', 'Mewar', 'concentrated', '1842', 'Leipzig', 'Connectivity', 'cover', '74', 'ward', 'asked', 'U.', 'Embassy', 'Bundeshaus', 'Morningside', 'Glasgow', 'trains', 'calling', 'Population', '38,927', 'OS', 'grid', 'NO281015', 'Battle', 'Prestonpans', 'Taiwanese', 'makers', 'supply', 'lights', 'Salerno', 'volcanic', 'mothern', 'kidnapped', 'traveling', 'totality', 'revolution', 'Ultra-nationalists', 'seized', 'Ecoshock', 'Radio', 'speaks', 'Greenpeace', 'roads', 'Tsar', 'inaugurated', 'premiered', 'supposed', 'campuses', 'Bhubaneswar', 'FIU-IND', 'Bangalore', 'Established', 'championship', 'photographer', 'photographs', 'invitation', 'deliver', 'lectures', 'magical', 'beefcake', 'Eric', 'Flower', 'Around', '725', 'Akko', 'Sidon', 'Phoenicians', 'invade', 'carpenter', 'Philipp', 'Scheidemann', '1875', 'Imperial', 'hands', 'protect', 'palaces', 'draw', 'selected', 'welcomed', 'culminating', 'Jordi', 'bombardment', 'thanks', 'attraction', 'Passage', 'travels', '846', '.131', '488', 'km/305', 'mls', 'Gazeta', '1645', 'noticeably', '1474', 'secret', 'Zenobia', 'Da', 'Nang', 'forward', 'hosting', '2018', 'landed', 'studio', 'Duxbury', 'Hingham', '1630', 'Whittingham', 'pink', 'producing', 'embark', 'Turkish', 'mob', 'Benito', 'Mussolini', 'survey', 'conducted', 'vicinity', 'Mayor', 'longer', 'Steps', 'Gregory', 'Palio', 'di', 'Siena', 'beginning', '1470', 'rhetoric', '1380', 'lead', 'Eternal', 'effective', 'anti-aircraft', 'gun', 'crowd', '500,000', 'POWs', 'flown', 'offensive', 'resumed', 'protest', 'officially', 'Anne', 'Schiphol', 'Ida', 'Sabelis', '1869', 'splitting', 'transport', 'Cambodian', 'Landed', 'dispatched', 'apart', 'exploring', 'journeyed', 'motorcycle', 'Chao', 'Phraya', 'Wat', 'Phra', 'Kaew', 'Emerald', 'Buddha', 'Congo-', '10-minute', 'walk', 'Quetta', 'Mastung', 'Along', 'Within', 'park', 'second-biggest', 'Straits', 'low', 'Narrabri', 'Shire', 'Frankfurt', 'Alan', 'Baron', 'Harbourfront', 'Yonge', 'conference', 'Sahrawi', 'Arabs', 'jurisdiction', 'starring', 'Notre-Dame', 'principally', 'Founded', 'variants', 'climb', 'Master', 'Science', 'Teleinformatics', 'Lockerbie', '6NM', 'Aruba', 'Curaçao', 'Hurghada', 'working-class', 'chain', 'star', 'Mainland', 'chosen', 'Fersfield', 'Dien', 'Bien', '500-year-old', 'Lucia', 'toons', 'Matt', 'Chapman', 'slides', 'advancing', 'Returning', 'admission', 'modeled', '—consisting', 'Alderney', '0', 'Jhoon', 'Rhee', 'teaching', 'Senior', 'Lecturer', 'orchid', 'sets', 'economies', 'participated', 'bounded', 'bustard', 'design', 'acting', '380', 'Strictly', 'wider', 'cancelled', 'Conwy', 'towers', 'Swiss', 'southernmost', 'brother', 'Christopher', 'settle', 'Halifax/Dartmouth', 'viz', 'Enugu', 'summit', 'tambaqui', 'Palafito', 'drained', 'saw', 'hatchery', 'Nugget', 'Loakan', 'Downs', 'Pearl', 'UNESCO', 'Heritage', 'Drigh', 'PAF', 'north-northeast', 'Rosa', 'Especially', 'constitute', 'Aran', 'role', 'senior', 'coach', 'particular', 'Jaunsar', 'model', 'Londinium', 'Lincoln', 'toilet', 'Common', 'Fishing', 'nets', 'Wakefield', 'catch', 'politician', 'Councillor', 'Erice', '93', 'hydro-electric', 'second-largest', 'principal', 'seaport', 'Baliwag', 'Bulacan', 'Nicosia', 'fact', 'splits', 'causing', 'Cavan', 'Camber', 'Sands', 'Barcombe', 'Guard', 'HMS', 'migrant', 'ship', 'McNaghten', 'plaque', 'Eleanor', 'Until', 'Oakthorpe', 'attending', 'Arusha', 'climbed', 'forbade', 'actions', 'reform', 'carried', 'Oaks', 'esp', '1878', 'GUM', 'SEATO', 'Primarily', 'Islip', 'Lantau', 'walking', 'Bataan', 'officer', 'training', 'grounds', 'Prior', 'partition', 'society', 'Maryport', '15,000', 'students', 'Lindall', 'junction', 'battles', 'Sandwiched', 'transferred', 'Landstuhl', 'ruins', 'Jehanabad', 'Arwal', 'Bodh', 'circuit', 'Bodhgaya', 'Rajgir', 'Rose', 'Spruce', 'Richie', 'order', 'Providence', 'Adams', 'prominent', 'lawyer', 'figure', 'graduating', 'Bray', 'Koko', 'Head', 'passenger', '1526', 'Nizamuddin', 'emigrating', 'Indo-Aryan', 'nestling', 'singer-songwriter', 'drummer', 'Roskill', 'Wellington', '17km', 'heir', 'heritages', 'Times', '34th', 'Szigeti', 'registered', 'Nearby', 'Savar', 'Nyando', 'Zugspitze', 'resettling', 'eagerly', 'Dresden', 'testing', 'begin', 'isthmus', 'apex', 'Labu', 'Infront', '5599', '326', 'Brouillard', 'ridge', 'Miage', 'Glacier', 'rivalled', 'LACMTA', 'space', '165', 'therefore', 'Shakya', 'clan', 'mention', 'inner', 'e-Commerce', 'giant', 'dine-in', 'canid', 'SS', 'TBD', 'Kristen', 'Dalton', 'Rut', 'breeds', 'Toronto', 'prefecture', 'palace', 'served', 'Operation', 'Merkur', 'Knossos', 'undocumented', '1000', 'Minoan', 'shop', 'features', 'broader', 'Caesarea', 'provincial', 'Manager', 'Lathi', 'cane-fighting', 'Migrants', '.Between', 'china', 'Nesting', 'dessert', 'originating', 'Minjur', 'Desalination', 'Plant', 'Chennai', 'animal', 'Trade', 'sai', 'expatriates', 'crust', 'cricket', 'heritage', 'ancestry', 'Sukhothai', 'Ayutthaya', 'Tremors', 'felt', 'Blithe', 'Hollow', 'strong', 'EF3', 'tornado', 'strikes', 'Garnett', 'Concord', 'urbanized', 'destination', 'excavated', 'computer', 'education', 'Australia/Pacific', 'Luggala', 'settlement', 'choirmaster', 'Paro', 'Chittagong', 'Tracts', 'Azores', 'Sovereign', 'Post', 'affiliated', 'Bally', 'boutiques', 'Archaeological', 'houses', 'horned', 'frog', 'mascot', 'Originally', 'spans', 'referred', 'Sabina', 'Winter', 'picturesque', 'onwards', 'Governing', 'church', 'active', 'ports', '628CE', 'accessed', 'either', 'Akon', 'revealed', 'Fitz', 'Ralph', 'Lord', 'Route', 'Trinity', 'Misool', 'developments', 'furry', '18.5', '29.8', 'mid-town', 'Side', 'sculpting', 'painting', 'length', 'Hundreds', 'Mad', 'Bomber', 'theater', 'atmosphere', 'preferably', 'Garrett', 'subdivided', 'virulent', 'plague', 'spreading', '43rd', 'Midtown', 'neighborhoods', 'Wittman', 'Mindanao', 'Bandarban', 'gateway', 'busiest', 'immigrants', 'housing', \"'Swindon\", 'changed', 'Bavarian', 'Yantai', 'Mantri', '330km', 'Kelso', 'Alley', 'Toucheng', 'Township', 'withdrew', 'Corby', 'Brunel', 'shots', 'feature', 'Avon', 'Gorge', 'bridge', 'Sewri', '1846', 'Distant', 'Heat', 'Locations', 'parks', 'Caracal', 'GmbH', 'Suhl', 'gmap', 'humongous', 'volcanoes', 'Visit', 'Juma', 'Mosque', 'Shantivan', 'upstream', 'Seine-et-Marne', 'regarding', 'wish', 'Geography', 'Right', 'Ancient', 'Pueblo', 'structure', 'weekend', 'row', 'Quarter', 'manufacturing', 'Tanjung', 'Malim', 'legitimacy', 'Berlin-', '1602', 'Legazpi', 'subcontinent', 'Banaba', 'Nauru', 'atoll', 'Villages', 'occurring', 'Erkrath', 'prized', '1567', 'Buses', 'Tokyo', 'source', 'Reis', 'Lisbon', 'Cadiz', 'Abbotsford', 'submerged', 'Ph.D.', 'Erfurt', 'indigenous', 'flesh-markets', 'Angela', \"O'Reilly\", 'Pratt', 'Institute', 'resembles', 'run-down', 'Dawn', 'Glory', 'Silverstein', 'equivalent', 'characters', 'converge', 'weekly', 'Rifkin', 'hired', 'prostitutes', 'Host', 'Buddhist', 'premier', 'research', 'facility', 'television', 'actor', 'breathed', 'Alibaug', '135km', 'broadcasts', '104.0', 'Megahertz', '135kms', 'criminal-politician', 'Ulhasnagar', 'Andheri', 'hill', 'Bushy', '1890s', 'marches', 'background', 'Belcoo', 'Oulton', 'Holt', 'Europeans', 'Asians', 'shells', 'transferring', 'A127', 'Monument', 'monument', 'Voice', 'relay', 'Keningau', '~20', 'Rajgurunagar', 'Bridlington', 'travelers', 'parish', 'predominantly', 'One', 'sited', 'minimum', 'kingdoms', 'Aldwych', 'Exposition', 'CALABARZON', 'Saturday', 'th', 'Contestants', 'Denpasar', 'Cernobbio', 'appointment', 'planner', 'Saraiki', 'Kashmore', 'elaborate', 'Coffea', 'canephora', 'green', 'beans', 'tree', 'nude', 'elaborately', '105', 'Nagawanshis', 'hailed', 'Kalvi', 'Gayo', 'regencies', 'Aceh', 'important', 'Of', 'personally', 'paid', 'stronghold', 'Neighboring', 'Syros', 'anchored', 'Paratypes', 'governor', 'Gore', 'HTV', 'missing', 'Herculaneum', 'eruption', 'tombstoned', 'ass', 'ascent', 'rescue', 'destroyed', 'thrilling', 'ash', 'volcano', 'terrible', 'moments', 'victim', 'plenty', 'springs', 'Old', 'Balakot', 'Language', 'Arabic', 'give', 'karate', 'Karate', 'Yamamoto', 'policy', 'Examples', 'confiscated', 'bet', 'Lismore', 'laws', 'applicable', 'permanent', 'sandwiched', 'Sunset', 'peak', 'Killua', 'Clonmellon', 'SO287130', 'settling', 'above', 'Inna', 'marsupial', 'USA-', 'four-Disc', 'fly', '1,500', 'southern-plains', 'exploded', 'procession', 'employed', 'Consulate', 'movement', 'Hodgson', 'clinic', 'spell', 'Hollywood', 'Mississauga', 'Stafford', 'Cannock', 'Chase', 'Serchhip', 'Melaka', 'Coonabarabran', 'departments', '1950', 'Drenthe', 'Parmer', 'prospect', 'Mum', 'peripheral', 'admire', 'Madurodam', 'Makin', 'renowned', 'landmarks', 'Arch', 'Constantine', 'Forum', 'Spezia', 'railway', 'endowment', 'lands', 'Conventionally', 'extend', 'Semester', 'program', 'Kelleys', 'Pelee', 'Over', 'Shuswap', 'Taito', 'Lewes', '224', 'Sonaigali', 'Dispur', 'Paradise', 'Garage', 'failed', 'benefits', 'Greenwich', 'Rochester', 'depot', 'Brisbane', 'Maltese', 'Cross', 'emblem', 'illegal', 'keep', 'ferrets', 'pets', 'Coral', 'Moved', 'semi-arid', 'Polo', 'Hitler', 'acquire', 'Guadeloupe', 'crucified', 'A15', 'birthplace', 'Ram', 'Tropez', 'Influenced', 'Cadre', 'Collector', 'First', 'staff', 'coal', 'mines', 'Sandlings', 'Hadley', '1605-1606', 'locations', 'sister-city', 'Otranto', 'parishes', 'Vernon', 'Corea', 'disc', 'jockey', 'atolls', 'sightings', 'Artistic', 'impression', 'adjoins', 'Biltmore', 'fortified', 'trapped', 'Jong', 'Tajiks', 'Killing', 'Fields', 'playoff', 'rounds', 'Alam', 'architecturally', 'brutal', '108-story', 'intersection', '25km', 'USSR', 'Dry', 'Tortugas', 'ethno', '-linguistic', 'ethno-linguistic', 'overall', 'Penzance', 'Murugan', 'Parramatta', 'township', 'Marriott', 'Paraíba', 'intending', 'dominated', 'Cliento', 'factor', 'Ballyjamesduff', 'Representative', 'Mandasa', 'mandal', 'Cluster', 'hitting', 'gravel', 'commencing', '1710', 'imperial', 'Fuji', 'stopping', '.aq', 'ineffectual', '40,000', 'illuminates', 'nurse', 'monsters', 'Part', 'All', 'photos', 'hundred', 'Regent', 'Jerusalem', '6.2', 'memorial', 'interred', 'Corsier-Sur-', 'defined', 'ARMM', 'Shariff', 'Aguak', 'Superior', 'Court', '1A', 'Swaffham', 'Near', 'boundary', '1616', 'Ter', 'Veen', 'Dunkerque', 'airports', 'wedding', 'enrolled', 'Pondicherry', 'Daman', 'Home', 'Hala', 'Bhit', 'Moro', '711', 'SOS', 'Malay', 'Whitwell', 'Ventnor', 'reign', '38-35', 'Giants', 'Illustration', 'trunk', 'N4', 'pickles', 'criminals', 'Shimoga', 'Bunts', 'Billavas', 'Mogaveeras', 'Puducherry', 'alsoused', 'Chikkaballapur', 'Kolar', 'Belgaum', 'annual', 'festivals', 'concretely', 'Gran', 'Canaria', 'Immingham', 'Paxton', 'Church', 'Paxtang', 'Colombo', 'Walking', 'entirely', 'Portola', 'Westmoreland', 'Centred', 'confluence', 'Daur', 'madrassa', 'Cloud', 'Gate/', 'Bean', 'B.A', 'biology', 'Raised', 'Stirling', 'logically', 'special', 'accent', 'boundaries', 'touch', 'residences', '1856', 'Houston', 'Antonio', 'rocky', 'coastlines', 'access', 'Nostradamus', 'honored', 'Dzharty', 'lung', 'cancer', 'low-lying', 'Malaya', 'projects', 'Tank', 'Kalinin', 'Kennan', 'interested', 'twentieth', 'Kita', 'Deaf', 'Smith', 'Alde', 'gray', 'wolf', 'extirpated', 'SJ622973', 'Metropolitan', 'mighty', 'Oil', 'Springs', 'alongside', 'rivers', 'Faro', 'Lagos', 'snake', 'goddess', 'c.1600', 'notorious', 'sending', 'fully', 'laden', 'sends', 'loaded', 'Toledo', 'Rollergirls', 'bouts', 'Erineus', 'freemason', '218', 'Liat', 'Towers', 'Meux', 'Brewery', 'exclusive', 'boutique', 'Amundsen-Scott', 'stated', 'goal', 'Bonaire', 'Saba', 'Kunene', 'Due', 'escalated', 'conflicts', 'Inditex', 'yurt', 'entrance', 'inspect', 'construction', 'progress', 'chance', 'view', 'magnificent', 'Bailiffs', 'capacity', 'audience', 'leading', 'Jupiter', 'Optimus', 'Maximus', 'Palatine', 'Hamilton', 'trendy', 'ban', 'lifted', 'SHAPE', 'Headquarters', 'Carmarthenshire', 'Morrison', 'taluks', 'Multan', 'owes', 'existence', 'Yakutia', 'Sentenced', 'dub', 'WCPO', '-TV', 'Harimandir', 'Sahib', 'colleges', 'Girton', 'drainage', 'Cinespace', 'Dewsbury', 'Bishops', 'Stortford', 'Donators', 'co-fouders', 'powering', '5km', 'Split', 'Solan', 'Sirmaur', 'lowland', 'Okay', 'Kratie', 'Stung', 'Treng', 'Rattanakiri', 'Recently', 'Mumbai-', 'Historically', 'choosing', '375', 'Sussex', 'Drive', 'Cypress', 'ski', 'Piedmont', 'Ryde', 'MHz', 'images', 'mountainous', 'Jilin', 'merged', 'ROBIN', 'R38', 'Derwent', 'Sonoma', 'Canning', 'Bhadra', 'Karukachal', 'Piazza', 'Navona', 'sculpture', 'Pawan', 'Arima', 'council', 'lay', 'angle', 'evening', 'earned', 'Bachelor', 'Medan', 'grape', 'Tokugawa', 'shogunate', 'court', 'Andersonpet', 'Kenilworth', 'Lagoon', 'landscape', 'dominant', 'encompassing', 'Laidley', 'courses', 'Dakar', 'Kudriavy', 'hike', 'personal', 'Hazuri', 'Bagh', 'lawn', 'Salento', 'Boulder', 'abruptly', 'turns', '16-mile', 'locales', 'gate', 'immigrating', 'TheThe', 'Yes', 'Bahamas', 'Bermuda', 'Antigua', 'checked', 'Gloria', 'Chingle', 'Beas', 'afternoon', 'rim', 'Saketa', 'Sarnath', '-zone', 'teeth', 'elsewhere', 'essentially', 'transition', 'natively', 'Kahanamoku', 'Kilometre', 'Zero', 'Milford', 'Raman', 'Physics', 'Papio', 'cynocephalus', 'Baboon', 'Somali', 'studying', 'Chemistry', 'Joe', 'Vogler', 'Tobacco', 'Board', 'Kollur', 'mine', 'abutting', 'crowds', 'jammed', 'flowing', 'Tiers', 'foremost', 'copper', 'mining', 'towering', 'Chitral', 'Dir', 'institution', 'tomb', 'Tutankhamun', 'Tombs', 'KV35', 'Ramesses', 'VI', 'photo', 'finalizes', 'weapon', 'forested', 'Warsaw', 'Ghetto', 'Ferries', 'connect', 'BFA', 'Theatre', 'Arts', 'precisely', 'world-famous', 'Vale', 'Lotus', 'Speke', 'scrubbers', 'Shurpaev', 'Nahargarh', 'Communities', 'Lau', 'criminal', 'trial', 'advocacy', 'killing', 'injuring', 'refer', 'consisting', 'vocalist', 'Carl', 'Puttnam', '1615', 'Center', 'filed', 'bankruptcy', 'comprises', 'Falkland', 'landfall', 'Polynesia', 'husband', 'Kazakh', 'SSR', 'missile', '1969', 'Zeila', 'boxer', 'tulip', 'fields', 'Shibaura', 'Stag', 'Shop', 'Antrim', 'Salton', 'Monterrey', 'prominently', 'concerts', 'Wimereux', 'Her', 'Fon', 'doctoral', 'Lugar', 'Maritime', 'Blyth', 'BretonniÚre', 'salt', '96', 'Tring', 'Pudukottai', 'Pudukottai-', 'hijirah', 'Shashamane', 'Shashemene', 'Abyssinia', 'Pisa', 'enemy', 'gala', 'bohÚme', 'Modena', 'Agnelli', 'accident', 'G8', 'specially', 'Bombs', 'Kati', 'Kuri', 'Mohawk', 'diggers', 'Ffos-y-fran', 'Stockholm', 'employs', 'Cryptzone', 'Philosophy', 'Emerity', 'concentration', 'Alaminos', 'Kachchh', 'derailed', 'alcoholic', 'drinks', 'Moscow', 'teach', 'rational', 'mechanics', 'Diveyevo', 'leaves', 'Sherwood', 'CFBR-FM', 'cultivated', 'Brampton', 'team', 'Knowledge', 'glacier', 'Nuu-chah-nulth', 'Bahia', 'TIGARAH', 'Sao', 'Casement', 'especifically', 'centers', 'applies', 'Drought', 'Wembley', 'Stadium', 'Hiroshima', 'crossroad', 'counselled', 'retention', 'occupying', 'Crieff', 'Otway', 'Tenasserim', 'Hills', '1325', 'Loch', 'Tuath', 'gambler', 'lion', 'cage', 'Pacha', 'club', 'Storey', 'Popular', 'resorts', 'Afrasiab', 'scattered', 'battlefield', 'Rayside-Balfour', 'ian', 'manager', 'sheep', 'specimens', 'Previously', '1980s/1990s', 'Botany', 'naming', 'determined', 'individual', 'establishes', '@', 'Anchorage', 'Westmount', 'NDG', 'Montreal-Ouest', 'Flat', '1480', 'Turks', 'Zion', 'Lod', 'vs', 'Balfour', 'Declaration', 'sacked', 'Capri', 'Chhindwara', 'constituency', 'saharia', 'Sironj', 'Mandsaur', 'Luzon', 'Mathematics', '563', 'Ski', 'Yangzhou', 'Hurricane', 'Katrina', '74,500-seater', 'moist', 'woodlands', 'thickets', 'Progressive', 'Leda', 'Renee', 'Knowlden', '1.70m', 'descending', 'Atlas', '3.5', 'Sunday', 'Kopet', 'Dag', 'Jericho', 'spur', 'A380', 'abandonment', 'permitting', 'chart', 'Batavia', 'Sports', 'Complex', 'Sox', 'Khotyn', 'cultures', 'fairly', 'done', 'Mack', 'C.A', 'Toberaraght', 'Tample', 'resort', 'islamofascists', 'rich', 'nature', 'culture', 'detonated', 'bombs', 'nightclubs', 'Ryukyu', 'Aleutians', 'Guam', '1,750', 'Surrounded', 'ghats', 'feral', 'Running', 'Opened', 'Chintpurni', 'checking', '.Their', 'ground', 'TQ373324', 'Parish', 'Auchinleck', 'Kyle', 'Clara', 'floor', 'Star', 'Darginians', 'hunkered', 'explorer', 'Hernando', 'Soto', 'denotes', 'origin', 'flaunts', 'soaring', 'university', 'Agriculture', '14.5', 'accelerated', 'LLB', 'Mahanuvara', 'damaging', 'Ulaan', 'Baatar', 'Tirumala', 'Sengkang', 'Keys', 'commute', 'provide', 'shelter', 'Bengkulu', 'Exeter', '1638', 'sport', 'psychiatric', '3718m', 'Gazi', 'Nanhumbir', 'Cabo', 'Delgado', 'Outremont', 'complete', 'watching', 'guy', 'comforted', 'Hodal', 'roof', 'Oystermouth', 'Places', 'bay', 'Mumbles', 'terminus', 'landmasses', 'Satun', 'Urak', '270', 'Occupying', 'prevents', 'prevented', '1801', 'faces', 'Gunn', 'commenced', 'run', 'Christchurch', 'A13', 'Benfleet', 'Ferrari', 'Maserati', 'showroom', 'Bonlanden', 'erstwhile', 'Colosseum', 'encircles', 'Taipei', 'Shuja', 'Seguin', 'honor', 'Mananjary', 'connection', 'working', 'Osiris', 'R.A.F', 'Bankside', 'stretched', 'Lion', 'Gardiner', 'manor', 'Art', 'Students', 'League', 'Yale', 'megapixel', 'stealing', 'airplanes', 'Palenque', 'filmed', 'Mountrath', 'macjournal', 'review', 'macworld', 'attend', 'Mehmood', 'bulk', 'Hilden', 'Langenfeld', 'higher', '467.4', 'inches', '11,870', 'mm', 'Tharamani', 'experience', 'Freshfield', '980', 'Landwasser', 'dive', 'crystal', 'clear', 'trailhead', 'Area', 'postings', 'destroys', 'Edgar', 'Martinez', 'Bismarck', 'Vangunu', 'dome', 'Caicos', 'sapoti', 'minimal', 'hurricane', 'Egyptian', 'natural', 'recent', 'populist', 'demonstrations', 'Cranbrook', 'Goudhurst', 'Insurance', 'aiming', 'Bicol', 'Ilocos', 'Marikina', 'Metro', 'MIMAROPA', 'Cagayan', 'whole', 'lapu-lapu', 'Cordillera', 'Administrative', 'abundant', 'Tagalogs', 'Ilocanos', 'Ifugao', 'conglomeration', 'Before', 'railroads', 'thousands', 'Ashkelon', 'Acre', 'shops', 'Sheriff', 'Abreo', 'double-dome', 'chiefly', 'Edale', 'Napoleon', '1777', 'soil', 'Chechnya', 'Ansbach', 'Haida', 'Gwaii', 'Collins', 'Ikat', 'labeled', 'ikat', 'Andes', '1833', 'Lujan', 'Semi-arid', 'Pampas', 'outer', 'Gozo', 'Snake', 'TA199688', 'Langley', 'Buy', 'Nothing', 'Marty', 'Fisher', 'early-18th', 'seaside', 'holy', 'Shimla', 'Sirmour', 'Millvina', 'Dean', 'volunteers', 'defending', 'assigned', '.The', 'finest', 'technical', 'institute', 'enclosed', 'Cod', 'pagoda', 'volatile', 'cultural', 'Stuttgart', 'Prakrit', 'Shaykh', 'Abdullah', 'resided', 'Slavonia', 'ferries', 'Portside', 'warmest', 'climate', 'coterminous', 'speculation', 'Chomsky', 'requiring', 'ships', 'entering', 'lodge', 'Nevis', 'Forth', 'enrolling', 'peaks', 'Longs', 'Peak', 'Sign', 'facing', 'SMU', 'ceremonial', 'rise', '2,864', 'Sabah', 'coming', 'box', '2,400', 'actively', 'famous/infamous', 'Sauer', 'exotic', 'Municipal', 'Naples', 'crater', 'Lowari', 'Broghol', 'Shandoor', 'Gilgit', 'Broghil', 'Gorno-Badakhshan', 'stands', 'Dead', 'Welwyn', 'Colsterworth', 'hamlet', 'battalion', '27th', 'Positano', 'Branca', 'Calabria', 'powerful', 'earthquake', 'evocative', 'landscapes', 'Natividad', 'Colby', 'Leavenworth', 'shires', 'Jubilee', 'Bus', 'reporting', 'Manmade', 'Intel', 'distributed', 'Aloe', 'ferox', 'Kwa-Zulu', 'Natal', 'bows', 'climates', 'straddles', 'Ashland', 'receiving', 'BA', 'economics', 'Chapeltown', 'gorge', 'performing', 'Anglesey', 'operator', 'west-flowing', 'heavy', 'damage', 'Galveston', 'INDIA', 'vahicle', 'available', 'Himalaya', 'Conservatory', 'Blaby', 'Karelian', 'Siding', 'Observatory', 'headwaters', 'north/northeast', 'Malton', 'Thirsk', 'west-northwest', 'Roxas', 'Minor', 'Bastille', 'Celebration', 'Morehouse', 'Bheri', 'Tropical', 'Immature', 'Female', 'Parachilna', 'Isan', 'Edwardstone', 'windmills', 'Dunwich', 'annually', 'Ceuta', 'fourteen', 'gunsmiths', 'Solihull', 'exit', 'privateering', 'iconic', 'escapes', 'climbs', 'equidistant', 'SP765575', 'Jose', 'games', 'loch', 'Extensive', 'fossil', 'knownas', '2000s', 'Four', 'additional', 'getting', 'shipwrecked', 'barrage', 'Beachley', 'Hallandale', 'Vice', 'Lae', 'Town—', 'Ulm', 'purchase', 'Highlands', 'look', 'Halton', 'singers', 'Glinka', 'lessons', 'Tweed', 'Range', 'Nimmel', 'lent', 'Organized', 'storm', 'ripped', 'Russians', 'A90', 'Kelantan', '313', 'black', 'mamba', 'Fairfax', 'himself', 'chin', 'KECA-TV', 'KABC-TV', 'ha', 'Windward', 'soundstages', 'Dodger', 'shooting', 'spots', 'Roderick', 'Shortly', 'Grey', 'develop', 'syndicate', 'gambling', 'rackets', 'le', 'target', '4.3', 'Liphook', 'Guinean', 'flamenco', 'Mo', 'Oct', 'Lhasa', 'Police', 'encounter', 'Tuljapur', 'Jagdamba', 'Lelystad', '1564', 'Owned', 'seizes', 'astonishing', 'destinations', 'dormitory', 'Norte', 'Green', 'wings', 'manufactured', 'Filton', 'northerly', 'Rajputs', '.A', 'Kayadara', 'Paramaras', 'regularly', 'fishing', 'decoration', 'purposes', 'comune', 'commune', 'About', 'kilometer', 'Georgetown', 'E.', 'coracana', 'observing', 'nightclub', 'disco', 'starts', 'slope', 'attractions', 'GCM', 'Tufts', 'Sister', 'Broken', 'strike', 'Waltham', 'Fiennes', 'overrun', '698', '926', 'signs', 'carry', 'Yorubaland', 'pediatrics', 'Senlac', 'Geographically', 'Pelicans', 'noticed', 'coelacanth-like', 'Tiruvalla', 'rund', 'nördlich', 'Southampton', 'Harrow', 'style', 'Cook', 'A82', 'Rodrigo', 'Croce', 'Titian', 'masterpieces', '1641', 'Zeeland', 'Wharfe', 'Subsequently', 'Epirus', 'hometown', 'raising', 'postered', 'Semien', 'Gondar', 'replica', 'Ferry', 'Crossing', 'Egg', 'Capiz', 'Hiligaynon', 'Photo', 'Olivier', 'Grunewald', 'jeep', 'Macy', 'flagship', 'Leeward', 'discovery', 'Arawak', 'nesting', 'Local', 'Kelly', 'Teignmouth', 'Axminster', 'psychology', 'Junagadh', 'eg', 'Tomb', 'Diver', 'relate', 'Yarra', 'warden', 'Khan', 'Federer', 'Nawab', 'Angel', 'Maria', 'Hobby', 'Tornio', 'Horsas', 'Fasnia', '1900s', 'tide', 'Mill', 'Fishbourne', 'sponsoring', 'shoot', '5,895', 'Anthropology', 'Jimbaran', 'Russias', 'serve', 'molieben', 'Kiss', 'sold-out', 'holding', 'fanmeeting', 'Ennis', 'Eglinton', 'organisations', 'Abida', 'Larkana', 'Gandhar', 'Badin', 'mangrove', 'forest', 'Chew', 'summa', 'cum', 'laude', 'Basilan', 'poster', 'rugged', 'Connemara', 'Aegina', 'mapped', 'Asotra', 'Balotra', 'CA', 'Vladimir', 'Wallace', 'UA', 'plains', 'arrive', 'Highland', '—to', 'homecoming', 'Rama', 'Guelph', 'westward', 'Ottawa', 'Association', 'Youth', 'Amethyst', 'notice', 'tallest', 'Mae', 'Chaem', 'Milos', 'Ios', '199', '68,688', '345.2', 'Fagatogo', 'nd', 'N.', 'Ingeborg', 'Weber-Kellermann', 'blue', 'Visited', 'Hendrix', 'technology', '—England', 'Darling', 'micro-regions', 'Telavi', 'Built', '1325-1344', 'distinguish', 'martyred', 'Dacian', 'procurator', 'alumnus', 'Renamed', 'BPO', 'expertise', 'Ebadi', 'Propylaea', 'porch', 'Agartala', 'Indore', 'Technology', 'ii', 'Bakare', 'Ita-Ado', 'Scotch', 'Etten', 'Rotterdam', 'Ellsworth', 'beside', 'inhabiting', 'SK763454', 'Siliguri', 'Health', 'Service', 'display', 'Oberammergau', 'Hohenschwangau', 'FÌssen', 'Swabia', 'Ingolstadt', 'industrial', 'Maputo', 'plan', 'Beverly', 'Jezzin', 'Leigh', 'Woods', 'Eleven', 'drowned', '.Situated', 'bustling', 'Asa', 'Nevasa', 'taluka', 'AGO', 'Sonic', 'Boom', 'ROM', 'Eaton', 'wuxu', 'ku', 'barbaaray', 'Jaziirada', 'archives', 'rock', 'formations', 'Palikir', 'Kitts', 'Argentine', 'Renfrewshire', 'awarded', 'helping', 'underprivileged', '50,000', 'Nainital', 'tube', 'SK615915', '231', 'SK782792', 'Samar', 'Leyte', 'tough', 'dockside', 'Alcatraz', 'Medicine', 'Looking', 'inlet', 'Tidal', 'resonance', 'Narasi-Bamani', 'actual', 'Abucay', 'Dinalupihan', 'rain', 'worms', 'allegedly', 'fell', 'North-East', 'Volga', 'stonemasons', 'Jerry', 'Remy', 'Grill', 'foreground', 'PS', 'Waverly', 'Wightlink', 'Wight', 'Ryder', 'dock', 'Augustin', 'Sinzig', 'mid-18th', 'Patagonia', 'business', 'garrison', 'Visconti', 'Sforza', 'alle', 'Ossa', 'Cities', 'Venegono', 'Superiore', 'Lombardy', 'countryside', 'fashion', 'zoo', 'Limerick', 'Feria', 'Abril', 'Brava', 'Andalusia', '24.9', 'Institution', 'practiced', '152', '153', 'Hokkien', 'word', '.It', 'Himalayan', 'coordinated', 'Lars', 'Bak', 'half-way', 'Shirdi', 'Lipa', 'Canossa', 'Schwarzenegger', 'fame', 'mixed', 'Recording', 'Studios', 'surroundings', 'closure', 'disguised', 'miniature', 'souvenirs', '1886', 'celebrate', 'Karlsbad', 'touristy', 'Thar', 'doubles', 'Gifu', 'Prefecture', 'B1195', 'Kon-Tiki', 'smashed', 'reef', 'Changi', 'Orchard', 'boomtown', 'Unit', 'Culture', 'Research', 'beige', 'cloud', 'Teraina', 'Keoladeo', 'Department', 'Religious', 'Studies', 'Pembroke', 'farmers', 'Tuva', 'cuts', 'one-bed', 'v.', 'territorial', 'staged', 'nine', 'Del', 'Cerro', 'I.', 'ottingeri', 'parliament', 'Burnaston', 'nationalised', 'Moseley', 'Egham', 'aftermath', 'Ceará', 'stray', 'tells', 'creation', 'BOLOGNA', 'Lumumba', 'Residence', 'skirmish', 'nee', '76', 'Dunedin', 'Fenian', 'organiser', 'Naas', 'cf', 'Beck', 'Armenien', \"''\", 'Eagle', 'coal-black', 'giving', 'rights', 'exercise', 'colonial', 'Boca', 'bureau', 'seafood', 'exposed', 'Dartmoor', 'attracting', 'visitors', 'outsiders', 'yoga', 'meditation', 'hope', 'privileged', 'drought', 'stricken', '2.37', '3.81', 'scenes', 'fringe', 'whom', 'Holte', 'artificial', 'KeySpan', 'Incan', 'Rutherford', 'Nets', 'Shiggaon', 'taluk', '2.5', 'Held', 'Osho', 'ashram', 'Kamshet', '6.4', 'north-', '5.3', '8.4', '13.5', '-west', '33.5', 'mauve-colored', 'mirrors', 'Arunachal', 'controls', 'Davisville', 'respectively', 'Walt', 'Whitman', 'I-76', 'Elstree', 'differences', 'Campania', 'VIII', 'crowned', 'trucked', 'Hunter', 'Shropshire', 'Zota', 'Seoul', 'Sacramentines', 'Srisailam', 'Vaishnava', 'temples', 'Mshatta', 'associated', 'Po', 'Bicester', 'Spent', 'Ariel', 'Warwickshire', 'city-states', 'enigmatic', 'domestic', 'Willis', 'farming', 'TQ043084', 'Edmonton', 'CHTZ-FM', 'funeral', 'Five', 'Lands', 'Sub-Saharan', 'allied', 'Wreake', 'hiking', 'elvere', 'ellefolk', 'voted', 'Keighley', 'circulation', '84,421', '/32,595', 'Saul', 'Down', 'Horqin', 'Sukkur', 'Antarctic', 'Ice', 'Sheet', '5,671', 'metre', '18,606', 'Volcanic', 'walled', 'Manila', 'Rizal', 'Often', 'hotel', 'Concorde', 'Birmingham', 'Elk', 'R68', 'grapes', 'officers', 'covering', 'Bowery', 'Points', 'Altai', 'perfectly', 'calm', 'Muar', 'brothers', 'Maakhir', 'Cynon', 'Hartley', 'Whakarewarewa', 'aviator', 'Sources', 'Sikhs', 'Sterkfontein', 'Ahmadiyya', 'Abode', 'swamp', 'Zuccotti', 'troubled', 'laurea', 'Colligan', 'piano', 'Newcastle', 'overnight', 'Oldenburg', 'A85', 'Anglo-Chinese', 'Nagaur', '6km', 'Cofimvaba', 'Transkei', 'fortresses', 'Building', 'Yum', 'Awashima', 'Marine', 'Tinos', 'shopping', 'resettled', 'inhibit', 'Minnie', 'Schönberg', 'seventy-six', 'paintings', 'gravitated', 'meter', 'feet', 'pillar', 'decade', '1496', '1506', 'towed', 'observatory', 'respect', 'Ehud', 'Spaneir', 'Spencer', 'Judah', 'Recent', 'excavations', 'ninth', 'Mendut', 'sowerbyi', 'Simultaneously', 'Galway', 'steps', 'enormous', 'Barack', 'Comprised', 'Portage', 'tributary', 'Tantra', 'Gulmohar', 'Ghats', 'Favoured', 'Mamata', 'Banerjee', 'Chief', 'strode', 'assume', 'reappears', 'Langstone', 'amongst', 'Ascension', 'Kneesall', 'A616', 'potentially', 'impacting', 'SP42', 'Eraclea', 'Mare', 'demolish', 'chapel', 'Nearest', 'sword', 'flash', 'fire', 'consumed', 'AB', 'Alita', '62.5', 'commence', 'drilling', 'Newspapers', 'funded', 'explored', 'Xenon', 'Schuyler', 'viewed', 'Chemehuevi', 'Measat', 'lucrative', 'Spice', 'Kabanjahe', 'Pramod', 'Pradhan', 'Jiwan', 'Pawar', 'trail', 'Enrico', 'Bernardi', 'legendary', 'Gunnamatta', 'EPA', 'rejecting', 'coalmine', 'surround', 'learn', 'philosophy', 'Shahak', 'Jewish', 'Taal', 'Volcano', 'Gilroy', 'Asutosh', 'Chowdhury', 'period', 'Magdeburg', 'tail', 'discharges', 'black-headed', 'Gull', 'extraordinary', 'Mayo', 'Killarney', 'abbacy', 'Hermannstadt', 'episcopal', 'Tarland', 'Bassas', 'Javan', 'Rhinos', 'skiing', '770', 'professorship', 'pulled', 'Machine', 'rocked', 'sails', 'proper', 'Gabicce', 'Jail', '240', 'electrical', 'seaports', 'descent', 'island-nation', 'alive', 'true', 'Whilst', 'Nausori', 'bull', 'sharks', 'RivFur', 'derived', '1700s', 'worshipped', 'crypt', 'apoplexy', 'shrine', 'Becket', 'gemstone', '1541', 'physician', 'Ambon', 'Día', 'las', 'Culturas', 'Cultures', 'management', 'Tehachapi', 'daughter', 'Prescott', 'Tallington', 'A16', 'Istiqlal', 'celebration', 'Trimsaran', 'Leverkusen', 'Cirencester', 'Tiber', 'Makati', 'SM', 'Megamall', 'Filipinos', 'belongs', 'Emilia-Romagna', 'Bussana', 'Vecchia', 'ghost', 'Ligures', 'Livermore', 'attested', 'fir', 'Hiked', 'targeted', 'Clinic', 'Islamabad', 'Finance', '93-Shadman', 'referes', 'Jamiat', 'Zulfikar', 'Bhutto', 'inaugurates', '404', 'Fine', 'Hertford', 'Zoo', 'Asda', 'Fratton', 'Cambridge', 'isles', 'Financial', 'Flatbush', 'ecosystem', '3G', 'Mobutu', 'relationship', 'Liguria', 'Toscana', 'Cohen', 'collapse', 'Ilorin', 'collegiate', 'Psychology', '92,000', 'Taddington', 'hold', 'Astoria', 'Sections', 'Katy', 'Colony', 'straining', 'pandemic', 'distillery', 'Shun', 'Hing', 'ANSWER', 'entities', 'divides', 'Surabaya', 'pool', 'room', 'Emoto', 'Kherlanji', 'yacht', 'Am', 'Flight', '-most', 'Chow', 'Thais', 'treasure', 'Skiathos', 'job', 'guard', 'archipelagos', 'Wave-Gotik-Treffen', 'Hellraiser', 'shelled', 'McQueen', 'Perugia', 'Terni', 'Arabic-language', 'broadcaster', 'A.B', 'Simpson', 'Swabi', 'Haripur', 'Oro', '1830', 'Weald', 'Bridgnorth', 'Brighton', 'originate', 'Pope', 'Sixtus', 'paint', 'wall', 'fresco', 'vicinities', 'Aibonito', '2,000', 'trees', 'Honorary', 'D.Litt', 'Darrtown', 'undergraduate', 'Melmaruvattur', 'Jasmine', 'bud', 'sanctuary', 'sick', 'cancel', 'Angamaly', 'Bengalooru', 'Pachaiyappa', 'Hyundai', 'Balboa', 'Pte', 'bards', 'woven', 'Newtown', 'cave', 'Boya', 'Cave', 'Crete', 'botanists', 'Tony', 'effectively', 'Sacramento', 'B1145', 'Swapnil', 'stays', 'freeways', 'Christ', 'rowboat', 'Derbyshire', 'elected', 'mints', 'subspecies', \"'stone\", 'throw', 'body', 'developer', 'owner', 'Guernsey', 'Howrah', 'twin', 'Mahanam', 'moth', 'Zeelandic', 'Genetics', 'pursue', 'Ont', 'Longing', 'frontosa', 'Afon', 'Llwyd', 'Klondike', '1740', '890', 'bishop', 'Kittim', '227', 'Opera', 'Haifa', 'Underdogs', 'traversing', 'significance', 'elder', 'temporary', 'exhibition', 'failing', 'Ziziphus', 'oenoplia', 'relocated', 'Na', 'Phrathat', 'postcards', 'aviary', 'red-light', 'Albanian', 'Camel', 'Travels', 'Researches', 'sizable', 'Chola', 'Cumbe', 'Lobos', 'Tierra', 'LL.D', 'Rennes', 'IUP', 'Carmen', 'piers', 'Normandy', 'Kuching', 'outdoor', 'malls', 'airfields', 'engine', 'LLM', '170,883', 'census', 'Cluny', 'Economics', 'serendipitously', 'Turis', 'clearly', 'Mt', 'ruined', 'Pergusa', 'Strawberry', 'pyramid-shaped', 'Fyvie', '2.6', '4.2', 'say', 'Loresca', 'KGPE-TV', 'inmates', 'Midlands', 'direct', 'sight', 'Perlis', 'baroque', 'voyage', 'Horan', 'Munchin', 'Notting', 'Greenwood', 'assembly', '293,000', 'Vilanculos', 'scout', 'acronym', 'tamarijn', 'option', 'Maya', 'Iwo', 'Jima', 'Huron', 'Inuvik', 'sacred', 'Cuper', 'Cove', 'Maremma', 'Laziale', 'Bulgarians', 'worn-down', 'altitudes', '124', 'Gould', 'Belt', 'swamps', 'ensued', 'Henry', 'Ford', '—including', 'Taken', 'Kadavoor', 'ubiquitous', 'doctor', 'Chandigarh', '683', 'adherents', 'North-', 'Okinawa', 'warbler', 'migratory', 'Melanesian', 'Clam', 'Boil', 'satyagraha', 'Somerfield', 'supermarket', 'Appley', 'Dolaucothi', 'Himalayas', 'latitude', 'aforesaid', 'reputedly', 'stones', 'Laurencekirk', 'Taunton', 'Lakers', 'Abra', 'Apayao', 'TriBeCa', 'Chelsea', 'Exmoor', 'Mahabaleswar', 'map', 'Added', 'A458', 'corporate', 'Steve', 'Timmons', 'Il', 'Messaggero', 'Vanuatu', 'trademark', 'citizen', 'CBFT-TV', 'CBC', 'Sivananda', 'Yoga', 'Vedanta', 'Trail', 'Su-15s', 'Caberets', 'caused', 'non-Arab', 'cinema', 'rather', 'finance', 'industries', 'Corpus', 'Christi', 'Gloucester', 'Brigach', 'toba', 'caldera', 'Mylapore', 'D.Sc', 'erected', 'castle', 'emir', 'prince', 'chains', 'Terrace', 'Banyumas', 'Savio', 'scholarship', 'Columbus', 'expedition', 'lush', 'Gunung', 'Leuser', '186', 'Comprising', 'Cayman', 'Brahmavar', 'Meena', 'Moffat', 'Palermo', 'allowed', 'sound', 'shofar', 'exchange', '1759', '1782', 'Bangkok', 'lieutenancy', 'Lowlands', 'Tweedsmuir', 'aeronautical', 'Light', 'Infantry', 'JAKLI', 'Darmstadt', 'promotional', 'clip', 'Baines', 'shown', 'appearing', 'intermarriage', 'tapered', 'equatorial', 'Istria', 'BNFLs', 'pre-Columbian', 'hybrid', 'Naggaroth', 'isthmian', 'Thanksgiving', 'Rodeo', 'Ave', 'bypasses', 'Signed', 'northeastwards', 'washed', 'Gricar', 'Juris', 'Doctor', 'Srinigar', 'Wetherby', 'Inland', 'ratified', 'providing', 'Leaving', 'Relations', 'Wartburg', 'Roque', 'Samoan', 'IHES', 'Bristol', 'Everything', 'Oad', 'committee', 'secretary', 'Clare', 'Comune', 'Ragusa', 'baray', 'basilica', 'Raj', 'Kapoor', 'Huddersfield', 'Finnish/Russian', 'Castleton', 'Dal', 'Arenauta', 'Sylhet', 'Division', 'Gowainghat', 'Upazila', 'theatre', '6,962', '22,841', '17-14', 'Sky', 'Arrow', 'whereas', 'Bishan', 'blocks', 'Badshahpur', 'shaded', 'spot', 'suggest', 'Tangshan', 'wrong', 'direction', 'statue', 'dropped', 'centerpiece', 'Education', '—probably', 'Sessions', 'Fierro', 'characterized', 'phrase', 'chav', 'charverin', 'WGTB', 'Fustat', 'boasts', 'Sulawesi', 'Bemo', 'buses', 'practised', 'Ramakavaca', 'Jakarta', 'Lombok', 'TDP', 'Chhattisgarh', 'Sarpanchs', 'educational', 'institutes', 'managements', 'Kakinada', 'cinematic', 'cabinet', 'Guntur', 'Darwin', 'Lundgren', '1922', 'alma', 'mater', 'Brittany', 'Sunshine', 'Beerwah', 'rainforests', 'storage', 'reserved', 'Shiva', 'Gabes', 'Barbary', 'Tripolitania', 'Teyler', 'younger', 'sibling', 'Zac', 'Cotton', 'pioneered', 'Rothemund', 'Akurdi', 'Fluss', 'Tyne', 'Verwaltungssitz', 'Distrikts', 'routed', 'ourselves', 'Seneca', 'nice', 'holds', 'Madonna', 'Inwa', 'Sagaing', 'Balui', 'descended', 'Pratipalapura', 'heyday', 'exploration', 'Cabiao', '204', 'Instead', 'attacking', 'establish', 'compossed', '900', '560', 'Jaunpur', 'Kalinjar', 'Banda', 'hailing', 'Marquette', 'Tulip', 'Time', 'label', 'Reog', 'Ponorogo', 'Nyanga', 'Stause', 'Batak', 'Aeta', 'societies', 'Usog', 'curse', 'Montmartre', 'Witwatersrand', 'Apostolic', 'vicariates', 'Batinah', 'traverses', 'tea', 'gardens', 'compare', 'Tansen', 'aquarium', 'Mecca', 'penetrating', 'realizes', 'Athenians', 'constructed', 'Vaughan', 'Lemsford', 'quietly', 'Pataudi', 'Filmcity', 'Reading', 'Sutherland', 'Shetland', 'class', 'reconstruction', 'Pergamon', 'altar', 'onward', 'Kajang', 'benefit', 'Conquest', 'discuss', 'situation', 'Haner', '.He', 'songs', 'devoted', 'Krishna', 'Unknown', 'Warrior', 'warriors', 'screen', 'address', 'R362', 'Glenamaddy', 'Cronje', 'matriculated', 'Ludhiana', 'remarked', 'interview', 'Montreal', 'seems', 'hate', 'Rexdale', 'Diamond', 'Rings', 'organization', 'filming', 'Simcoe', 'Owen', 'Panepinto', '60km', 'Canon', 'Anjar', 'Kawasaki', 'classes', 'Flowers', 'hear', 'bands', 'Harlem', 'Ballroom', 'Auto', 'moose', '318,000', '110,000', 'Tour', 'dates', 'mole', 'specimen', 'Arboretum', 'Monarch', 'Buck', 'twenty-nine', 'johnny', 'pump', 'Flanagan', 'Zhang', 'Ziyi', 'earthquakes', 'Anbu', 'Karangal', 'Wivenhoe', 'Gargunnock', 'Afterwards', 'Moshi', 'norwegian', 'Riviera', 'Pontell', 'Moraga', 'Lafayette', 'NC', 'unofficial', 'anthem', 'spurs', 'unbeaten', 'wikipedia.org', '–drink', 'bum', 'Hung-joe', 'jewel', '1809', 'Waingapu', 'Arnhem', 'Market', 'Liversedge', 'A470', 'Bone', 'Essex', 'pub', 'Dorothy', 'Rowe', 'Humber', 'Mouth', 'Sawad', 'Thurles', 'Caracas', 'Crema', 'Surrey', 'torchbearer', 'Lived', 'stud', 'Emirate', 'emirate', 'Bass', 'South-West', 'Tyers', 'Mitra', 'recovered', 'rione', 'remnants', 'facade', 'localized', 'tsunami', '1348', 'vicar', 'twelve', 'teamed', 'tradition', 'hardest', 'forefront', 'environmentalism', 'Shenstone', 'significantly', 'topped', 'Kerr', 'leather', 'goods', 'deport', 'organise', 'deportation', 'Basilios', 'Bessarion', 'Puget', 'Amman', 'tombs', 'exceptions', 'Cornell', 'waterways', 'amidst', 'alma-mater', 'communes', 'mall', 'bringing', 'thrones', 'Pathan', 'tribesmen', 'poured', 'businessmen', 'Le', 'Petit', 'Trianon', 'Marie-Antoinette', 'month', 'maybe', 'Jeddah', 'gaol', 'Whipple', 'fifty', 'Apache', 'Okogie', 'Uromi', 'crafted', 'Abingdon', 'sectors', 'men', 'Midland', 'retaining', 'Everglades', 'kissed', 'Gersut', 'Agna', 'Tunis', 'draining', 'Samarian', 'face', 'Mechi', 'rebels', 'Allen', 'fifty-six', 'Munnar', 'Fukuoka', 'Adjoined', \"'ll\", 'wonderful', 'epicenter', 'pet', 'boom', 'evidenced', 'silhouette', 'Citrus', 'Yate', 'Burnaby', 'Oval', 'Blackmore', 'Centered', 'Sool', 'Iqaluit', 'Tamara', 'streams', 'Adjacent', 'Barker', 'Inlet', 'Watts', 'defense', 'dried', 'lakebed', 'morning', '1,180', 'parade', 'Helston', 'Plains', 'Mackay', 'Scripting', 'Wife', '970', '593', '405', 'Cabinet', 'Room', 'Dun', 'Laoghaire-Rathdown', 'weed', 'woolen', 'shawls', 'wool', '144', '-controlled', 'objective', '141', 'Champlain', 'Palace', 'Ekerö', 'Municipality', 'barton', 'Scarborough', 'Pickering', 'Back', 'muhfaza', 'Al-Aqsa', 'Intifada', 'Unsurprisingly', 'imposes', 'eurozone', 'Direct', 'Rule', 'devolved', 'guilty', 'mistreating', 'prisoners', 'earliest', 'historically-dated', 'earlist', 'Parsi', 'A607', 'Maidstone', 'Co-op', 'prounounced', 'ANNICK', 'Fossils', '4.1', '6.6', 'tamarind', 'tamón', 'dish', 'outlier', '16:55', 'dissolved', 'arsenic', 'trading', 'post', 'Bailiwicks', 'bailiwicks', 'Bailwicks', 'tears', '22nd', '1795', 'Pisania', 'Gelderland', 'Initiatory', 'Mystery', 'Goodwell', 'Gatton', 'Skyline', 'Wesleyan', 'Northumbria', 'southerly', 'consider', 'fashionable', 'Literally', 'means', 'embroidery', '363', '226', 'perform', 'prayers', 'Lucania', 'excludes', 'Bette', 'Martin', 'Hebron', 'sakura', 'explore', 'familiar', 'constituent', 'colle', 'ge', 'holiest', 'Judaism', 'Lee', 'mount', 'lee', 'Hereceived', 'bachelor', 'showbiz', '5000', 'boy', 'harbor', '1:30', 'p.m.', 'Polish-Lithuanian', 'Calusa', 'prehistoric', 'Lakes', 'Katingal', 'falls', 'wide', 'estuary', 'canoe', 'weather', 'Dee', 'Sitting', 'Gadag', '990', 'stone', 'heads', 'statues', 'Probably', 'kids', 'remember', 'mysterious', 'Google', 'Tolkien', 'Forodrim', 'Siöberg', 'Sorab', 'campo', 'Tigullio', 'gather', 'Manly', 'trailing', 'Manitoulin', '113', 'fort', 'Ater', 'Phillip', 'rumour', 'botanical', 'searching', 'enriched', 'retake', 'Kruti', 'definitely', 'Brock', '.According', 'mythology', 'Vishnu', 'Badlands', 'Buchs', 'Koh', 'Close', 'Indo-Australian', 'Kalimantan', 'red-tailed', 'golden', 'guess', 'HDR', 'panorama', 'Davenport', 'papal', 'flew', 'exclusion', 'Orient', 'Hondo', 'thirteen', 'shorts', 'cattle', 'focusing', 'summits', 'plain', 'Waters', 'Beaches', 'Seems', 'logical', 'eat', 'Caprese', 'salad', 'a.m.', 'stretch', 'Kansai', 'Kobe', 'youth', 'Rogersville', 'Huntsville', 'gone', 'Tiffany', 'Johannesburg', 'prevalent', 'Pentridge', 'Prison', 'En', 'hoping', 'German-occupied', 'Mounts', 'ray', 'component', 'Buried', 'Lilapur', 'Ahmadabad', 'EC999999', 'Introduced', 'owned', 'North-West', 'Osmanic', 'legislatures', 'Belur', 'Kutha', 'coffee', 'bar', 'knows', 'Salty', 'Dog', 'Seafood', 'Grille', '206', 'Haya', 'Thus', 'Mehrauli', 'carnage', '1467', 'Luciano', 'Laurana', 'adding', 'Sauraha', 'Electrical', 'Engineering', 'vorontsovsky', 'Edith', 'Carriage', 'rides', 'hallway', 'graduates', 'rambutan', 'planted', 'Category', 'Palawan', 'Herat', 'Ted', 'Beckham', 'shut', 'Sumatra', 'diocese', 'Levantine', 'corridor', 'Rice', 'empty', 'roundabout', 'minute', 'Tunapuna', '1857', 'surprisingly', 'Hayathnagar', 'Peddamberpet', 'N.H', 'highway', 'caves', 'vacation', 'placename', 'constituting', 'drier', 'Boulevard', 'Formerly', 'square', 'Sarawak', 'Linguistics', 'saying', 'Donegal', 'Politics', '31,740', 'Kofi', 'Annan', 'Visage', 'apartment', 'Filsinger', 'Lowry', 'Directly', 'Maihama', 'Rosedale', 'Madang', 'MAG', 'UMass', 'Amherst', 'castles', 'Approximately', '5-6', 'derives', 'Narayan', 'Greenland', 'Lincolnshire', 'cuisines', 'A6055', 'vice', 'chancellor', 'customs', 'Lubiana', 'Monique', 'crash', 'third-largest', 'Bell', 'Piran', 'counterclockwise', 'Bodega', 'Demak', 'striking', 'Montreux', 'famed', 'Reunion', 'Vigan', 'Brook', 'Wilmslow', 'Jacksons', 'Lesser', 'Initially', 'Kempenfelt', 'Myers', 'Scansano', 'Abruzzo', 'atop', 'Cloyne', 'Dehu', 'redback', 'spiders', 'commemorate', 'Onzieme', 'Kamboja', 'consciousness', 'highlights', 'faculty', 'farm', 'Sikar', 'Chilean', 'reckoned', 'encyclopedia', 'information', 'Mari', 'headquarter', 'efforts', 'resupply', 'Menander', 'crumbling', 'mansion', 'conjure', 'Marrakech', 'extension', 'Autobahn', 'limit', 'Type', 'locality', 'Mazatlán', '1862', 'thematic', 'wellspring', 'speciality', 're-christened', 'Azov', 'admiring', 'Inyo', 'steppe', 'unaware', 'begged', 'beggars', 'Nazis', 'emergence', 'Homo', 'sapiens', 'Rudy', 'Giuliani', 'Kneeling', 'Stone', 'Anointing', 'hectare', 'acre', 'subset', 'cigarette', 'advertisement', 'majored', 'arts', 'immerse', 'herself', 'becomes', 'Jones', 'Bhaktapur', 'internment', 'bought', 'staple', 'hanamachi', 'Shimbashi', 'stationed', 'open', 'five-part', 'Moored', 'FloraHolland', 'ajwain', 'semi-desert', 'Plot', 'Nadoda', 'immigrated', 'Bikaneri', 'camel', 'Colors', 'intense', 'Bharatpur', 'Jaisalmir', 'BhainsRor', 'Albufeira', 'tidal', 'curious', '31.07', 'Above', '6m', 'Burgh', 'Methodist', 'Ladies', 'comprise', 'Martinique', 'doctrine', 'terrific', '10800', '3.2km', 'timber', 'Algiers', 'agricultural', 'glaciation', 'Frontier', 'bo', 'rder', 'Pyrenees', 'Whangarei', 'Javanese', 'custom', 'Nelson', 'Arno', 'Brooke', 'Bond', 'guided', 'Cesare', 'Mori', 'prefect', 'Goroka', 'Cascades', 'data', 'Pompeii', 'Sheffield', 'huddled', 'Supaul', 'nationalizes', 'reopening', 're-opens', 'Unlike', 'Fifth', 'buildings', 'Black', 'Zeus', 'recovery', 'recoveries', 'arranges', 'Toorop', 'uptown', 'Banbasa', 'colleagues', 'enshrined', 'Chambers', 'Watson', 'Sizable', 'multicarts', 'strongly', 'Pterocarya', 'hupehensis', 'Hubei', 'Wingnut', 'Malabar', 'Pietro', 'Perugino', 'agency', 'handle', 'dreams', 'UCLA', 'Reeser', 'Between', '1941', 'rocks', 'Iseo', 'ethnologically', 'subregions', 'arch-rival', 'Doyle', 'Istanbul', 'Rong', 'Khun', 'Banana', 'rice', 'Clark', '3900', 'Juan', 'alluding', 'Manger', 'TM2786', 'affluent', 'Kinlochleven', 'Penal', 'flat', 'A7', 'Smolensk', 'domesticated', 'Una', 'scaled', 'cafe', 'breathtaking', 'not-to-be', 'missed', 'Manali', 'Silk', 'Cirebon', 'princely', 'Kodagu', 'Bran', 'Johnston', 'Atoll', 'Udhampur', 'deserted', 'Gauribidanur', 'Gudibanda', 'twenty-three', 'Wouter', 'currntly', 'Administratively', 'pencak', 'silat', 'martial', 'contain', 'Tengri', 'Len', 'Bhatkal', 'Arya', 'Silverstone', 'foxes', '9.7', 'Pir', 'Pal', 'proceeded', 'extract', 'Monomopatan', 'freighter', 'meteorite', 'collections', 'retrospective', 'invest', 'Nordfrieslanddistrict', 'Statistician', 'Sunda', 'expected', 'downfall', 'cool', 'post-secondary', 'Example', 'Kulinda', 'altissima', 'Cork', 'Cantal', 'Pandyas', 'Coulsdon', 'Shannon', 'Estuary', 'Flying', 'homeland', '2000m', 'swim', 'introduce', 'strategically', 'delta', 'Sheep', 'Meadow', 'misty', 'memories', 'pond', 'best-known', \"'first\", 'Laguiole', 'Venur', 'BMT', 'asks', 'help', 'Somerset', 'Less', 'window', 'panes', 'wandering', '13.8', 'west-north-west', 'Immediate', 'Garforth', 'Frog', 'MA', 'Shahrak', 'Rajneesh', 'followers', 'promotion', 'BBC', 'León', 'Urban', 'outages', 'bushfires', 'motorway', 'Albay', 'third-busiest', 'empowered', 'straddling', 'Outram', 'Planning', '.As', 'undeclared', 'Manavadar', 'Taluka', 'baptized', 'Tubrid', '1940s', 'Lions', 'hiked', 'Whitney', 'Boroughs', 'Binjai', '1798', '1800', 'associations', 'turn', 'mayhem', 'strives', 'Telangana', 'Website', 'Jacksonville', 'Memphis', 'Mayer', 'Rothschild', 'Thousand', 'Seven', 'Living', 'Pee-wee', 'Herman', 'premiere', 'recital', '68', 'Thalaivasal', '1hr', 'Aardvarks', 'Jyekundo', 'Yushu', 'Machen', 'Bhopal', 'attorney', 'adjunct', 'Strawberrybee', 'Pingyang', 'Ruian', '3000', 'aparts', 'humans', 'riot', 'request', 'librarian', 'unto', 'Taganrog', 'Rocky', 'Thompson', 'Indians', 'abundance', 'Provincial', 'Rochdale', 'Jos', 'Carboniferous', 'sixties', 'Montserrat', 'Aoraki/Mt', 'sambai', 'oi', 'peuga-ga', 'Prosciutto', 'Parma', 'logging', 'R762', 'Appalachia', 'Peaks', 'Bougainville', 'Dagestan', 'peek', 'Chairman', 'fruit', 'involved', 'violent', 'struggles', 'Clacton-on-Sea', 'Serrano', 'Filipino', 'player', 'Chateau', 'Charry', 'Loyola', 'Tristan', 'Cunha', 'lottery', 'door', 'Lying', 'Blacktown', 'Bondi', 'Cronulla', 'squadron', 'Mons', 'PhD', 'Noureddine', 'Morceli', 'Maintained', 'Nilin', 'Broxbourne', 'bookburnings', 'Construction', 'hence', 'Yangon', 'Several', 'Piacenza', 'municipal', 'corporation', 'segments', 'North-Eastern', 'Jatra', 'Medaram', 'Tadvai', 'Mandal', 'Emeritus', 'negligible', 'Named', 'Appleton', 'cantons', 'Vladivostok', 'Klang', 'Eton', 'diving', 'Galera', 'Coron', 'waterfall', 'subduction', 'Kalymnos', 'Dhyan', 'Singh', 'assembled', 'Easingwold', 'Kirby', 'finds', 'quarry', 'terminally', 'ill', 'Knotts', 'barrel', 'Mandalay', 'grew-up', 'Poultry', 'Namakkal', 'Rhodia', 'setting', 'Riding', 'melting', 'pot', 'founding', 'principalities', 'stadiums', 'Funen', 'Anatolia', 'Grove', 'Products', 'Asia-Pacific', 'Tamaulipas', 'Hidalgo', 'thereby', 'offer', 'PNC', 'Tisch', 'licensing', 'merchandising', 'Are', 'Dangerous', 'Numbered', 'Sharma', 'Carmel', 'princes', 'pointed', 'cradles', '82km', 'feeding', 'Erikson', 'Jessie', 'Mile', '-administered', 'Rewari', 'linguistics', 'Sacred', 'Heart', 'Convent', 'stopovers', 'servant', 'sons', 'Hanton', '1,710', 'monolith', 'Cerros', 'employer', 'Artist', 'Collective', 'regular', 'Taronga', 'anytime', 'brand', 'venture', '772', '759', 'unveiled', 'Carlow', 'Serra', 'Negra', 'seeing', 'Karimnagar', 'Alappuzha', 'Tiwi', 'Fisherman', 'Wharf', 'Garswood', 'note', 'Working', 'strath', \"'The\", 'FuBar', \"'Queen\", 'observation', 'tower', '5956m', 'Tampa', 'foreign', 'hunters', '172', '173', '174', '161', '162', '164', 'Arava', '1991.', 'kibbutz', 'start-line', '1487', 'wrecks', 'round-a-bout', 'Amravati', 'shock', 'Janeiro', 'rotated', 'accidentally', 'drowning', 'diversity', 'Pantanal', 'spun', 'Tenerife', 'Hierro', 'Legislative', 'Assembly', 'Shizuoka', 'gets', 'Arturo', 'Di', 'Modica', 'aboard', 'luxury', 'jet', 'coffees', 'Pontefract', '1911-1912', 'gusher', 'Khiva', 'Someone', 'pre-European', 'X5', 'stating', 'Breton', 'Shasta', 'Carlsbad', 'drew', 'Nawa', 'Musikzentrum', 'Bonn', 'Bangka', '1921', 'Australasia', 'nun', 'Sophia', 'Hiking', 'Phoenician', 'southeasternmost', 'Sempu', 'fed', 'Plenty', 'Penang', 'Arrived', 'Piestewa', 'showing', 'Emergency', 'Triberg', 'Rame', 'Ormskirk', 'Lancashire', 'adaptations', 'candidate', 'mechanical', 'Frascati', 'passengers', 'gauge', 'conversion', 'Gauge', 'Bard', 'east-southeast', 'defence', 'Nusa', 'Tenggara', 'Gerda', 'rainfall', '1982-1990', 'Kisoro', 'Garib', 'Nagar', 'slum', 'herds', 'Catherine', 'Cemetery', 'asking', 'honourable', 'Flagstaff', 'Ziaur', 'Rahman', 'Colonna', 'Cherokee', 'software', 'Banglore', 'Karur', 'compound', 'Salinas', 'rivers—the', 'Balkans', 'Messina', 'Muir', 'poor', 'Galaganath', 'Hampi', 'isle', 'Truro', 'Möhne', '6.8', 'imprisoned', 'M.S', 'Isagarh', 'Guntersville', 'Shaun', 'bizarre', 'type-site', 'Golasecca', '1394', 'Leonards', 'watched', 'Muriel', 'Pittsfield', 'Mtirala', 'spending', 'reservoir', '1805', 'sun', 'shines', 'brightly', 'Pomona', 'Lymington', 'Oakland', 'Bunbury', 'proceeds', 'confined', 'Sundas', 'debris', 'comparison', 'Cretan', 'Revolution', 'Designed', 'analogous', 'seventeen', 'Vesely', 'UC', 'missionaries', 'embraced', 'exurb', 'Barbados', 'Doncaster', 'Rotherham', 'Optical', 'telegraph', 'harbour', 'Beaminster', 'Malacca', 'plateau', '576', 'SJ470293', 'Danes', 'circumboreal', 'structures', 'Moroccan', 'politics', 'Csíkszereda', 'context', 'hillwalking', 'Bettiah', 'interior', 'Shepperton', 'barred', 'meandering', 'Belthangady', 'taluq', 'Masters', 'Turnpike', 'extremely', 'undesirable', 'academy', 'tackle', 'Mole', 'cleft', 'Islam', 'Davao', 'Lanao', 'Sur', 'SOCCSKSARGEN', 'Zamboanga', 'Caraga', 'Sulu', 'CARAGA', 'standards', 'venue', 'tucked', 'Cheetahs', 'hosted', 'Sharks', 'Ross', 'then-', 'Bordered', 'Traveling', 'Constantinople', 'Languedoc', 'remnant', 'Atop', 'Divided', 'Mooring', 'stern', 'embarcadero', 'Whitaker', 'Retail', 'Phnom', 'Penh', 'monastery', 'Anerley', 'Dulwich', 'Wood', 'hunt', 'monster', 'Gantrisch', 'Aar', 'Glaciers', '1644', 'escaped', 'earl', 'TsAGI', 'Lit', 'olive', 'Tabernacle', 'Rabbi', 'Yehoshua', 'FA', 'pull', 'Halfway', 'Cardamom', 'Bahrein', 'WSK', 'aground', 'Hope', 'Meersburg', 'hemisphere', \"Macei'f3\", 'I-90', 'Akashi-Kaikyo', 'LST', 'Landing', 'Ship', 'foundry', 'EFTA', 'plot', 'ministries', 'bend', 'Ficksburg', 'Greystanes', 'white', 'lighthouse', '1675', 'Boort', 'Haight-Ashbury', '1200', 'Simulium', 'callidum', 'metallicum', 'FSA', 'Custer', 'Middlewich', 'A.G.', 'Barr', 'Citizens', 'west-south-west', 'Quay', 'studios', 'hall', 'yet', 'Endeh', '1895', 'Tillery', 'Sumpter', 'Teacher', 'Gajendragad', 'Gad', 'strict', 'rent', 'founders', 'Imaginasian', 'Theater', 'VII', 'cheering', 'Rogers', 'Gilmores', 'Universities', 've', 'Crimean', 'stream', 'individuals', 'Baden-WÌrttemberg', 'attendance', 'Propylae', 'amazing', 'exhibitions', 'single-tier', 'Originating', 'mentored', 'Karakoram', 'Kashgar', 'Politically', 'squirrel', 'monkey', 'la', 'polytechnic', 'Atta', 'pristine', 'Kino', 'enjoy', 'Galilee', 'Branch', 'Buildings', 'resemble', 'Bergamo', 'Kalmykia', 'Covington', 'Freed', 'old.His', 'Coastal', 'Valleys', 'abolished', 'replaced', 'offering', 'panoramic', 'create', 'Hengoed', '1970s', 'ratio', '883', 'girls', 'runaway', 'hits', 'Iron', 'gophers', 'bad', 'mean', 'winning', 'photojournalist', 'Spike', 'monologue', 'teen', 'Billy', 'Thornton', 'plays', 'Milner', 'drunken', 'Hapnick', 'outstanding', 'excellent', 'heroines', 'Mickey', 'Rooney', 'Lynch', 'hums', 'co-creator', 'Marvel', 'Comics', 'heroes', 'Give', 'Romita|', 'comics', 'Joan', 'DreamWorks', 'exhibit', 'Twite', 'comedy-drama', 'films', 'type', 'Frankie', 'Avalon', 'Riot', 'Carol', 'Duboc', 'Minae', 'Noji', 'Suspiria', 'upcoming', 'vehicle', 'delivers', 'million-selling', 'page', '136', 'Afghani', 'cards', 'Ginger', 'Sissy', 'Spacek', 'Python', 'colleague', 'Palin', 'Dan', 'Aykroyd', 'Rajnikanth', 'Gulliver', 'Kevin', 'starred', 'award', 'Josef', 'Von', 'Sternberg', 'Leonardo', 'diCaprio', 'performs', '40s', 'jump', 'animation', 'Pixar', 'animated', 'alum', 'Doug', 'Janeane', 'Garofalo', 'Slab', 'TV-movie', 'Annie', 'illustrates', 'ill-fated', 'Scorsese', 'Marilyn', 'Danny', 'Albert', 'dynamic', 'duo', 'hand-picked', 'dance', 'big-screen', 'Strikes', 'Charlie', 'in…', 'Kaufman', 'Boorman', 'motion', 'Ash', 'co-starred', 'sebastian', 'valmont', 'nominated', 'Count', 'Orlok', 'Spaced', 'Nick', 'Frost', 'Hot', 'Fuzz', 'family-drama', 'Jim', 'Belushi', 'Rafelson', 'well-received', 'noir', 'Disney', 'Ditko', 'Julia', 'Roberts', 'starrer', 'Badman', 'wearing', 'Omega', 'Constellation', 'stars', 'Stanwyck', 'portrayed', 'biopic', '50,000,000', 'Uys', 'bollywood', 'Taggert', 'Waco', 'Twelve', 'Chairs', 'Hanks', 'Brooks', 'pops', 'creations', 'Casino', 'Royale', 'Preity', 'Zinta', 'soundtrack', 'Ryan', \"O'Neal\", 'ladies', 'Vadim', 'sexy', 'Lampoon', 'fellow', 'co-star', 'sassy', 'saucy', 'paragraph', 'references', 'Godfather', 'Ghost', 'Chicken', 'clerk', 'extensive', 'Autry', 'Cube', 'talks', 'Barnabas', 'Bey', 'Happens', 'Perelman', 'Annette', 'Funicello', 'Emelius', 'Browne', 'Lily', 'wants', 'money', 'Best', 'Geoffrey', 'Rush', 'encouraged', 'sign', 'extra', 'Oscar', 'Dillon', 'Romy', 'Schneider', 'liked', 'Exit', 'Fife', 'actors', 'private-eye', 'parody', 'sequel', 'reprise', 'Rhodes', 'doing', 'wore', 'sultry', 'Mattie', 'neo', 'Jackie', 'Brown', 'tribute', 'Nicole', 'Kidman', 'Plastics', 'Roy', 'Jakes', '..', 'Tezaab', 'superb', 'believable', 'Jessica', 'Biel', 'Warner', 'Brothers', 'Dance', 'Jeff', 'Daniels', 'd.', 'Razor', 'Edge', 'womanizer', 'long-lost', 'Going', ',1944', 'depiction', 'Scared', 'Gianna', 'Jun', 'a.k.a', 'T.I', 'workshop', 'Fraggle', 'flutter', 'audio', 'launch', 'Telugu', 'Tonderai', 'Ferrell', 'poses', 'aka', 'Harry', 'Potter', 'skinny', 'Anil', 'stole', 'graphite', 'GTV6', 'Burton', '1930s', 'Woody', 'creep', 'Uma', 'Thurman', 'Oh', 'Neo', 'Terence', 'Mann', 'Debaters', '-directed', 'shone', 'excuse', 'pun', 'Chevy', 'coined', 'singing', 'foster', 'Monroe', 'supporting', 'Quentin', 'Tarantino', 'throwback', 'Frankenstein', 'Invisible', 'Jimmy', 'Shergill', 'spin-off', 'Apatow', 'cast', 'Forsythe', 'stand-by', 'Cyd', 'Charisse', 'Dharmesh', 'Darshan', 'Clerks', 'Heder', 'abduction', 'Catwoman', 'Hathaway', 'masterpiece', 'obsess', 'audiences', 'secrets', 'fresh', 'NASCAR', 'tour-de-force', \"'Notting\", \"'Greyfriars\", 'Bobby', 'Coming', 'prominence', 'talents', 'Kirschner', 'WORLD', 'Dobler', 'Banderas', 'dying', 'Zeke', 'Marlowe', 'Randolph', 'Scott', 'value', 'extras', 'Fenway', 'Ron', 'Howard', 'antagonist', 'Donkey', 'anticipated', 'Avengers', 'Saboteur', 'Mike', 'Judge', 'Movie', 'decent', 'pictures', 'Inspector', 'Clouseau', 'Jinx', 'rose', 'editor', 'Mine', 'Sidney', 'Furie', 'TV18', 'obsessed', 'Trans', 'Jennifer', 'Garner', 'HandMade', 'Fugitive', 'flow', 'co-director', 'Priyadarshan', 'cameo', 'appearances', 'Voodoo', 'American-born', 'Australian-raised', 'voice', 'perverse', 'sexual', 'antics', 'Morrissey', 'twisted', 'H.', 'Der', 'Himmel', 'Ìber', 'suspense', 'Costa-Gavras', 'Spicoli', 'dope', 'Edie', 'Falco', 'achieves', 'Natalie', 'outfit', 'Stark', 'shaped', 'Ray', 'admired', 'immensely', 'Hopper', 'outergarment', 'FBI', 'agent', 'psychological', 'sculpted', 'prop', 'Remi', 'appear', 'Hitchcock', 'reading', 'Ernst', 'Lubitsch', 'Vito', 'Corleone', 'Nancy', 'Archer', 'Robin', 'Dirty', 'Reed', 'Citizen', 'Kane', 'Weir', 'Stanley', 'Kramer', 'x', 'Jamison', 'filmmaker', 'Tristana', 'Fats', 'Max', 'outrageous', 'priest', 'cowardly', 'baddie', 'ability', 'riff', 'Baldwin', 'shame', 'wasn', 'Cannonball', 'Run', 'pufferfish', 'Genelia', 'Dsouza', 'underwhelming', 'gangsters', 'Stallone', 'starer', 'Stage', 'lady', 'Marlena', 'Katharine', 'Hepburn', 'Malkovich', 'Streetcar', 'Desire', 'pictured', 'Brosnan', 'Riddler', 'sports', 'undercover', 'knew', 'portrayal', 'Attenborough', 'Julian', 'Mangold', 'Legally', 'Blonde', 'Carter', 'Cash', 'Depp', 'Tim', 'Elia', 'Kazan', 'Rani', 'Mukherjee', 'starrer-', 'Morgan', 'Freeman', 'Darlene', 'Original', 'Searchers', 'Priests', 'high-tech', 'rotoscoped', 'Slacker', 'forebear', 'spectacle', 'Finding', 'Nemo', 'Gable', 'hitchhike', 'endearing', 'girlfriend', 'Prakash', 'Mehra', 'win', 'Actress', 'lends', 'all-in-one', \"'Little\", 'Bonaparte', 'Tuskegee', 'macabre', 'Bryce', 'Ang', 'impersonates', 'Cruise', 'Lucas', 'Bad', 'costumes', 'BEN', 'panel', 'screamed', 'flick', 'direct-to-DVD', 'fabulous', 'Luke', 'Wilson', 'Reservoir', 'Ken', 'Kwapis', 'inclusion', 'Wars', 'send-up', 'roles', 'festive', 'endeavor', 'board', 'Diana', 'Penty', 're-create', 'magic', 'kurti-tights', 'rage', 'shoes', 'walks', 'supposedly', 'owed', 'write', 'burns', 'darkly', '-in-', 'borrowed', 'idea', 'apocalyptic', 'parted', 'ways', 'red-neck', 'unforgettable', 'Romero', 'zombies', 'groundbreaking', 'Award-winning', 'collaborated', 'captor', 'terminator', 'robot', 'Maxwell', 'Kellerman', 'Aunty', 'Entity', 'ringleader', 'reunion', 'Met', 'Sally', 'hypnotizes', 'submission', 'canny', 'Outback', 'Kozlowski', 'R.I.P', 'MGM', 'Oscar-winning', 'all-time', '—often', 'committing', 'Starting', 'Kelly/Blue', 'Kerry', 'Jamie', 'Curtis', 'box-office', 'comedienne', 'Rushmore', 'Selina', 'Kyle/Catwoman', 'curvy', 'Labradoodle', 'Renn', 'Campion', 'erotic', 'things', 'costar', 'Nymph', 'Ballet', 'Honey', 'buddy-western', 'buddy-', 'Dominic', 'Sena', 'Too', 'Linguswamy', 'solve', 'Spiderman', 'Evil', 'Rakesh', 'Roshan', 'father-in-law', 'Igor', 'Mandy', 'Kreese', 'Fist', 'Fury', 'breakthrough', 'dressed', 'Massey', 'Nighy', 'Waller', 'marathon', 'Mallrats', 'outings', 'musician', 'Band', 'Captain', 'Willard', 'Herr', 'Sounds', 'prison-guard', 'Curt', 'Connors', 'Lizard', 'dumbass', 'Rob', 'Gant', 'Freaky', 'Wright', 'parodied', 'pack', 'abs', 'stomach', 'commentary', 'ensemble', 'suit', 'Ventura', 'biography', 'Taxi', 'Driver', 'Garcia', 'Immortals', 'silent', 'Cold', 'Feet', \"'Jekyll\", 'stunts', 'Colonel', 'Butler', '2006-01-25', 'anti-hero', 'satire', '/comedy', 'Wayne', 'promotes', 'escort', 'sweetheart', 'Dustin', 'Hoffman', 'Gray', 'legs', 'Stripes', 'sequels', 'evil', 'Nurse', 'Diesel', 'seller', 'Nitti', 'fried', 'eye', 'sockets', 'Bertolucci', '-starrer', 'feeling', 'sequences', 'Emily', 'Blunt', 'Callahan', 'Calahan', 'Meet', 'Fockers', 'WHAT', 'vs.', 'Moon', 'cowboy', 'Mehboob', 'Guns', 'Brandy', 'trash', 'previous', 'climactic', 'Hammer', 'Aldrich', 'surrealist', 'Malcolm', 'D.', 'riding', 'Dandy-horse', 'C.I.D', 'Solva', 'Saal', 'Kala', 'Pani', 'granny', 'Orbach', 'Lumiere', 'Beauty', 'Rodriguez', 'Coscarelli', 'guest', 'Bollywood', 'owns', 'Bullmastiff', 'Cong', 'Su', 'Bernardo', 'compositions', 'Cinderella', 'Pygmalionesque', 'DB7', 'Vantage', 'buddy', 'caper', 'Pinocchio', 'Brophy', 'Chaplin', 'Bogdanovich', 'Kubrick', 'Petula', 'Quiet', 'directorial', 'Eve', 'Kendall', 'villain', 'Lex', 'Luthor', 'Case', 'Fog', 'remake', 'Upkaar', 'doe-eyed', 'innocent', 'Promoting', 'Delano', 'Clive', 'Naseeruddin', 'Kites', '2.5/5', 'Sanjay', 'Leela', 'Bhansali', 'Connor', 'Gene', 'Wrote', 'left-handed', 'replacement', 'regalia', 'HBO', 'Mel', 'entertainer', 'Salvator', 'Rizzo', 'Voight', 'Ratso', 'Gus', 'Van', 'Sant', 'dancing', 'Balan', 'De', 'Niro', 'Browns', 'Fish', 'Called', 'Wanda', 'grasshopper', 'ant', 'Marisa', 'Tomei', 'misquoted', 'costumed', 'Chan', 'portrays', 'no-nonsense', 'approach', 'enforcement', 'martial-arts', 'gay', 'lover', 'weird', 'stared', 'biker', 'Rebel', 'Cause', 'Burt', 'Reynolds', 'Dollars', 'criticizing', 'Californian', 'fans', 'Frau', 'BlÌcher', 'Wilder', 'classics', 'anthology', 'Stephnie', 'gives', 'Ub', 'Iwerks', 'cartoon', 'reprises', 'Cleef', 'Horse', 'Flannel', 'Suit', 'AKA', 'Goku', 'live-action', 'filmen', 'Madeline', 'Kahn', 'comedy-thriller', 'Krrish', 'absolutely', 'Ketan', 'Mehta', 'Fabulous', 'Boys', 'schizoid', 'kitten', 'whip', 'handling', 'Patricia', 'Clarkson', 'appears', 'Felons', 'Meryl', 'Streep', 'paramedic', 'Traherne', 'polo', 'Fellini', 'Sergio', 'Lieutenant', 'Briggs', 'Andy', 'Cathy', 'Donnell', 'Otto', 'Preminger', 'refreshingly', 'subtle', 'treat', 'lovers', 'Ashutosh', 'Gowariker', 'Johnny', 'Strabler', '618', 'Perfecto', 'persona', 'posing', 'publicity', 'Hopkins', 'hammering', 'Planet', 'Terror', 'Desperado', 'odd', 'Tatum', \"'Friendly\", 'Persuasion', \"'Psycho\", 'DCOM', 'Stiller', 'beauty', 'Chisum', 'miniseries', 'informs', 'subway', 'dress', 'billowing', 'skirt', 'pose', 'Cumming', 'Alas', 'titled', 'genre-defying', 'Hal', 'Welles', 'McBride', 'Medieval', 'celluloid', 'Catchy', 'Wallis', 'sings', 'amour', 'mon', 'ami', 'Ozon', 'showed', 'keeps', 'nomination', 'Runner', 'DePalma', 'McClane', 'installment', 'favorites', 'Coen', 'agreeing', 'Sylvester', 'Saget', 'Yash', 'Films', 'looped', 'Hamlin', 'Soderbergh', 'Impreza', 'WRX', 'Prizzi', 'Stagecoach', 'Graduate', \"'Lenny\", 'Beth', 'voiced', 'Jake', 'Kasdan', 'Bedlam', 'grimly', 'ratty', 'Jill', 'Kessler', 'Sugar', \"'Police\", \"'Cocoon\", 'Guys', 'Dolls', 'Kill', 'poorly', 'Terrence', 'affair', 'Shatranj', 'Ke', 'Khiladi', 'multiple', 'dazzling', 'Frank', 'Whaley', 'Gipp', 'Clockers', '–starring', 'Silver', 'Streak', 'Stir', 'Crazy', 'ex-girlfriend', 'Naomi', 'Happened', 'Fair', 'Alton', 'fiancee', 'Jack', 'Woltz', 'Durant', 'Dicaprio', 'basis', 'conventional', 'DiCaprio', 'Sidewalks', 'Sheen', 'reunited', 'Murphy', 'Levy', 'reason', 'dressing', 'Aguirre', 'Wrath', 'screenwriter', 'Fonda', 'trying', 'monumental', 'spy', 'harried', 'Holly', 'Donnie', 'Darko', 'Woo', 'Exorcist', 'Freddy', 'Krueger', 'Franz', 'Kafka', 'Crowe', 'Anderson', 'Brad', 'parapsychologists-turned-ghost', 'exterminators', 'Sharon', 'multi-starrer', 'Siddharth', 'Anand', 'comedian', 'scored', 'Rajkumar', 'Santoshi', 'detective', 'Deckard', 'carries', 'Zaheeda', 'heroine', 'tape', 'comedies', 'Scarecrow', 'superhit', 'pioneer', 'surf', 'surfing', 'genre', 'groundbreaker', 'Hedley', 'Lamarr', 'Arquette', 'coat-rack', 'astronauts', 'satirizing', 'narrator', 'Gopal', 'Verma', 'swoon', 'Elize', 'McNamara', 'recession', 'reunite', 'voicing', 'Lois', 'Lane', 'Fingers', 'Liu', 'splash', 'sported', 'Genie', 'Diaz', 'Vegas…', 'whirlwind', 'celebrity', 'crush', 'theatrical', 'Stewart', 'Plowright', 'gesture', 'doffing', 'Landis', 'Cries', 'Whispers', 'produce', 'Wahlberg', 'Batjac', 'Productions', 'Rambo', 'Blood', 'Howie', 'Mandel', 'Nadodigal', 'Sasikumar', 'damn', 'fine', 'Randhir', 'Jason', 'blind', 'boarder', 'comical', \"'While\", 'Were', 'Sleeping', \"'Independence\", 'f.e', 'Absolute', 'Pillow', 'Talk', 'acted', 'Adrian', 'Trier', 'Jessi', 'Angelique', 'Bouchard', 'uber', 'quirky', 'indie', 'Apu', 'Leia', 'metal', 'bikini', 'Fistful', 'Spaghetti', 'Westerns', 'Clint', 'Eastwood', 'Castellari', 'Do', 'Diner', 'Adventureland', 'Emma', 'Jamaicans', 'baby', 'succeeded', 'Zucker', 'Meagan', 'Good', 'Randall', 'Zeta-Jones', 'scoring', 'Well', 'Alejandro', 'González', 'Iñárritu', 'despite', 'lackluster', 'Cher', 'abortion', 'finding', 'ponders', 'minds', 'Viet', 'Gere', 'spoof', 'flop', 'Newlander', 'outfits', 'Anurag', 'Shahid', 'Bojangles', 'Robinson', 'Ward', 'Film', 'compulsive', 'Mahowny', 'keeping', 'Hulk', 'Superbad', 'Tannishtha', 'Chatterjee', 'Miyagi', 'novels-', 'Dwarf', 'Zappa', 'Commissioner', 'Columbo', 'Murder', 'ABC', 'Roost', 'D.L', 'Hughley', 'Barbershop', 'scripts', 'Leatherface', 'brilliantly', 'reprising', 'Rudd', 'Distrubia', 'thank', 'Francis', 'Coppola', 'Director', 'Takakura', 'dim-witted', 'strongman', 'Mean', 'humanity', 'Joel', 'Schumacher', 'Shyam', 'Benegal', 'half-brother', 'deaf', 'semi-real', 'stripper', 'Whoopi', 'Goldberg', 'carrying', 'bag', 'deleted', 'underwater', 'spaghetti-western', 'Pictures', 'Where', 'Things', 'glad', 'completing', 'sang', 'Syd', 'Jet', 'Li', 'commisioned', 'BAFTA-nominated', 'Tamiroff', 'priceless', 'Sangster', 'Joanne', 'Woodward', 'potted', 'Flounder', 'Raymond', 'Babbit', 'Babbitt', 'drop', 'told', 'Girls', 'Notebook', 'Solange', 'Knowles', \"'flashing\", 'og', 'flashing', 'interrogation', 'Punjabi', 'Gump', 'Matrix', 'Reloaded', 'Worst', 'Norbit', 'Being', 'Haskins', 'double', 'bill', 'Lamour', 'Kathleen', \"'the\", 'fountain', 'loved', 'pi', 'apparently', 'franchise', 'Anjelica', 'Huston', 'comedy/mystery', 'saga', 'ala', 'minseries', 'obnoxious', 'usher', 'Note', 'odd-ball', 'Barbra', 'Streisand', 'hides', 'revolver', 'afro', 'Grier', 'Dramatic', 'Score', 'release', 'competitor', 'Ian', 'Howe', 'Surender', 'Reddy', 'Tinsel', 'kick', 'Sanjays', 'feller', 'movie…', 'inner-city', 'piano-top', 'Goi', 'film-noir', 'Advice', 'Silverado', 'Untouchables', 'letdown', 'dud', 'Buscemi', 'Mr', 'Pink', 'swashbuckler', 'recordings', '1935-1995', 'Halloween', 'Cookery', '-Tina', 'Dandridge', 'Ed', 'Helms', 'Hangover', 'frontal', 'Marple', 'Miss', 'Federico', 'paddle', 'Almighty', 'Soorat', 'aur', 'Seerat-1962', 'Henesy', 'Jonathan', 'Frid', 'Willam', 'Holden', 'reprised', 'Fast', 'Eddie', 'Alicia', 'Lou', 'Costello', 'comedy-', 'Onir', 'romantic-comedy', 'Reiser', 'Spider-Man', 'always', 'remembered', 'approached', 'Cheyenne', 'Grizzly', 'Elektra', 'Lektionen', 'Finsternis', 'Men', 'Aniston', 'Grindhouse', 'Avatar', 'Tomboy', 'Saving', 'Private', 'Chandni', 'Goddess', 'pair', 'Thunderbolt', 'Lightfoot', 'soars', 'drill', 'instructor', 'snatched', 'Lost', 'Translation', 'Ashton', 'Kutcher', 'Have', 'Michel', 'Gondry', 'Hunting', 'Evans', 'Isabel', 'Allende', 'Tess', 'Harding', 'Gena', 'Rowlands', 'Camille', 'Montes', 'Affleck', 'super-hit', 'Sheik', 'Psycho', '-magnate', 'bare-knuckle', 'nemesis', 'Any', 'Yo', 'Hugh', 'Forget', 'Bitter', 'incarnation', 'already', 'poncho', 'sweat-stained', 'hat', 'Pulp', 'Fiction', 'Bros.', 'Rohan', 'Sippy', 'rave', 'Rochon', 'Mother', 'Nell', 'Gwyn', 'Duniya', 'Sander', 'smuggler-busting', 'operation', 'Mutant', 'Guru', 'Dutt', 'Klaus', 'Kinski', 'Pinhead', 'Susan', 'Ginormica', 'Frighteners', 'woof-woof', 'Jess', 'rebellious', 'slave', 'Crenna', 'Axel', 'Foley', \"'Good\", \"'Undercover\", 'Keymaster', 'Though', 'smash', 'Technicolor', 'Djimoun', 'Hounsou', 'Pollack', 'academy-award-winning', 'Hindi', 'Your', 'Winkless', 'Spider', 'Braddock', 'Olympia', 'beer', 'Wiebe', 'shoots', 'balcony', 'romance', 'crew', 'caviar', 'Winkler', 'Sarandon', 'signature', 'Gen', 'X', 'outtake', 'art-house', 'Brady', 'handler', 'Raimi', 'Curse', 'low-budget', 'action/adventure', 'Shrek', 'fired', 'print', 'contagious', 'Jaws', 'Frances', 'McDormand', 'warned', 'btw', 'Nayantara', 'Holmes', 'granddaughter', 'salon', 'Smashing', 'Pumpkins', 'Disney-animated', 'tenth', 'Think', 'Darren', 'Aronofsky', 'gaining', 'critical', 'acclaim', 'Natasha', 'Romanoff/Black', 'Widow', '-nominated', 'Dane', '-movie', 'GoldenEye', 'co-starring', 'Beyond', 'not-so-bad', 'Space', 'Shining', 'Heather', 'Graham', 'Pegg', 'Words', 'Thank', 'Bale', 'opulent', 'incorporate', 'Eliot', 'Phibes', 'screwball', 'slapstick', 'Coens', 'loads', 'war-time', 'Globe', 'Condon', 'Vol', 'Sabbir', 'sexes', 'battle-of-the-sexes', 'cutie', 'Foreman', 'Diaries', 'Pullman', 'Bollywood-style', 'Superman', 'disaster', 'VHS', 'made-for-television', 'Live', 'promote', 'Alamo', 'Sam', 'musical-fantasy', 'path', 'ear-cutting', 'Cary', 'hilarious', 'irresponsible', 'divisions', 'WPA', 'commanded', 'Maj.', 'dozen', 'Reich', 'dreamed', 'Samberg', 'resistance', 'Sophie', 'Scholl', 'co-founder', 'co-founded', 'Bloomberg', 'Asher', 'demos', 'rappers', 'album', 'pro', 'skaters', 'bitter', 'Secretary', 'lobby', 'neocon', 'unrest', 'sought', '-mediated', 'cease-fire', 'arrangement', 'MUSE', 'disciples', 'disciple', 'UNC', 'Deputy', 'investment', 're-entered', 'brain', 'leadership', 'guidance', 'Quaid-i-Azam', 'Muh-ammad', 'befriending', 'audition', 'Napster', 'startup', 'Calacanis', 'chairman', 'IOC', 'boss', 'chiefs', 'graphics', 'O.T.O', 'OTO', 'JDL', 'militant', 'IHR', 'choreographed', 'monastic', 'website', 'Chih-Yuan', 'Yang', 'legendry', 'marque', 'happening', 'sy', 'ny', 'mpitarika', 'azy', 'izay', 'efa', 'maty', 'dia', 'CCC', 'parent', 'mogul', 'Leiber', 'Stoller', '1877', 'AFL', 'co-owned', 'mentor', 'associates', 'Apostle', 'Orson', 'consisted', 'Ginsberg', 'hung', 'likes', 'ROAD', 'expresses', 'Gary', 'immortalized', 'Moriarty', 'devouring', 'doesn', 'anniversary', 'Flair', 'feud', 'JetBlue', 'Gentile', 'non-profit', 'Marching', 'Justin', 'Bieber', 'Artists', 'Egon', 'Schiele', 'Gustav', 'Klimt', 'puppet-master', 'Deborah', 'Lipstadt', 'Jesuit', '-taught', 'Supreme', 'sect', 'Rita', 'attention', 'brokerage', 'contemporaries', 'EWTN', 'Poor', 'SSDF', 'Juhi', 'Chawla', 'Shahrukh', 'Carole', 'partner', 'executives', 'Lay', 'CEO', 'CEOs', 'Kenneth', 'asset', 'partners', 'RMS', 'composer-pianists', 'composers', 'extraordinarily', 'courageous', 'someone', 'apocalypse-addled', 'unordained', 'preacher', 'APGA', 'Dim', 'Rockefeller', 'invited', 'insistence', 'Hartford', 'Zuckerberg', 'blog', 'Senate', 'ARU', 'industry-wide', 'MAT', 'Constantin', 'Stanislavski', 'wake', 'must', 'press', 'introducing', 'Brion', 'Gysin', 'Kerouac', 'CEIP', 'Executed', '1921-1943', 'rooms', 'Burlington', 'Poppins', 'Cartoons', 'creators', 'peacekeeping', 'Sculpture', 'polymath', 'Piven', 'retiring', 'presided', 'Marist', 'Priest', 'NLD', 'Hewlett', 'Palo', 'garage', 'Either', 'OAAU', 'Religion', 'guitarist', 'TC', 'fanboy-fest', 'waiting', 'Mignola', 'PFNYC', 'photographers', 'Capa', 'advertising', 'ia', 'pulp', 'mill', 'Harmac', 'meaning', 'Zbigniew', 'Brzezinski', 'tank', 'Retrieved', 'imagination', 'Formed', 'hand', 'funding', 'UMWA', 'LGBT', 'product', 'PGCC', 'Paulines', 'financed', 'part-owner', 'pastor', 'Final', 'Fantasy', 'assistance', 'astronaut', 'NASA', 'spiritualist', 'Bobbies', 'Peelers', 'newly-created', 'Nintendo', 'rivaling', '1784', 'competed', 'fiercely', 'media', 'conglomerate', 'chaired', 'Fox', '1296', 'Guido', 'Assisi', '1609', 'RLDS', 'undisclosed', 'sum', 'social', 'gaming', 'AMPAS', 'RSS', 'evangelist', 'maintained', 'Jobs', 'Wozniak', 'x-Prize', 'founder/CEO', 'sanctions', 'demo', 'Stiff', 'command', 'commons', 'unanimously', 'W3C', 'Steel', 'happened', 'portraying', 'charismatic', 'ISB', 'Aflaq', 'favoured', 'Malina', 'anarchist', 'collective', 'troupe', 'jazz', 'engineers', 'Alexander', 'Generally', 'Halstead', 'linguist', 'rabid', 'anti-semite', 'hanging', 'Stimulated', 'educators', 'credited', '1955-Alive', 'Betty', 'Friedan', 'offshoot', 'Focus', 'animator', 'health', 'Taylor', 'merger', 'Schary', 'mail', 'lieutenant', 'Gebhardt', 'communication', 'microcredit', 'Cent', 'VP', 'Def', 'Jam', 'Records', 'Ascended', 'promotions', 'tycoon', 'Stroboscope', 'Phenakistoscope', 'Chairperson', 'chairwoman', 'gothics', 'Tesla', 'entrepreneur', 'cofounder', 'NCNC', 'Pan-Africanist', 'cosmologist', '1584', 'publisher', 'natural-gas', 'billionaire', '1787', 'PDS', 'high-end', 'american', 'economists', 'Zoological', '2007-02-12', 'c', 'Gottlieb', 'Daimler', 'PLO', 'Werner', 'Erhard', 'chieftain', 'Mullah', 'orders', 'Archdiocese', 'Newark', 'Bishop', 'Modernism', 'Viennese', 'Isidor', 'Armstrong', 'co-owns', 'hang', '34.75', 'circle', 'Maybe', 'lapse', 'E.M.', 'Forster', 'McCartney', 'Beatles', 'sisters', 'older', 'labelmates', 'Flag', 'SST', 'honcho', 'assessment', 're-founded', '-built', 'Mercedes-Benz', '500I', 'fielded', 'impresario', 'Alliance', 'Climate', 'Protection', 'experiments', 'representative', 'Member', 'inventor', 'roll', 'Incredibad', 'SNL', 'Jizz', 'Pants', 'id', 'co-worker', 'businesswoman', 'PeopleSoft', 'Mich.', 'Afghanistan-born', 'commemorating', 'birth', 'induced', 'anti-Jewish', 'pogroms', 'Olbrich', 'crippled', 'Security', 'councils', 'agencies', 'attempts', 'Goodnight', 'crediting', 'indefatigable', 'Christie', 'patron', 'KMT', 'Rubin', 'IT', 'Ovation', 'Guitar', 'producer/ethnomusicologist', 'producer/', 'ethnomusicologist', 'Englishman', 'Conference', 'Employment', 'Havana', 'now-venture-capitalist', 'TVA', 'alphabet', 'revolutionaries', 'counted', 'associate', 'food', 'brainchild', 'ministry', 'nonsensical', 'reformer', 'Developed', 'murderous', 'CCP', 'Friends', 'Special', 'Envoy', 'Mission', '3.4', 'Fröbel', 'honour', 'german', 'generation', 'pupil', 'environmentalist', 'emeritus', 'Verse', 'Simmonds', 'employee', 'Damon', 'uncle', 'designer', 'LTTE', 'Utahans', 'learning', 'UMP', 'Under', 'Carmack', 'ex-JFK', 'advisers', 'advocate', 'ousted', 'apostrophe', 'please', 'myspacetom', 'Rocco', 'glam-quotient', 'brain-child', 'intelligence', 'Klein', 'alie', 'PPP', 'periodical', 'begun', 'al-Qaeda', 'Madison', 'Stratocaster', 'weapons', 'inspector', 'Humanitarian', 'Coordinator', 'Oil-for-Food', 'inspectors', 'Blix', 'authorization', 'investigation', 'visionary', 'Batlin', 'Gale', 'thirteenth', 'U2', 'AAK', 'KLA', 'commander', 'recording', 'wax', 'cylinder', 'Frederic', 'Huey', 'Newton', 'shell', 'BSA', 'sixth-richest', 'responsible', 'NWSA', 'exciting', 'Ethel', 'Daughter', 'mysteriously', 'disappears', 'Hon', 'NOI', 'indoctrination', 'X.', 'loyalty', 'officials', 'spokesman', 'statements', 'auspices', 'solo', 'then-president', 'Standard', 'industrialist', 'CIS', 'Baptist', 'topeka', 'kansas', 'disbarred', 'Publisher', 'Accolade', 'Designer', 'Fred', 'AAVSO', 'Gestapo', 'RSHA', 'liberal', 'Archbishop', 'rap', 'floral', 'products', 'Industry', 'sponsors', 'FIRST', 'distinction', '1962-63', 'administration', 'GNN', 'Miles', 'Standish', 'Charitable', 'Trust', 'BWB', 'Cuban', 'Sigmund', 'Freud', 'impetus', 'Set', 'meet', 'Rights', 'folklorist', 'trusteeship', 'dolls', 'Fallon', 'effect', 'Heard', 'discover', 'RAWA', 'Commodore', 'aegis', 'Architect', 'enthusiasts', 'eloquent', 'Founder', 'publishing', 'filmmakers', 'co-chairman', 'Vice-President', 'WCW', 'Executive', 'Daewon', 'Cowboys', 'quarterback', 'London-based', 'Altaf', 'Hussain', 'co-production', 'co-produced', 'Hague', 'artists', 'DJ', 'Fresh', 'Ragdoll', 'creative', 'left-wing', 'Edsel', 'Beats', 'poets', 'vice-pres', 'DM', 'ruler', 'Shady', 'Producers', 'RZA', 'consumer', 'ties', 'ASPCA', 'wass', 'MNLF', 'chair', 'Sachs', 'Unification', 'Moonies', 'namesake', 'pseudo-Messiah', 'Seale', 'Self-', 'Defense', 'quotes', 'Calif.', 'Hurley', 'Chen', 'universe', 'yesterday', 'Sculley', 'confronts', 'inspirational', 'Co-founder', 'Apple', 'Incorporated', 'Partner', 'Co-Founder', 'iPhone', 'supremo', 'racing', 'gifted', 'Cypriot', 'digital', 'content', 'Wale', '-frequenting', 'CREW', 'Solix', 'Biofuels', 'ANM', 'pan-Arab', 'ex-Clinton', 'admin', 'Started', '1967-1976', 'Poptones', 'Plain', 'magazine', 'charged', 'running-mate', 'nominee', 'co-founders', 'ear', '4AD', 'SFI', 'Label', 'Grandville', 'trustee', 'Cadillac', 'Argo', 'Producer', 'hacker', 'Harris', 'Why', 'think…', 'arrest', 'whistleblower', 'WalMart', 'Gates', 'gentleman', 'communist', 'BUF', 'humanitarian', 'convoy', 'MP', 'NBP', 'crazed', 'Dave', 'splinter', 'UMNO', 'Looney', 'Tunes', 'fortune', 'harkens', 'egg', 'competition', 'Motilal', 'Nehru', 'Deshbandhu', 'ITF', 'spouse', 'Pizza', 'companion', 'BJD', 'NCS', 'WADA', 'Rustin', 'Hayao', 'Miyazaki', 'prefer', 'believes', 'Elijah', 'LDS', 'MPAA', 'Texan', 'successor', 'spearheaded', 'exile', 'UFC', 'Scientologist', 'Edmund', 'Gurney', 'magistrate', 'equity', 'cooperative', 'consist', 'Winklevoss', 'captain', 'rituals', 'sometime', 'Aleister', 'ex-Golden', 'Amir', 'PNF', 'Zoroastrian', 'Parsee', 'propaganda', 'Editor', 'Schaefer', 'Apollo', 'employees', 'WWI', 'Ace', 'Aces', 'Bricklin', 'Tookie', 'folded', 'CDC', 'Cray', 'Rolling', 'Stones', 'Directed', '23-year', 'News', 'Broadcast', 'losing', 'Blair', 'faced', 'icons', 'break-away', 'cleric', 'WTO', 'GATT', 'Public', 'PRP', 'floated', 'Ms', 'TMC', 'helm', \"y'all\", 'hails', 'affiliation', 'Maurantonio', 'Shinji', 'Mikami', 'Resident', 'OCAW', 'Reverend', 'programmer', 'NOW', 'Paypal', 'SIAI', 'Advisor', 'talent', 'Labor', 'Pong', 'Houser', 'Nashville', 'Outpost', 'Mouse', 'nephew', 'entertainment', 'titan', 'Jung', 'Prophet', 'denouncing', 'violence', 'Express', 'Freethought', 'Married', '1866-1872', 'Speaking', '1914', 'Pritchard', 'Schott', 'Jenaer', 'Glaswerk', 'Depression', 'vigorously', 'pursued', 'strongest', 'RUF', 'Russel', 'Dunbarl', 'CBS', 'Dunbar', 'scrolling', 'commissioned', 'commission', 'D', '2D', 'side-scrolling', 'apologetics', 'C.S', 'Lewis', 'Trouble', 'zombie', '-like', 'longest-running', 'prime-time', 'OVA', 'transformed', 'Wii', 'high-school', 'Breakfast', 'Champions', 'blend', 'billed', \"'punk\", 'feminism', 'highest-rated', 'BIKINI', 'KILL', 'Bikini', 'involves', 'reviving', 'mainstream', 'internationally', 'internationally-broadcast', 'unconventional', 'Shadow', 'Horace', 'Walpole', 'bridged', 'genres', 'innkeeper', 'Dick', 'Loudon', 'foreshadowed', 'imminent', 'space-based', 'WoW', 'Ching', 'Clinton', 'elements', 'punk', 'Attack', 'forthcoming', 'See', 'puzzle', 'Bejeweled', 'MMO', 'metalcore', 'Round', 'electronica', 'proprietary', 'McCourt', 'perfect', 'girl-power', 'Byron', 'third-person', 'Lamb', 'granddaddy', 'Stardust', 'host', 'sentai', 'PC', 'primetime', 'Kurosawa', 'filmstar', 'rated', 'Dreigroschenoper', 'D4e', 'Never', 'gargoyles', 'Rifts', 'DnD', 'XIV', 'accurately', 'classified', 'charity', 'feature-length', 'fantasy/horror-themed', 'Lyrics', 'Armadale', 'WOMAN', 'IN', 'WHITE', 'blending', 'highest-grossing', 'Moore', 'Similarly', 'villainous', 'Jazz', 'essential', 'Lang', 'freeware', 'Youtube', 'H.G', 'catalyst', 'development', 'Sharmila', 'Tagore', 'Ghilli', 'COLDPLAY', 'Coldplay', 'futuristic', 'Mighty', 'rearranged', 'rooted', 'cosmology', 'morphed', 'Storyline', 'Double', 'Dhamaal', 'Maher', 'late-night', '50th', 'measure', 'affirms', 'Schafer', 'thoroughly', 'integrating', 'aspects', '3D', '-style', 'exemplar', 'kits', 'nationally', 'syndicated', 'biographical', 'polemical', 'highest-selling', 'real-robot', 'Mikado', 'phenomenal', 'albums', 'Shadows', 'vocals', 'Quote', 'Urinetown', 'Musical', 'Amused', 'change', 'spaceship', 'rap-devoid', 'sounds', 'mecha', 'themed', 'episodes', 'dramatised', 'Kopell', 'Allan', 'Poe', 'dauntingly', 'congressman', 'marries', 'Angelina', 'Kartavya', 'Winebald', 'Isabella', 'Habsburg', 'great-grandnephew', 'Aubrey', '-1895', 'guitar', 'Asheton', 'Ithmar', 'Eleazar', 'gadfly', 'atheist', 'Roth', 'upright', 'Halen', 'Rod', 'Aaron', 'Biblical', 'Hebrew', 'satisfy', 'Israelites', 'Caroline', 'Rhea', 'deputies', 'Virgil', 'Earp', 'Ahmet', 'Emuukha', 'Rodan', 'youngest', 'Jindal', 'Asha', 'Bhosle', 'overweight', 'Nate', 'Jonas', 'eldest', 'Sati', 'Devi', 'Inventor', 'Rational', 'Hours', '1901-1966', 'then-Minister', 'Interior', 'Joaquin', 'bandmates', 'mates', 'Clearwater', 'Fla.', 'Senators', 'Attorney', 'JFK', '1878-1918', 'Sridevi', 'outshines', 'equally', 'talented', \"'d\", 'marry', 'Percy', 'Tirunesh', 'Tanya', 'Kermit', 'Marie', 'Osmond', 'great-uncle', 'Brandon', 'Marlon', 'Alexandra', 'Lucy', 'Tito', 'chorus', 'Saudi-born', 'die', 'Did', 'abilities', '337', 'bore', 'daughters', 'Wesker', 'Hunk', 'Valentine', 'Barry', 'Woodstock', 'Linus', 'Marcie', 'Peppermint', 'Patty', 'Chynna', 'Tamerlane', 'Assyrian', 'rulers', 'Assyria', 'dies', '723', 'allowing', 'Naruto', 'mothers', 'Maiuma', 'Karen', 'son—a', 'greaser', 'Abraham', 'Mary-Kate', 'Olsen', 'twins', 'Tatiana', 'Nicholas', 'tatiana', 'marie', 'Chico', '1888', '-1954', 'succeeds', 'Daniel', 'mistakes', 'Quincy', 'Susanna', 'walked', 'Oasis', 'Noel', 'Gallagher', 'Birds', 'Eyed', 'Peas', 'sampled', 'Geeta', 'Nikolaevna', 'Anastasia', 'Nations', 'Leader', 'Jermaine', 'Randy', 'Asoka', '247', 'Rus', 'Duke', 'Alexis', '1861-1939', 'Curly', 'Alex', 'grandson', 'Nationalist', 'Josephine', 'saxophonist', 'Wynton', 'Ellis', 'saxaphone', 'aunt', 'SHK', 'Properties', 'Harald', 'any', 'mistress', 'Freddie', 'Lennon', 'astronomy', '1322', 'actor-singer', 'Talent', 'Creative', 'Writing', 'composer', 'Phoebe', 'Initmate', 'Saghir', 'Malik', 'Elisa', 'fraternal', 'Antony', 'Milo', 'Ventimiglia', 'Adolf', 'Aishwarya', 'Rai', 'Mukerji', 'Amisha', 'Patel', 'Tennant', '44-2', 'KOs', 'hang-up', 'gloves', 'WBC', '33-year', 'clergymen', 'swept', 'league', 'shy', 'Dante', 'Gabriel', 'Rossetti', '289', 'Ptolemy', 'Berenice', '1940-2006', 'Miwok', 'pelopium', 'Emanuel', 'Bach', 'Agnes', 'Kick', '1920-48', 'heavyweight', 'Chiefs', 'CB', 'Haden', 'Triplets', 'triplet', 'Doris', 'childless', 'Belldandy', 'Fahd', 'Charge', 'Game', 'CJ', 'van', 'der', 'Linde', 'Smit', 'actor-director', 'additions', 'Brotherhood', 'Thad', 'uncredited', 'Pevensie', 'Eustace', 'Scrubb', 'Smallville', 'Basco', 'fear', 'rejection', 'electricity', 'great-grand', 'five-year-old', 'Sarah', 'Empress', 'Feodorovna', 'XVIII', 'Rachel', 'Sherlock', 'Gielgud', 'Carian', 'Alyssa', 'Milano', 'McGowan', '1879–1961', '1879', 'r.', '1560-1574', 'Lindsay', 'sarod', 'Sharija', 'Jehanara', 'distinguished', 'Sarode', 'Alfonso', 'Sarfaraz', 'Nawaz', 'songwriter', 'Rembrandt', 'academic', 'angered', 'Marj', 'Dusay', 'Polly', 'step-sister', 'Shelley', 'Goldwin', '1867–1938', 'Cardinal', 'Model', 'Shawnee', 'Dabboo', 'Daboo', 'folk', 'singer/politician', 'grandmother', 'Republican', 'siblings', 'Filippo', 'Gnaccarini', 'backup', 'bring', 'Parliamentary', 'DeLuise', 'Lamont', 'Dozier', 'frenemy', 'feared', 'cooking', 'stew', 'self-will', 'defrauding', 'envisions', 'selfishly', 'deceitfully', 'purchases', 'birthright', 'raw', 'Rickson', 'Gracie', 'Restitution', 'eight-year-old', 'Granddad', 'Younger', 'booth', 'Chrysostom', 'Nazianzus', 'Sebaste', 'send', 'Penguins', 'Temari', 'Neji', 'Jonin', 'slicing', 'armor', 'puppet', '1843', 'Tad', 'crap', 'LaToya', 'actor/producer', 'actor-producer', 'Jacqueline', 'Chucky', '{', '}', 'stepson', 'Toni', 'Melinda', 'Raphaelle', 'Rubens', 'toast', 'Gershwin', 'swore', 'hunting', 'Jensen', 'Ackles', 'adeknya', 'terus', 'dean', 'Hailey', 'Dad', 'coordinates', 'nightmare', 'Jared', 'Beko', 'Ransome-Kuti', '1938-1997', 'niece', 'actresses', 'surviving', 'insane', 'tapper', 'letters', 'dearly', 'departed', 'aviation', 'Major', 'Baseball', 'Yoko', 'Ono', 'bowler', 'Skandar', 'Keynes', 'Diomedes', 'lord', 'Wordsworth', 'Marvin', 'Bush', '.38', 'Donne', 'diabolical', 'Meg', '1814–1824', 'Osage', 'Nation', 'promised', 'Mahmud', 'Karzai', 'Mycenae', 'retook', 'kills', 'cooks', 'tragic', 'harp', 'Giannazzo', 'Rosemary', 'Riphath', 'keyboards', 'instruments', 'Brien', 'Bulls', 'Bowen', 'Charlotte', 'Jemma', '1872-1896', 'Neal', 'IX', 'Tryphaena', 'Ham', 'Iafeth', 'Todd', 'Macarius', 'Christoph', 'Willibald', 'Gluck', 'Tierney', 'Brave', 'Roux', 'Sandburg', 'Livilla', 'Caligula', 'Right…', 'THAT', 'sympathizers', 'vaudeville', 'Zeppo', 'Salam', 'Arif', 'Kublai', '112', 'Jean', 'lap', 'Sr.', '10th', 'god', 'spiteful', 'Nanna', 'sky', 'Father/Mother', 'Anu', 'Sin', 'don', 'bother', 'reply', 'Ki', 'handed', 'guardianship', 'prettier', 'over-rated', '12:00am', '1:00am', '1:05am', '1892', 'Ramdas', 'Gandhi', '1903-1994', '1903–1994', 'smart', '1815-1882', 'Naboo', 'enigma', 'fucker', 'Ambika', 'Bathsheba', 'Kikuko', 'Inoue', 'Delfeayo', 'trombonist', 'Mboya', 'trombone', 'Royler', 'Rolker', 'Features', 'net', 'Background', 'Rebbie', 'identical', 'Jojo', 'Simmons', 'Jed', '32–92', '32-92', 'Tama', '1483', 'Warwick', 'Kingmaker', 'purportedly', '1482', 'Albany', 'great-nephew', 'writer-director', 'composition', 'Dexter', 'critic', 'Alighieri', 'scholar', 'Kaya', 'Scodelario', 'Tricia', '-loving', 'kid', 'psyched', 'Is', 'Panthro', 'ThunderCats', 'He-Man', 'Tudor', 'great-niece', 'tin', 'whistle', 'partnered', 'Joely', 'Richardson', 'helpmeet', 'Buddy', 'Marcheline', 'Jolie', 'Vizier', 'Merrill', 'Hamnet', '1583', 'assistant', 'VU', '1891', 'Desi', 'Elohim', 'Tell', 'Pharaoh', 'below', 'drums', 'Marc', 'Staal', 'Hurricanes', 'Main-stay', 'co-lead', 'keyboard', 'Penn', 'Led', 'Zeppelin', 'Puttana', 'Kanagal', 'Holliday', 'Grainger', 'Goffredo', 'Bart', 'Helper', 'Snowball', 'Phil', 'sister-in-law', 'model/television', 'Laurance', 'lyricist', 'libretto', 'DuBose', 'Heyward', 'sensational', '1615–1659', 'Mughal', 'Hirsz', 'Slater', 'Quan', 'Genesis', '30:19', 'Hui', 'Thor', '1921-33', 'Mom', 'Janey', 'smell', 'Ritchie', 'satrap', 'SIcez', 'compares', 'rude', 'gestures', 'Howell', 'granted', 'catholic', 'sympathies', '1630-1685', 'jewels', 'trumpeter', 'Rosanne', 'medalists', 'Wilhelm', 'Friedmann', 'accession', 'Rabindranath', 'strictly', 'reigns', 'Rathbone', 'Appa', 'Aang', 'Dev', 'worry', 'safe', 'shower', 'Richards', 'steel', 'Shahnawaz', 'Sanam', 'Theodore', 'Jr.', 'Liberal', 'AIM', '1893-1993', 'flees', '1159-1189', 'vibraphonist', 'pianist', '1893-1977', '1874-1962', 'Muddy', 'toes', 'Wainwright', 'half-sister', 'Mawwal', 'Helena', 'Cleopatra', 'Selene', 'NFL', 'USFL', 'defensive', 'lineman', 'translator', 'thinker', 'Affairs', 'Emmett', 'Intelligence', '1859-1916', 'GM', 'hires', 'Half-sibling', 'Crosby', '1721-1780', 'novelist/playwrite', 'Luis', 'collectively', 'violin', 'Lynyrd', 'Skynyrd', '1732-1799', '1733-1797', 'co-regent', 'legitimate', \"O'Sullivan\", '3d', 'vocal', 'ex', 'girlfriend/first', 'kiss', 'Vidar', 'gods', 'Tyr', 'Freyr', 'Susannah', 'Melvoin', 'keyboardist', '1531', 'Rufus', 'Edmonds', 'sophomore', '1928-', 'long-serving', 'senator', 'diminutive', 'bassist', 'directer', 'Leslie', 'Cockburn', 'Khloe', 'Kardashian', '1918-1943', 'Sewall', 'Alcott', 'scripter', 'maternal', '28-year-old', 'dubious', 'playback', '-cum-music', 'Yuvan', 'Shankar', 'wrestling', 'selfish', 'materialist', 'b.1890', 'internal', 'Carrie', 'Inaba', 'Antigonos', 'Amtikini', 'Maka', 'Pat', '1924-2006', '1925-68', 'Michelle', 'Pfeiffer', 'rhythm', 'Skywalker', 'ask', 'Mario', 'Albano', 'wrestler', 'Booker', 'Peach', 'Bros', 'Leguizamo', 'Marley', 'baptised', 'Shawn', 'Keenan', 'bodhrán', 'percussion', 'Andrea', 'Breeders', '1846-1919', 'Cement', 'dog', 'Indy', 'off-road', 'Come', 'Barrymore', 'Produced', 'CKY', '1739-1800', 'Abdul', 'Aziz', 'Caleb', 'half-brothers', 'Vocals', 'Halliwell', 'Combs', 'kidnap', 'Huffer', 'Go', 'Take-a', 'Bonestorm', 'C-Murder', 'Dupree', 'Celly', 'Cell', 'E40', 'Mosse', 'Kinyatta', 'Liberty', '383', 'Rainer', 'b.1958', 'Charlene', 'nicknamed', 'ejected', '1527', '1558', 'instant', 'succession', 'break', 'Farriss', 'Garry', 'Beers', 'guitar/keyboards', '1806-1864', 'Beauregard', 'Juicy', 'baths', 'Amy', 'screenwriters', 'Royce', 'Sargent', 'Gaston', 'Duchamp', 'et', 'al', 'Sundari', 'Agrippina', 'Drusilla', 'deed', 'medley', 'Ravens', 'Marshal', 'Yanda', 'Jets', 'NT', 'Relson', 'Sacha', 'Goblin', 'Poems', 'Martella', 'Ferb', 'bioethicist', 'NIH', 'outgrowth', '1906', 'Khalid', 'Adam', 'pay', 'Looks', 'maid', 'helps', 'sleep', 'Padalecki', 'gorgeous', 'Minami', 'Takayama', 'andhis', 'ordained', 'HIStory', 'duet', 'Disguise', 'kind', 'mediator', 'skin', 'Frontiersman', 'Toph', 'inexperienced', 'Waterbender', 'Haru', 'Rudolph', 'beloved', 'overdosed', 'Ronald', 'tragedienne', 'Alexei', 'hemophiliac', 'Magnus', 'comment', 'lack', 'infant', 'tries', '1965–1993', 'Zira', 'ever-present', 'blanket', 'Schroeder', '1910–1970', 'arrives', 'alerts', 'wouldn', 'surprise', 'overthrown', 'Eddard', 'Catelyn', 'Methodism', 'hymnals', 'guitars/vocals', 'Glau', 'Janet', 'tennis', 'Lata', 'Mangeshkar', 'Admiral', 'Lafferty', 'Roe', 'seasoned', 'Constance', 'Liholiho', 'Kauikeaouli', 'Abu-Bakr', 'Nora', 'Ephron', 'Nope', 'Drew', 'Jenner', 'Mardy', 'Murie', 'hitter', 'ambushed', 'Achilles', 'Pharisee', 'faction', '14-year-old', 'diarist', '1843-1916', '813', '833', 'Versailles', 'Boon', '30:17', 'Zebulun', 'tragically', 'funny', 'Uncle', 'CCS', 'Keith', 'Carradine', '1936–2009', 'monarchs', 'Bruges', 'Kiefer', 'Silverlight', 'Shakespearean', 'Junius', 'Booth', 'Kirk', 'Pengilly', 'Cassidy', 'then-girlfriend', 'Snoop', 'Dogg', 'seer', 'fusion', 'Goten', 'Trunks', 'absorbs', 'happens', 'industry', 'Sami', 'Harrison', 'keyboardinst', 'RFK', 'bond', 'Luther', 'then-President', 'asleep', 'usurping', 'typhus', 'Rana', 'Hagar', 'verses', 'Laura', 'Betrand', 'Jacques', 'half-sisters', 'Lori', 'then-unknown', 'naval', 'Lead', 'Elagabalus', 'Abhay', 'forgotten', 'Stu', 'Clifford', 'harmonica', 'Open', 'Gregor', 'Abrahams', '1702', 'Shemp', 'combination', 'millionaire', 'Michelin', 'Velvet', 'Anushka', 'classmate', 'Hayward', 'Doc', 'gunfight', 'unscathed', 'Absolutely', '79-81', 'modifications', 'A.D.', 'incubation', 'Iseum', '1897-1918', '1899-1918', '1899', 'Christina', 'Ciminella', '1822', 'wife-to-be', 'commoner', 'gossip', 'maven', '24-year', 'Babe', 'Carey', 'brother-in-law', 'Sadye', 'Marks', 'depicted', 'Ulrich', 'Mattes', 'era', 'upset', 'AP', 'great-grandmother', 'Phat', 'ex-wife', 'couturier', 'diva', 'directs', 'video', 'graffiti', 'naturally', 'overlapping', 'Stuart', 'McLamb', 'Tig', 'Notaro', 'Anna', 'Assisted', 'Ginsburg', 'dancers', 'accompanist', 'choreographer', 'consort', \"'Eleanor\", 'Dragnet', 'Propaganda', 'Chlothar', 'minded', 'Starring', 'thinks', 'talked', 'abuser', 'Menasche', 'explain', 'Divine', 'felonious', 'Rafaello', 'Follieri', 'hooking', 'consultant', 'accompanied', 'Rajiv', 'snogging', 'Björn', 'Ulvaeus', 'Frida', 'Agnetha', 'FÀltskog', 'pregnant', 'counselling', 'Ahab', 'wicked', 'anf', 'Sid', 'Grauman', 'golden-haired', 'formidable', 'Playboy', 'Playmate', 'estranged', 'Tasmanian-born', 'queen', 'Margaret', 'Drusus', 'Germanicus', 'ah', 'Eritrereto', 'hoe', 'indeed', 'tie', 'knot', 'staring', 'Mrs', 'Sheikha', 'Rumbleina', 'Savage', 'ring', 'manager/wife', 'Garland', 'Nirvana', 'frontman', 'intimate', '1535', '1578', 'entertained', 'dresses', 'marrying', 'ex-husband', 'engaged', 'Hand', 'marriage', 'Romijn', 'then-husband', 'presenter', 'inspires', 'kissing', 'groomsmen', 'duchess', '1887-1922', 'Sindhi', 'Begum', 'Thaw', 'Middleton', 'handsome', 'announces', '19-year-old', 'murdered', 'Alcoholics', 'Anonymous', 'AA', 'wife/uber-', 'painter/photog-rapher', 'wives', 'Acker', 'artifacts', 'donated', 'clothing', 'Orwell', 'WWII', 'Irmgard', 'Seefried', 'Loui', 'Batley', '1797', 'Dorothea', 'Rockburne', 'pneumonia', 'smitten', 'ex-president', 'Philippine', 'magnate', 'abdication', 'abdicated', 'boyfriend', 'Erykah', 'Griffin', 'songriter', 'D-CA', 'RJ', 'Monaco', 'tied', 'swimmer', 'McGarrigle', 'Sonnets', 'canceled', 'Apparently', 'hubby', 'Boleyn', 'Brando', 'archaeologist', 'composer/songwriter/producer', 'producer/composer', 'Phillippe', 'Buffy', 'Vampire', 'Slayer', 'Baywatch', 'then-betrothed', 'Archduke', 'Gail', 'Weathers', 'Riley', 'Neve', 'Campbell', 'Dewey', 'then-wife', 'Kreviazuk', 'blamed', 'Louel', 'Senores', 'Male', 'Number', 'personality', 'divorces', 'Quebecer', 'divorce', 'Raaj', 'Kumar', 'Nargis', 'son-in-law', 'ichi', 'Raghuvaran', 'glamorous', 'Fry', 'quotation', 'quoted', 'statement', 'nupi', 'Sasha', '8-year-old', 'Grumman', '1376', '1737', 'generations', '1836–1885', '18-year-old', 'Katia', 'blonde', 'Elsa', 'Broadbent', 'Jeannie', 'sitting', 'enchanter', 'ballet', 'bride', 'Space-X', 'skater', 'stepmother', 'Sumner', 'generated', 'cruised', 'bass', 'Chancellor', 'AND', 'Arybbas', 'GMTV', 'costume', 'graphic', 'Mansfield', 'Arnold', 'Sharwzenegger', '1878-1885', 'stout-hearted', 'Shoshone', 'trapper', 'Baptiste', 'Aiko', 'Earl', 'Detective', 'Sergeant', 'Trotter', 'disturbing', 'glimpse', 'Sandler', 'Seth', 'Rogen', 'Consort', 'Saxe-Coburg', 'Gotha', 'rumours', '1819–1861', 'eloped', 'Alois', 'Zimbabwean', 'Abbie', 'Cornish', 'witch', 'Tara', 'doll', 'surmise', 'then-boyfriend', '-Stanshall', 'Shadie', 'Story', 'soprano', 'Grammy', 'Attanasio', '1947–1979', 'Skip', 'Candido', 'Fiyero', 'Norrington/', 'eighties', 'supermodel', 'EX', 'reeds', 'Masterson', 'Ellen', 'Burstyn', 'Kripke', 'Ophelia', 'wive', 'L', 'ady', 'FDR', 'Issacs', 'Menken', 'bareknuckle', 'champ', 'outed', 'Plame', 'CIA', 'operative', 'Sean', 'pig', 'paramour', 'Derek', 'admits', 'step-daughter', 'Drake', 'Sagan', '62,808,000', 'Firework', 'bigger', 'problems', 'pics', 'gown', 'murderer', 'murdering', 'colonist', 'b.1930', 'Thom', 'clandestine', '1756-1837', 'Syderstone', 'guru', 'Barrie', 'Reagan', 'Ruby', 'Katie', 'weakly', 'fourteen-year-old', 'betrothed', 'Dauphin', 'Mitchell', 'Owens', 'situations', 'Bambi', 'Woolf', 'Duncan', 'squire', 'director/producer', 'describing', 'Kajol', 'Pooja', 'ka', 'Tashan', 'Princes', 'miserable', 'HRH', 'seduced', 'charmed', 'tunics', 'Julius', 'annuls', 'Ellinor/Elyonor', 'smooth', 'McCabe', 'Zorach', 'Dreiser', 'oceanographer', 'Val', 'Kilmer', '1731-1802', 'MacArthur', 'Deep', 'Purple', 'external', 'Nava', 'Burgundy', 'wed', 'Alonso', 'R.', 'Portillo', 'Rep.', 'Ros-Lehtinen', 'Reni', 'Santoni', 'anthropologist', 'Indonesian', 'stepfather', 'buried.She', 'mistake', 'marryin', 'Nightmare', '1239–1307', 'Willow', 'Vicky', 'Secret', 'model/actress', 'Littman', 'posed', 'Singer', 'McLeavy', 'Matthew', 'Sweet', 'astrophysicist', 'Crocodile', 'Bjorn', 'freak', '13-year-old', 'squeeze', 'Plantagenet', '1284-1327', '1307-1327', 'md', 'supervisor', 'Beatle', 'Augustus', 'Visigoths', 'helped', 'chemist', 'fabled', '1912-1956', 'Much', 'Elaine', 'Kooning', 'up-and-coming', 'model-actress', 'G.', 'throaty', 'Brennan', 'Albie', 'Ruth', '1925-82', 'soloist', 'Mumford', 'Sons', 'Eisley', 'commented', 'widower', 'diplomat', '21-year-old', 'blues', '5-time', 'Sylvia', 'Hilton', 'onscreen', 'Schwarz', 'Bradley', 'Cooper', 'Victor', 'Lili', \"Tiffany's/10\", 'muse', 'Championship', 'bronze', '10k', 'ceramicist', 'wanting', '1519', 'supporter', 'aging', 'formalised', 'usurped', 'Cleves', 'ageing', 'repudiates', 'engagement', 'showcased', 'snagged', 'Maxine', 'Lesley', 'cutter', 'Hole', 'frontwoman', 'shock-mistress', 'Lennons', 'Former', 'Cricket', 'cricketer', 'killer', 'discussion', 'wee', 'long-time', 'lavish', '1689-1702', 'Willem', 'Orange-Nassau', 'Colleen', 'Dewhurst', 'Penthouse', 'Hiddleston', 'colorful', 'Rebecca', 'Mader', 'chick', 'Infanta', 'princess', 'collaborator', 'Geronimo', 'infamously', 'iven', 'files', 'tsar', 'Kate', '1982-', 'someday', 'wronged', 'sin', 'concerning', 'incident', 'praying', 'committed', 'adultery', 'Bible', 'Goldman', 'banker', 'Eklund', 'Marcos', 'foe', 'accompany', 'beau', 'keen', 'DDP', 'allegations', 'Page', 'Illya', 'Zubrin', 'Poison', 'Ivy', '1352-1336', 'unhappy', 'Henri', 'beats', 'Govan', 'rugby', 'fiance', 'Rand', 'Scarface', 'Jacobs', 'sung', 'Nievera', 'unexpected', 'secretly', 'spelled', 'Sephora', 'Perry', 'Lancashire-Scottish', 'songwriter-activist', 'presidential', 'Cougar', 'Dwight', 'Appadurai', 'ISSS', 'Joanna', 'Bolme', 'Heatmiser', 'icon', 'correspondence', 'Sire', 'Stein', 'HB', 'Theano', 'dating', 'petite', 'Madame', 'actress/host', 'rock-in-roll', 'Step', 'Up', 'Pentagon', 'Bodhi', 'Nov.', 'Gram', 'Parsons', 'Apprentice', 'Aragon', '1452–1516', '1516', 'darling', 'Lindy', 'Chamberlain', 'showman', 'secretive', 'Ha', 'Pam', 'one-time', 'How', 'Confederate', 'Zachary', 'Argento', 'common-law', 'Love', 'Enemies', 'psychoanalysis', 'scream', 'nursed', 'rd', 'African-exiled', 'Knife', 'Darin', 'Jenifer', 'Clooney', 'genuine', '1797-1851', '1761', 'Madness', 'Blomkamp', 'Neill', 'Stop-Loss', '8-day', 'WAG', 'Footballer', 'footballer', 'Sookie', 'expecting', 'vision', 'Prince-Consort', \"'best\", 'Lavoe', 'beautifully', 'Leah', 'bible', 'cousins', 'Sarai', 'obeyed', 'bearing', 'NI', 'Rex', 'add', 'extra-marital', 'extramarital', 'Arrested', 'Development', 'trophy', 'Olympias', 'Stokely', 'Carmichael', 'Camus', 'Danner', 'releases', 'sucked', 'boy-toy', 'Italian-French', 'actress-model-singer-song', 'Marathon', 'sparked', 'Ness', 'photoshoot', 'embracing', 'clothed', 'partner-in-peace', 'fond', 'comparing', 'Producers/Blazing', 'Saddles', 'Solicitor', 'Neptune', 'LA', 'CICATRICE', 'INTERIEURE', 'mistreatment', 'star-turned-actor', 'Austria-Hungary', 'Aged', 'stepchild', 'Rya', 'Kihlstedt', 'surprised', 'realize', 'Price', 'HEROES', 'two-time', 'baseball', 'Items', 'papers', 'Marlene', 'Dietrich', 'stunning', 'Giamatti', 'scriptwriter', 'WWE', 'Vince', 'Chrmn', 'w/wife', 'daddy', 'wallflower', 'Atticus', 'creepy', 'playmate', '24-year-old', 'three-year-old', 'Ferdinand', 'Buckley', 'pharaoh', 'gravestone', 'Vivian', 'Liberto-', '-Distin', 'slaughter', 'yang', 'beristrikan', 'strained', 'yourself', 'Noah', 'Calhoun', 'human', 'Divya', 'Dutta', 'Lombard', 'Fawcett', 'bold', 'bohemian', 'proposal', 'baby-daddy', 'ex-partners', 'rode', 'Valois', '1319', 'Shoah', 'survivor', 'Whedon', 'Liberian', 'muses', 'considerable', 'heiress', 'executed', 'Jackman', 'importantly', 'blanquette', 'veau', 'Canadian-born', 'actress/model', 'non-Jewish', 'KISS', 'proposing', 'Tennille', 'cheating', 'Bermudian', 'WIFE', 'spurned', 'messed', 'incited', 'deceived', 'Gerard', 'Depardieu', 'Motown', 'Supremes', 'Nayler', 'Burrough', 'Sudha', 'girlfriends', 'Hey', '1864-1946', 'actor/director', 'Gwen', 'Stacy', 'Parker/Spider-Man', 'sportsman', 'Hereditary', 'disappoints', 'Eckhart', 'homosexual', 'Wow', 'Charming', 'Plantagenet/Angevins', 'Edit', 'Angevin', 'boot', 'SBE', 'off-the-rocker', 'pairing', '15-year-younger', 'anarchism', '1756', 'strategist', '1905-1983', 'Cowboy', 'half-cousin', 'Wagner', '1868-1934', 'actrice', 'Patti', 'Smith-like', 'poetics', 'guitarist/vocalist', 'Jewel', 'Incense', 'husband-partner', 'rocker', 'Shahn', 'Nobelist', 'Jennings', 'Frankish-born', '1932-39', 'royalty', 'boldly', 'then-Democratic', 'Presidential', 'wiki', 'Mötley', 'CrÌe', 'Jorgen', 'Randers', 'Se7en', 'Fight', 'Moneyball', 'Rishi', 'penance', 'Pedro', 'LeWitt', '1928–2007', 'Hockney', 'Whoa', 'rock-n-roll', 'hearing', 'Ozzy', 'landlord', 'Silva', 'volleyball', 'Belgians', 'noblewoman', 'Felix', 'Mendelssohn', 'Bridges', 'Thelma', 'Alfie', 'Segal', 'financier', 'Baby', 'vary', 'Rover', 'Evoque', 'spat', 'Girl', 'Bonnie', 'Raitt', 'Wilde', 'Lancelot', 'philanthropist', 'Wong', 'Chau', 'Sang', 'Toby', 'st', 'Trek', 'originator', 'activist/politician', 'Need', 'horoscope', 'Montelena', 'Elector', 'Karla', 'egged', '1252', 'wifey', 'acrimonious', 'Bernard', 'Minster', 'Warden', 'OM', 'GCMG', 'GCVO', 'KCB', 'B', 'Fredrick', 'Raheny', 'Galaxie', 'Luna', 'uphold', 'compelled', '1503', 'Federline', 'strada', 'Cabiria', 'IMDb', 'waifish', 'naive', 'Tsukasa', 'wedded', 'Mantegna', 'Landau', 'wife/actress', '1831-1884', 'nonentity', 'masked', 'superhero', 'Parker', 'Spider-Man/Peter', 'Rhys', 'Ifans', 'lovely', 'tights', 'dorkiness', 'lasting', 'Hitchhikers', 'Guide', 'Galaxy', 'Moffett', 'MENKEN', 'Lyn', 'Late', 'comparisons', 'Bardot', 'Clapton', 'Desmond', 'Tutu', 'singer/actress', 'Speedman', 'Corvin', 'Naven', 'perpetrated', 'Poitier', 'association', 'Stevie', 'much-revised', 'dear', 'officiate', 'commentator', 'Wonderland', 'co-stars', 'curator', 'Coryndon', '1515', 'Fourth', 'Emir', 'remarried', 'banging', 'now-former', 'Judy', 'Patriots', 'decision', 'beheaded', 'relentless', 'pursuit', 'Sum', 'defected', 'HHH', 'settings', 'Bolan', 'mum', 'electing', 'Kerait', 'wrotes', 'magician/performer', 'righty—', 'Shaiman', 'weds', \"'fifth\", '1525', 'Midnight', 'iconographic', 'Saloon', 'patti', 'smith', 'mrs', 'Cory', 'Puck', 'Rainey', 'Holm', 'Willie', 'breaking', 'Luo', 'adulterer', 'deserves', 'silhouetted', 'Breakast', 'choreography', 'opportunity', 'lo', 'behold', 'despised', 'dissolving', 'portrait', 'German-born', 'now-', 'X-Men', 'True', 'abducted', 'impregnating', 'involving', 'Diahann', 'Khanna', 'Macauly', 'Culkin', 'MI-5/Spooks', 'Wives', 'Daughters', 'Demi', 'Guynes', 'romances', 'Berges', 'Indian-British', '1796', 'tobacco', 'toyed', 'tabacco', 'Sex', 'Pistols', 'Oldman', 'stabbed', 'cruelly', 'technically', 'Romana', 'year-old', '1801-1876', 'Educator', 'Husband', \"'What\", 'multi', 'Barbarella', 'corrupt', 'Bithynia', 'Graceland', 'bathroom', 'account', '—Segment', 'animators', 'provoking', 'jealousy', 'Salome', 'danced', 'Herod', 'Mosley', 'Cynthia', 'Curzon', 'Agent', 'Vinod', 'Langda', 'Tyagi', 'Iago', 'Laila', 'HH', 'Japanese-born', 'blame', 'ruining', 'photograph', 'bed-ins', 'rumors', 'mate', 'Pepin', 'Wiig', 'HIMYM', 'LaRue', 'Santana', 'actor/singer', 'sexy-rouge-type', 'Francoise', 'Hardy', 'Bloomsbury-ite', 'bisexual', 'gardening', 'Hurt', 'Locker', 'unlikely', '29-year-old', 'Rajput', 'spacy', 'Pill', '—who', '23andMe', 'co-found', 'awe-inspiring', 'Nastassja', 'Mod', 'Squad', 'Guenevere', 'Gael', 'García', 'Bernal', 'Mamie', 'Ike', 'ex-model', 're', 'Colpaert', 'Fairchild', 'Claybourne', 'Show', 'Shania', 'Twain', 'grieving', 'Parthian', 'instigation', 'abandoned', 'Mirren', 'Wessex', 'positively', 'fluorescent', 'decree', 'Biehn', '1807-1873', 'rebukes', 'vilified', 'She-Devil', 'She-Wolf', 'Humayun', '685-762', 'weren', 'accessorize', 'circles', 'discovers', 'Proctor', 'Tuesday', 'Weld', 'Abigail', 'Governator', 'Credit', 'domain', 'Bluetooth', 'Douggie', 'handmaid', 'socialite', 'Filipina', 'dramatist', 'pamphleteer', 'Gram-negative', 'subfamily', 'Monk', 'Diospyros', 'ebony', '-divorced', 'Jus', 'physiologist', '1661', 'weedy', 'mustard', 'electrician', 'heuffelii', 'sexually', 'seeds', 'greyhound', 'Stand', 'Praying', 'genus', 'bipedal', 'primates', 'architectural', 'hominin', 'Kamen', 'ghostwriter', 'Vinci', 'Deco', 'Megaptera', 'novaeangliae', 'commerce', 'forestry', 'agro-based', 'mineral', 'extraction', 'make-up', 'finances', 'magnitude', '9.0', 'duckbill', 'British-born', 'agriculture', 'Bengali', '1806', 'Titus', 'Subgenus', 'Amygdalus', 'automobiles', 'Joke', 'lightning', 'translates', 'sub-species', 'trumpet', 'tuberosum', 'Turnip', 'Moth', 'Hyblaea', 'puera', 'Averrhoa', 'varieties', 'garlic', 'ins', 'outs', 'Pararistolochia', 'Jabir', 'reputation', 'pronounced', 'Laurence', 'self-described', 'photocopying', '106-floor', 'Cultivars', 'ocelot', 'authoritarian', 'Schmitt', 'Nigerian', 'co-', 'Moses', 'incessant', 'Davy', 'Coronado', 'marine', 'gastropod', 'mollusk', 'medium-sized', 'Sturnidae', 'bootlegger', 'expensive', 'corals', 'anemones', 'kurrat', 'Mustela', 'putorius', 'Order', 'Quaker', '1807', 'pea', 'Ueshiba', 'Memorial', '1789-1864', 'OpenGL', 'flowering', 'Chuck', 'Cuidera', 'Powell', 'Calla', 'genera', 'los', 'Muertos', 'Souls', 'sloths', '1565', '1647', 'divine', 'acknowledged', 'quail', '1892–1967', 'whales', 'general-interest', 'Brazilian', '1543', 'passerine', 'Brunelleschi', 'palazzo', 'progressive', 'stabbing', '1387-1437', 'public-use', 'Rhizobia', 'require', '309', '312', 'arboreal', 'Alphonso', \"D'Abruzzo\", 'Jan', 'Heweliusz', 'computer-animated', 'Leopold', 'Weiss', 'Danainae', 'Fradkin', 'deciduous', 'Canidae', '-black', 'non-', 'mound', 'zucchini', 'sensu', 'APG', 'Jamaican', 'two-drop', 'Princeton', 'renown', 'suborder', 'Regular', 'Fallingwater', 'high-profile', '1868', 'ragtime', 'Xenocles', 'execrable', 'achieve', 'bluegrass', 'UK-based', 'perennial', 'probe', 'Venus', 'Scientist', 'illusionist', 'cognitive', '1871–1948', 'subtype', 'subclass', 'enterics', 'Camelopardalis', 'faint', 'Colombian', 'Balls', 'Tit', 'Sternidae', 'pre-eminent', 'Konvict', 'Muzik', 'Konvicted', 'Eminem', 'Brains', 'legume', 'mouse', 'deer', 'bacteria', 'trout', 'Genus', 'strepsirrhine', 'Cistercian', '1879–1912', 'flightless', '1601', 'generic', 'Hungarian', 'Charades', 'guessing', 'Sciurus', '-dwelling', 'omnivorous', 'hereditary', 'logician', '1971-', '1692', 'bright', 'red-brown', 'accessories', 'follow', 'soon-to-be', 'auto', 'Gonzalez', 'puppy', 'Monday', 'Linum', 'usitatissimum', 'Suborder', 'Heteroptera', 'Corgi', 'corgi', 'Canis', 'lupus', 'impressive', 'Alcohol', 'crack', 'cocaine', 'Osphronemidae', 'Presbyterian', 'Leon', 'Lederman', 'superorder', 'assassin', 'extremist', 'starfish', 'primate', 'extant', 'goat-antelope', 'Wool', 'animals', 'lithographer', 'caricaturist', 'AC', 'QC', 'gram-negative', 'artisan', 'Tupperware', '285-222', 'B.Ch', 'Orinoco', '1818-1889', '1778', 'eminent', '1452–1519', 'sculptor', 'Events', '1643-1727', 'Milky', 'Koma', 'Jay', 'carnivorous', 'Chandell', 'Friedrich', 'Moby-Dick', 'Cabaco', 'self-taught', 'chip', 'Behrens', 'English-language', 'profilic', 'Zeta', 'Upsilon', 'Theologian', 'bread', 'ripe', 'Vespa', 'mandarinia', 'stigmas', 'stigma', 'mutated', 'differentiation', 'aphids', 'mites', 'new-found', 'jalapeños', 'pepper', 'Flint', 'Sicilian', 'Halimium', 'freelance', 'embedded', 'DBE', 'superfamily', 'Aphidoidea', 'anaconda', 'nonvenomous', 'Pinwheel', 'tadpoles-', 'classical', 'Shigella', 'Patric', 'Ph.D', 'epidemiologist', 'mammal', 'buttercup', 'bracken', '1314', 'tricks', 'var', 'glutinosa', 'Papaver', 'somniferum', '1622', 'herbaceous', 'Cytisus', 'breed', 'imprecise', 'hypothesis', 'Mibuna', 'Hanford', 'reactors', 'cooled', 'psychoanalyst', 'Sipadan', 'fighter', '1310-1389', 'mystic', 'Citeaux', 'Legate', 'Recorded', 'Texas-born', 'wolves', 'chamois', 'single-hooved', 'ACCA', 'FCCA', '1860-1904', 'fatsia', 'mammilian', 'molosser', 'succulent', 'Urdu', 'Agency', 'verified', 'Chlamydia', 'sunbirds', '106', 'SAMPEX', 'advisor', 'multi-edition', 'trios', 'Atlanta-born', 'mackerel', 'ardent', 'locally', 'galunggong', 'tamodios', 'Afghan', 'prolific', 'male', 'prostitute', 'ISS', 'mountaineer', 'skier', 'Bos', 'primigenius', 'Jeffreys', 'Orr', 'Wally', 'Bryson', 'Korey', '/songwriter/original', 'Shanne', 'Squire', 'Blackburn', 'Ball', 'Jesse', 'Every', 'sexiest', 'Moraceae', 'figs', '—from', 'avant-garde', 'Solanum', 'Salmonella', 'coli', 'land-living', 'Myioborus', 'pine', 'warrior-caste', 'Cosa', 'majorana', 'Cichorium', 'intybus', 'NAACP', 'Y.', 'pestis', 'NGC', '1313', '475', '764', 'deacon', 'academy-trained', 'Benedictine', 'Dipper', '1832–1905', 'trivia', 'dye', 'Dactylopius', 'coccus', '35-year-old', '1779-1843', 'sisal', 'hemp', 'vines', 'Gallus', 'gallus', 'domesticus', 'utility', 'coyote', 'skunk', 'Tornados', 'friendship', 'shrubs', 'deep-sea', 'buckthorn', 'clumping', 'bamboo', 'devout', '1544', 'Flacius', '0138', 'Romanian', 'Nabi', 'Musa', '68-foot', 'habanero', 'chili', 'herb', 'mint', 'brightest', 'Brit', 'vulgaris', 'Faces', 'Jambul', 'CBE', '1727', 'alchemist', 'enables', 'Ascent', 'Bronowski', 'phylum', 'MRSA', 'rind', 'scent', 'colognes', 'Skid', 'Row', 'Penarth', 'MC', 'DSO', 'Supercuts', 'yaks', 'buffalo', 'laurel', 'oocytes', 'dsRNA', 'alpha-hemolytic', 'Krige', 'grouped', 'saturniids', 'manufacturer', 'flatworms', 'ungulate', 'odd-toed', 'Lenowens', 'Feb', 'swan', '1972-1985', 'Online', 'pawpaw', 'Eratosthenes', '1825', '1930-', 'USN', 'Chicasaw', '1654', 'botanist', 'herbalist', 'longest-range', 'code', 'Emmy', 'Tytonidae', 'Owl', 'Ophthalmologist', 'Nude', 'celebrities', 'distinctive', 'trio', 'victimized', 'Yong', '1923–', 'fig', 'Sudanese', 'hip', 'hop', 'Pioneer', 'chena', 'corms/', 'Bugs', 'Bunny', 'Indian-American', 'Sarcophilus', 'harrisii', 'Broward', 'conifer', 'Burj', 'yearly', 'consummate', 'Alligator', 'narrated', '936', '1013', 'glossy', 'cyberculture', 'proteins', 'sharp-toothed', 'Viking', 'Each', '800-million', 'coconut', 'Messier', 'Anthurium', 'lily', 'Sikh', 'cliffs', 'mushroom', 'Tillandsia', 'usneoides', 'fill', 'initial', 'Yahya', 'Adolph', 'Ochs', 'Canadian-', 'lemur', 'viral', 'NYPD', 'tiara', '-shaped', 'Vaccinium', 'Papaveraceae', 'geometer', '15th-century', 'Camaldolese', '1404', 'Fabaceae', '1770–1827', 'coccineus', 'acutifolius', 'amateur', 'Yen', 'Jaa', 'anti-establishment', 'galactic', 'persuaded', 'Sioux', 'gene', 'PALB2and', 'PALB2', '1836-1893', 'Matsudaira', 'Hackworth', 'apprentice', 'Eno', 'free-flowing', 'Daria', 'Werbowy', '-type', 'Zoid', 'essayist', 'Vestigial', 'Lepidoptera', 'fifties', 'newspapers', 'posters', 'Earth-resources', 'Peruvian', 'Candida', 'albicans', 'BRCA2', 'Ibadan', 'manga', 'Poltava', 'Physical', 'failure', 'Diya', 'Mirza', 'Dia', 'Skorpios', 'Doab', 'deposed', 'Besides', 'sworn', 'virtual', '1534', '1603', 'St-Malo', 'Billund', 'Raptors', 'Edhi', 'philanthropists', 'KIng', 'sole', 'mosaics', 'reconquered', 'Copenhagen', 'Suresnes', 'Patria', 'Villa', 'Jong-Il', 'birthday', '1544–1630', 'livery', 'stable', 'skinheads', 'soviet', '1214', 'Bouvines', 'Hellenistic', 'Ptolemaic', 'Tashkent', 'Rahat', 'Bedouin', 'Berger', 'Norodom', 'Sihanouk', 'Montpellier', 'marked', 'Abbasid', 'unified', 'Mongol', '1206', 'Genghis', 'Mongols', 'ooohh', 'ascends', '1846–1894', 'Crown', 'mathematics', 'Euclid', 'Comox', 'publicly', 'neutrality', 'Santos', 'Peterborough', 'Yuri', 'Goyang', 'Jalisco', '46664', 'addressed', 'sentenced', 'sabotage', 'Matanzas', 'treatment', '-led', 'Movement', 'Communist', 'edict', 'compelling', 'Rabid', 'Warring', 'Period', 'Kamilla', 'Rytter', 'Juhl', 'Sadie', 'Liza', 'Alida', 'Valli', 'Nguyen', 'Xuan', 'Tri', 'pandas', 'Harwich', 'Ashkenazi', 'Jew', 'Bialystok', '1844-1921', 'Coulter', 'drank', 'gallon', 'transfers', 'implemented', 'Bulgakov', 'addresses', 'thaw', 'Georgian', '-era', 'slavery', 'Diet', 'Worms', '1771', \"'Mr\", 'Lordi', 'Vodacom', 'licensed', 'rebuilt', 'stele', 'Moghul', 'ther', 'Ramiz', 'Alia', 'guarantee', 'anti-communist', 'post-war', 'Toyota', 'Aichi', 'Taoiseach', 'guerrilla', 'Aleksandr', 'Prokhorov', 'Dagmar', 'homosexuality', 'Aznavour', 'sniper', 'controversy', 'indefinitely', 'prolonged', 'Vita', 'Marissa', 'Michelangelo', 'Gilan', 'saint', 'Semitic', 'usurper', 'Rouyn-Noranda', 'Coromandel', 'Roads', 'Scholar', 'Laurentian', 'Italdesign', 'Turin', 'spying', 'prisoner', 'hire', 'pre-human', 'fossils', 'Dudhwa', 'sprint', 'amphitheatre', 'assumption', 'caliphate', 'Plato', '1762', 'Iwate', 'Fu', 'Haifeng', 'Apulia', 'Coalition', 'condemned', 'revelations', 'Port-au-Prince', 'Patron', 'proclaim', 'depicting', 'Guernica', 'coup', 'Mogadishu', 'Lourdes', 'PfÀnder', 'Tetrarchy', 'dividing', '51st', 'try', 'renewal', 'Schmalz', 'worshiping', 'Adonis', 'apparent', 'Palencia', 'shah', 'Ringo', 'Starr', 'Prix', 'Kalinga', 'Buena', 'Vista', 'Deobandi', 'dictatorship', 'Zaire', 'Zaire–now', 'Stanleyville', 'Mysore', 'rockets', 'Governor-General', 'PM', '1014', 'pagan', 'RF', 'Hendra', 'Setiawan', '1922-1995', 'Principality', 'Qadian', 'Isyana', 'Dynasty', 'colonel', 'seizing', 'Heliopolis', 'Signor', 'Ugarte', 'Lorre', 'indictment', 'Istana', 'Arafat', 'Amin', 'deposing', 'Obote', 'Usama', 'bin', 'Laden', 'Earning', 'Rs', 'Sandoz', 'Laboratories', 'Basel', 'unifying', 'warring', '-One', 'Hanoi', 'Unionist', 'hardline', 'Lachine', 'elaborated', 'calls', 'Woking', 'Revolt', 'revolt', 'revolted', 'deported', 'Cologne', 'Watlington', 'Oxfordshire', 'Ragga', 'Soca', 'F4', 'illegally', 'jail', 'Fujian', '38th', 'Yekaterinburg', 'dictatorial', 'tyrant', 'unites', 'butcher', 'Melrose', 'Salpetriere', 'Hospital', 'Osaka', 'Bayer', 'Elberfeld', 'Bakhtin', 'Oryol', 'Chansung', '2PM', 'Junho', '2AM', 'Dictator', 'ultimate', 'demise', 'dealing', '114', 'Hobbes', '300-400', 'Recklinghausen', 'granting', 'Romantic', 'mother-in-law', 'Abolhassan', 'Banisadr', 'desperately', 'dangerous', 'warlords', 'abstention', 'UN', 'forcefully', 'henchmen', 'inflicting', 'Glastonbury', 'Pasteur', 'Novelist', 'Puebla', 'reelected', 'Katrineholm', 'elections', 'Charlton', 'Shahnameh', 'Valcourt', 'fabricating', 'evidence', 'Tyrol', 'Gardner', 'Batten', 'Rathcoole', 'Borivali', 'relics', 'Ararat', 'Austrofascist', 'fails', 'Production', 'Torre', 'Lago', 'grabbed', 'grant', 'Pi', 'Vichy', 'anchorwoman', 'Dumbarton', 'campaign', 'Gateshead', 'Kazel', 'O.S.U', 'Cles', 'Trento', 'colours', '1876-1950', 'Shaolin', 'successfully', 'convincing', 'Yoav', 'Rosenberg', 'Nottingham', 'Madhesi', 'Janaadhikar', 'Forum-', 'Pant', 'Glas', 'Gwynedd', 'saving', 'Strasbourg', 'Claus', 'Noordeinde', 'deputy', 'Paramore', 'touring', 'Stourport-on-Severn', 'Mameha', 'backdrop', 'Zurich', 'porcelain', 'fifteenth', 'tenure', 'Pavilion', 'practice', 'Fellow', 'super', 'outspoken', 'conferred', 'citizenship', 'Gaultier', 'Vallette', 'Defiant', 'Sixth', 'urged', 'NSDAP', 'dangers', 'positivists', 'fled', 'Pelley', 'supreme', 'Suleiman', 'stepped', '997-1014', 'adopt', 'openly', 'Magalona', 'crushes', 'Sukarno', 'Royalists', 'edges', '1655', 'height', 'Gao', 'Ling', 'Emile', 'Gerardus', 'Roemer', 'Boxmeer', 'predating', 'Ghibli', 'bombard', 'sultan', 'Leiden', 'presidents', 'Middleburg', 'Serb', 'Astronaut', 'USMC', 'Anthem', 'warrior', 'resigns', 'sherpa', 'climber', 'Wiggins', 'Consequently', 'Ghent', 'Baifern', 'Pimchanok', 'ideas', 'Pestalozzi', 'plebiscite', 'whether', '41st', 'resisted', '1954-', 'monarch', 'telecast', 'Emperors', 'Lao-tse', 'Chuang-tzu', 'Administration', 'rush', 'Issy-les-Moulineaux', 'Becker', 'Kitasato', 'Shibasaburo', 'Akbar', 'Mune', 'Patriarch', 'Catholicos', 'locates', 'Atlantis', 'caliph', 'Zheng', 'Jie', 'Jozef', 'Schell', 'Jayachand', 'traitor', 'Day/Dia', 'Tiradentes/Brasilia', 'Cottage', 'Swakopmund', 'obtained', 'Reiki', 'Ayub', 'Mohammad', 'Hatta', 'Norwich', 'Flavius', 'Valerius', 'Constantinus', 'co-emperors', 'presidente', 'Demeyer', 'initiating', 'Ming', 'Tawonga', 'Zhou', 'joint-production', 'fascist', 'Everton', 'allow', 'biochemist', 'Han', 'Chaim', 'Witz', 'incumbent', 'sportsmen', 'monstrous', 'Genma', 'K.', 'Chauhan', 'NCUI', '1373', 'Yu', 'Century', 'activities', 'Published', 'sweeping', 'wins', 'price', 'freeze', '1806-59', 'patriarch', 'Monkees', 'Beau', 'Archibald', 'racer', 'Thicke', 'Zhao', 'Yun', 'emulated', 'Elisabeth', 'Farnese', 'promoter', 'L.A.', '2001-05', 'Geta', 'advised', 'Antonia', 'Miano', 'alias', 'Rajanikanth', 'Rajesh', 'speak', 'Ibrahim', 'sixteen-year-old', 'Francesca', 'Benihana', 'Son', 'Akhenaten', 'blessed', '–eldest', 'doughter', 'Keough', 'Presley', 'despair', 'eight-year', 'sufi', 'slain', '1773', 'Congressman', 'Sabbath', 'great-grandson', 'Naruhito', 'dau', 'Hunt', 'radical', 'Theodoric', 'Lennox', 'Hotels', 'commissioner', 'revered', 'Wing', 'Cooking', 'Henning', 'Avantgarde', '1785', 'XVI', 'b.1801', 'd.1840', 'Eldest', 'Canmore', 'Politician', 'orators', 'Elvis', 'actress/singer', 'Macedon', 'the-then', '12-year', 'President-Elect', 'rightful', 'daughter-in-law', 'mega-mega', 'Sirisobhabannavadi', 'illegitimate', 'Gainsbourg', 'tearfully', 'thanked', 'Rampling', 'straddled', 'Gilded', 'Age', 'Wichita', '-0-', 'detailed', 'teammate', 'Laker', 'Forward', 'session', 'percussionist', 'fathered', 'niyoga', 'm.', 'Poythress', 'Rolfe', 'Gaunt', 'Owen-Allen', 'neurobiologist', \"O'Jays\", 'Eber', '1837–1903', 'Constans', 'succeed', '69-79', 'khan', 'great-granddaughter', 'self-made', 'Sheba', 'Woga', 'co-owner', 'Umerkot', 'Lucille', 'actress/director', 'Eames', 'Eero', 'Ainse', '1458', '1494', 'Hywel', 'Romanov', 'reggae', 'Fleming', 'Laurel', 'Antoinette', 'Orford', '1717-1797', 'sacrifice', 'sacrificed', 'Rebekah', 'ful', 'Kleopatra', 'Yaqub', 'Ishaq', 'biblical', '1022-1066', 'Rev', 'childwood', 'junior', 'co-ruler', 'Jenna', 'Rhythm', 'Christian-missionary', 'Cavendish', 'grandchild', 'Children', 'Neferure', 'Rep', 'Mick', 'matriarch', 'Kimberly', 'Savoy', 'H.M', 'Eliz', 'knitting', 'dandy', 'scion', 'disgraced', 'british', 'Junior', 'half-siblings', 'disabled', '60s', 'Jawahar', 'Lal', 'Formula', 'Hudjefa', '850', '933', 'Touhy', 'Openly', 'Movin', 'Lambert', 'bossa', 'nova', 'regency', 'anarcho-capitalist', 'analyst', 'Youngest', 'Dennison', '1853', 'Rat', 'Pack', 'singer/actor', '370', 'illegitmate', 'second-wife', 'on-set', 'mirroring', 'discussed', 'singer/songwriter', '42-year-old', 'Bonanza', 'railroad', 'PRC', 'predecessor', 'Collection', 'AAC', 'boast', 'nephews', 'fourth-eldest', 'Chess', 'Songkhla', 'emulate', 'impressionist', '1475–1507', 'connivance', 'Deb', 'paternal', 'bodybuilder', 'prancing', 'Humphrey', 'Bogart', 'Barnato', 'yesteryears', 'aware', \"d'Este\", 'investor', 'Sununu', 'now-deposed', 'ex-President', 'Presidency', 'superstar', 'then-ruling', 'Maguindanao', '1413', 'Herschel', 'Royalty', 'seed', 'Itet', 'Phinney', 'GM/Owner', 'Cedella', 'Dimple', 'Kapadia', 'teenage', '–a', 'two-term', 'Hearst', 'Margera', '1928-1999', 'Arsinoe', 'Higgins', 'Amalia', 'Solms-Braunfels', 'Magnificent', 'ascended', 'Rosamond', 'hymn', 'families', 'yeah', 'Chip', 'kashmir', 'gens', 'divi', 'filius', 'deified', 'b.1533', 'Grandson', 'OTL', 'Childebert', 'wielded', 'artillery/small', 'arms', 'Mitt', 'Romney', 'Beyonce', 'Nicky', 'eclectic', 'diary', 'listen', 'illustrious', 'Shri', 'Bossed', '.His', 'grandparents', 'Samajwadi', 'Midge', 'Decter', 'Uday', 'Chopra', 'Pamela', 'awful', 'reactionary', 'Tin', 'Orleans', 'Floyd', 'Amis', 'pean', 'Pa', '27-year-old', '1498-1524', '1524', 'relating', 'airplane', 'fatally', 'r.1702-14', 'English-born', 'Epiran', 'Ingrid', 'Empresses', 'Exile', 'discontinued', 'Achy', 'Brakey', 'Priem', 'Wal-Mart', 'Walmart', 'bn', 'MOTHER', 'assorted', 'grandmothers', 'Kushite', 'Taharqa', 'hockey', 'Northwesterner', 'co-authors', 'prequels', 'Ore', 'gunned', 'energetic', 'Beaufort', 'Ah', 'hellspawn', 'Tribute', 'bloodline', 'talent…', 'McCorquodale', 'Mommy', 'Dearest', '1424', 'suzerainty', '1658-1707', 'Ernest', 'Shia', 'imam', 'Kareena', 'Medici', '1588', 'Coello', 'Brennen', 'Harper', 'sees', 'Makeda', 'treasurer', 'b.1838', 'Crowned', 'd.1893', 'driver', 'BUDO', '25-year-old', 'implications', 'Eunice', 'Vortimer', '1735-1782', 'theologian/evangelist', '80th', '1906–2001', 'Pt', 'lawyer/activist', 'Cyril', 'Akvarium', 'Leningrad', 'crown', 'Representing', 'museum', 'Dacca', '1899-1983', 'practitioner', 'Variety', 'Performance', 'Skansen', 'Computing', 'Sinatra', 'decreed', 'Era', 'Ahmir', 'uestlove', 'Zealander', 'Donaldson', 'Wang', 'Xiaoning', 'dissident', 'drives', 'Mannheim', 'import', 'sell', 'seashells', 'Kettering', '—vanished', 'anti-Mafia', 'campaigner', 'treated', 'asclepieion', '1812-1870', 'ri', 'borns', 'African-American', 'Text', 'marathoner', 'Cibalae', '1872-1941', 'Kahlo', 'Presets', 'Emesa', 'Homs', 'denizen', 'unawares', 'Winslow', 'Independent', 'poetess', 'Areopagus', 'severely', 'injured', 'commits', 'self-immolation', 'Timothy', 'Yuro', 'twenty-two', 'street-smart', 'Bhilai', 'suddenly', '872–930', 'Marquis', 'Viveks', 'Flagship', 'Jayanagar', 'assasinated', 'fl', '1357', 'knight', 'limousines', 'Aztec', 'Services', 'Kathy', 'd.390', 'Bannatyne', 'jurisdictional', 'races', 'Capitoline', 'Hainaut', 'Hawkyns', 'Kanakadasa', '1037', '1101', 'Lipps', 'property', 'Priestman', 'Grosholtz', '1761–1850', 'Chiricahua', '1829-1909', 'skeleton', 'canyon', 'Apaches', 'Aeschines', 'Liam', 'Payne', 'Torah', 'conquers', 'Beginners', 'Konigstuhl', 'empowerments', 'purged', 'trust', 'farewell', 'waitressing', 'lawsuit', 'Starkey', 'Udayana', 'Qutb', 'Shahi', 'dynasti', '1591', 'immigrant', '1703–1792', '4th-century', 'Atenism', 'Bigakko', 'artschool', 'colonists', 'Wageningen', 'McShane', 'Neue', 'Galerie', 'collector', 'paleontologist', '1745', 'invention', 'lad', 'pre-handover', 'Cynosarges', 'gymnasium', 'Niall', 'ascension', 'thrown', 'glittering', 'Ghanaian', 'drug', 'bust', 'cellist', 'Monmouth', 'privately', 'cross-country', 'Liberties', 'Pixies', 'Walibagh', 'Genoese', 'sinful', 'Rammstein', 'dramatizes', 'kite', 'fighting', 'pre-war', 'Dragon', 'Al-Qaeda', 'Jarrah', 'Record', 'Corporation', '29,1911', 'Khashoggi', '971—1030', 'Pitroda', 'Arcore', 'Medi-Clinic', 'duke', '1522-1570', 'Kabbalist', 'kabbalist', 'Tarbuck', 'illegals', 'Havering', 'Fleeing', 'persecution', 'Berlioz', 'Conservatoire', 'Daredevil', 'Stallings', 'Baroque', 'Competition', 'Glen', 'Riddle', 'EP', 'Hidden', 'Plainsight', 'Bernie', 'Lowe', 'Cameo-Parkway', 'Parvateshwar', 'angel', 'Raziel', 'evicted', 'blameless', 'refused', 'paradise', 'shugo', 'Nazareth', 'CFRB', 'Apr', 'R-', 'Uffizi', 'Gallery', 'archbishop', 'Lebowski', 'unemployed', '1865', 'Donizetti', 'Bahian', 'Maranzano', 'Dorigo', 'Thurleston', 'Grange', 'Elvaston', 'engineer', 'smuggled', 'Sigismund', 'prescribed', 'Frans', 'Hals', 'cook', '1780', 'charmless', 'Tunisian', 'traveller', '-century', 'abbi', 'rabbi', 'activists', 'raided', 'instructed', 'Arjan', 'Lineal', 'Essendon', '1210', 'undefeated', '26-years-old', 'securing', 'Leo', 'Shakespeare', 'nephew-in-law', 'embarking', 'Winifred', \"'Agatha\", 'Executioner', 'merchant', 'perceptions', 'TVXQ', 'Parkway', 'consequently', 'Jainism', 'paradigm', '04', 'medical', 'origins', 'researcher', 'Mervyn', 'Kurlansky', 'Needham', 'Bockhampton', 'bookshop', 'crushed', 'expelled', 'appease', 'IMF', 'Leper', '1161', '1185', 'Cee-Lo', 'Anglo-Saxon', 'ShoreBank', 'Orsanmichele', 'Halsall', '1483-1546', 'miner', 'forum', 'Davey', 'Pattison', 'belonged', 'Frehley', '766-856', 'Teatro', 'Silenzio', 'Muthas', 'Onesimus', 'Christenze', 'Dinesen', 'Ghulam', 'Ahmad', 'Jong-il', 'Drums', 'Vali', 'Haveli', 'Daryaganj', 'Bold', '6th-century', 'Anaximander', 'Anaximenes', 'electrocution', 'Christos', 'Kostas', 'Tselios', 'Guildhall', 'Drama', 'Rising', 'capital-palace', 'Cecilia', 'Commons', '1935-', 'comrades', 'Wednesday', 'cellar', 'flood', 'Castello', 'Schiller', '306–337', 'musicians', '50-year-old', 'bricklayer', 'Housed', 'purpose-built', 'Panorama', 'Mesdag', 'Wacker', 'evacuate', 'Medicis', 'Palazzo', 'chignon', 'specific', '430', 'decorated', 'awards', 'soldier', 'USAAF', 'air-raid', 'Pressburg', 'Cannstatt', 'requested', 'preach', '386', 'Brigid', 'Kildare', 'reputed', 'snakes', 'saints', '385–461', '386-493', '1706-1775', 'Birkenau', 'abortive', 'Artemis', 'drink', 'wheat', 'grave', 'separatist', 'Hinduja', 'Johannes/Jan', 'Moretus', 'Raven', '1688–1758', 'Kapellmeister', 'march', 'Gherardini', 'Turns', 'PINA', 'Bausch', '1306', 'Greyfriars', 'Sanghamitta', 'Devastated', 'Aug', 'Senso', 'telescope', 'Missionaries', 'Teresa', 'Maclean', 'heretical', 'Norse', 'permanently', 'purchased', 'Lasbela', 'Bulgarian', 'Actors', 'Magellan', 'Stampede', 'Wrestling', 'pasha', 'Tepelena', 'Pasha', 'hostages', 'peasant', 'mural', 'sextant', 'Fakhri', 'Sextant', 'observartory', 'Uranometria', 'Crowfoot', 'Acta', 'Apostolorum', 'apocrypha', 'assassinations', 'Lehi', 'Kirthanas', 'Israeli', 'cruising', 'ends', 'Kantakouzenos', 'Sernin', 'Saturninus', 'Quaid-e-Azam', 'eleventh', 'J.S', 'collapses', 'Giardini', 'Principe', 'Surrealist', 'Ji', 'opera', 'Orfeo', 'Euridice', 'Mozart', 'liberated', 'ZAPU', 'report', 'epidemic', 'Orang', 'Utan', 'Mountaineering', 'Buddhism', 'realised', 'Letchworth', 'tarmac', 'Smolensky', 'Maxim', 'delivered', 'Aquinas', 'sainthood', 'burnings', 'hangs', 'Zionist', 'leaders', 'Sepulchre', 'Raspe', 'first-generation', 'Majolika', 'Haus', 'fin', 'siÚcle', 'sinking', 'opted', 'Byzantine', 'Hun', 'Barnett', 'ark', 'Jahangir', 'Bierkade', 'savoring', 'bye', 'electrocuted', 'Hamengku', 'Buwono', 'Blackfriars', 'suffered', 'cardiac', 'Clodt', 'JÌrgensburg', 'Redmond', 'ntipope', 'Galeazzo', 'Lyons', 'Ninth', 'Symphony', 'Protector', 'transfer', 'frazione', 'attempting', 'Collie', 'dukes', '40-minute', 'firefight', 'Fyodor', 'Trepov', 'Basilica', 'tailor', 'jumped', 'deck', 'tumour', 'Mia', 'Kibiku', 'Rotonda', 'Maybach', '9th', 'receives', 'Eva', 'Braun', 'WMAQ', 'showcase', 'Saville', 'silkworm', 'eggs', 'OGPU', 'relocating', 'Hassan', 'Calvin', '1452', 'b.17', 'burned', 'stake', 'Rijksmuseum', 'pupils', 'Reds', 'Heidegger', '1265', 'dargah', 'reserves', 'Elfrida', 'comebacks', 'rounding', 'sail', 'Fountain', 'conclude', 'treaty', 'marking', 'foundation', 'observe', 'Doria', 'Pamphilj', 'Stanza', 'Segnatura', 'topographic', 'summoned', 'violinist', 'Hohenburg', 'Moorish', 'synonymous', 'doom', 'brutally', 'angry', 'Denishawn', 'packing', '1653–1704', 'Personal', 'details', 'Sacharias', 'Jansen', '—spectacle-makers', 'printer', 'presbyter', 'Valerian', 'unimposing', 'pledged', 'USD', '30.7', 'shareholders', \"Ze'ev\", 'Herzog', 'Archaeology', 'Thinking', 'Machines', 'WAIS', 'three-film', 'contract', 'Computer', 'Officer', 'Selwyn', 'pioneering', 'Krugman', 'anchorman', '1894–1972', \"'07\", 'Salk', '07', 'Revealed', 'Jules', 'Asner', 'Kanye', 'S.J', 'geopolitics', 'TO', 'ASK', 'IF', 'Managing', 'Got', 'Be', 'cybernetics', 'Jay-Z', 'Astronomy', 'demographer', 'Buchanan', 'geology', 'Vajna', 'CFO', 'India-born', 'athletic', 'apparel', 'Rodney', 'Mullen', '.When', 'Cena', 'telecommunications', 'occasions', 'primatologist', 'banner', 'Georg', 'Wulf', 'Naumann', 'Mu', 'Turismo', 'sudden', 'departure', 'Papers', 'Project', 'Co-Chairman', 'elegant', 'co-head', 'Scotian', 'internet', 'Edwin', 'McMillan', 'Rez', 'Brenkman', 'superiors', 'trader', 'Materials', 'Corporate', 'Adviser', 'Naughton', 'Sheridan', 'astrophysics', 'scripting', 'Editor-in-Chief', 'NBA', 'Zenghelis', 'Joshua', 'Prince-Ramus', 'Carlos', 'Saldanha', 'Smalley', 'Heath', \"O'Brien\", 'Harold', 'Kroto', 'interviewed', 'NLS', 'Augmentation', 'Stanford', 'shoe', 'principle', 'Aleynikov', 'Mankins', 'Lomax', 'Spivacke', 'Soul', 'Stirrers', 'Bassham', 'Benson', 'Director-General', 'McIlroy', 'Developer', 'meteorology', 'Rory', 'Bernhard', 'Koehler', 'Tata', 'microbiologist', 'non-conformist', 'Galliano', 'Haute', 'Couture', 'Applied', 'Fumbles', 'betting', 'Korn', 'Courant', 'proprietor', 'sociologists', 'wrestled', '-owned', 'defunct', 'futures', 'managing', 'retired', 'convention', 'Silvestri', 'incorporates', 'Goldwyn', 'Winners', 'Losers', 'facto', 'Lanvin', 'Versace', 'Joy', 'Larsen', 'seasteading', 'CMD', 'Geschke', 'Mavericks', 'chairperson', 'Moneyline', 'mail-order', 'catalog', 'catalogue', '1843-1913', 'H.I', 'Ewen', 'AR', 'head-mounted', 'championed', 'Moll', 'Bardeen', 'Walter_Brattain', 'magnetron', 'radar', 'Wilden', 'Munson', 'Fuller', 'Form', 'modified', 'Ingres', 'Sigma', 'Sinclair', 'Radionics', 'geography', 'materials', '—left', 'Microsoft', 'Bullfrog', 'Growing', 'Teens', 'Terrifying', \"'Teen\", 'Choice', 'Choices', 'Blame', 'AT', 'propose', 'CCD', 'presidency', 'formely', 'Trustee', 'theology', 'applied', 'vice-chairman', 'Daphne', 'Koller', 'Finkelstein', 'Wetlands', 'Study', 'co-workers', 'intellectual', 'diverting', 'arguing', 'co-host', 'catty', 'Diemen', 'Toshio', 'Suzuki', 'suggests', 'professors', 'Musk', 'PayPal', 'alumni', 'start-up', 'bioethics', 'Hume', 'Parks', 'Resorts', 'resigned', 'imprint', 'Manuel', 'Blum', 'supplied', 'concept', 'Houghton', 'ecological', 'Editor-In-Chief', 'Secretary-General', 'McMahon', 'centralizing', 'authority', 'Darth', 'Nihilus', \"'01\", '01', 'Ear', 'Tomlinson', 'Kingsolver', 'Stryker', 'Sergey', 'Brin', 'sergey', 'brin', '03-26', 'Plan', 'Cults', 'Questions', 'Answers', 'www.csj.org', 'loves', 'Gish', 'Lipman', 'illustrated', 'Takashi', 'Takeuchi', 'Takeshi', 'newly-formed', 'AR-7', 'survival', 'rifle', 'MSNBC', '2003-11-03', 'Zettascale', 'Gower', 'Ritesh', 'Sidhwani', 'replace', 'MacLeish', 'McVickar', 'Political', 'Economy', 'sportscaster', 'Partnering', 'co-hosting', 'Langford', 'Criticism', 'disclosed', 'MRAPs', 'Released', 'Gamma', 'Kaluta', 'Prominent', 'Editor-in-chief', '1942-', 'Anita', 'Sarkar', 'file', 'incorporation', 'processes', 'superintendent', '09-05', 'interviewing', 'Laird', 'Peja', 'Stojakovic', 'Hagop', 'Kevorkian', 'Finger', 'Dodge', 'Steinhardt', '1950-', 'Breakout', 'Integer', 'BASIC', 'founds', 'High-z', 'Supernova', 'Team', 'topless', 'go-go', 'Sheryl', 'Handler', 'polyglot', 'quintessential', 'Heinrich', 'Rohrer', 'Kochen', 'mathematicians', 'Community', 'Growth', 'Chair', 'somewhat', 'surprising', 'Gutfreund', 'PMA', \"Cl-'51\", '1959-', 'incoming', 'Associate', 'Klee', 'concurrently', 'recreating', 'Lasseter', 'Lockport', 'Chanel', 'Miu', 'skateboard', 'Maureen', 'Wadia', 'Tecmo', 'Telmex', 'Yves', 'Saint-Laurent', 'Resort', 'Pre-Fall', 'Giabiconi', 'Vivienne', 'Westwood', \"'boy\", 'Humanities', 'assisted', 'Rocket', 'locomotive', 'Chat', 'Moss', 'bog', 'spikes', 'bout', 'Tarun', 'Mansukhani', 'Advanced', 'clueless', 'Murdoch', 'shareholder', 'riches', 'Group/', 'Ballard', 'Wilbur', 'AEI-', '1980–1981', '410bn', 'wealth', 'Weyl', 'Serving', 'Dre', 'Mathers', 'States-based', 'holdings', 'currency', 'Wheaton', 'Spielberg', 'Professorship', 'Presper', 'Eckert', 'talk', 'TED', 'co-CEO', 'Beno', 'Gutenberg', 'Hard', 'Cafe', 'Softdisk', 'Semel', 'designs', 'Gap', 'Moussy', 'Guilty', 'vaccines', 'C.S.C', 'Principia', 'Thomson', 'Semiconductor', 'replied', 'criticism', 'no-bid', 'tag', 'Travis', 'physiology', 'Microsystems', 'Canadian-American', 'Slaughter', 'Purchasing', 'Bragg'])"
      ]
     },
     "execution_count": 358,
     "metadata": {},
     "output_type": "execute_result"
    }
   ],
   "source": [
    "frequencies.keys()"
   ]
  },
  {
   "cell_type": "code",
   "execution_count": 22,
   "metadata": {},
   "outputs": [
    {
     "data": {
      "text/plain": [
       "3072"
      ]
     },
     "execution_count": 22,
     "metadata": {},
     "output_type": "execute_result"
    }
   ],
   "source": [
    "len(relations_middle['adjoins'][\"('France', 'Spain')\"][0])"
   ]
  },
  {
   "cell_type": "code",
   "execution_count": 376,
   "metadata": {},
   "outputs": [],
   "source": [
    "X, y = _generate_data_for_relation(relations_middle)\n",
    "X_logic = _generate_logic_features(relations_examples_text)\n",
    "X_random = _generate_random_features(relations_examples_text)\n",
    "X_logic_rel = np.append(X, X_logic, axis=1)\n",
    "X_random_rel = np.append(X, X_random, axis=1)\n",
    "X_train, X_test, y_train, y_test, classes = generate_splits(X, y, 0.2)\n",
    "X_train_random, X_test_random, y_train_random, y_test_random, classes = generate_splits(X_random, y, 0.2)\n",
    "X_train_logic, X_test_logic, y_train_logic, y_test_logic, classes = generate_splits(X_logic, y, 0.2)\n",
    "X_train_random_rel, X_test_random_rel, y_train_random_rel, y_test_random_rel, classes = generate_splits(X_random_rel, y, 0.2)\n",
    "X_train_logic_rel, X_test_logic_rel, y_train_logic_rel, y_test_logic_rel, classes = generate_splits(X_logic_rel, y, 0.2)"
   ]
  },
  {
   "cell_type": "code",
   "execution_count": 307,
   "metadata": {},
   "outputs": [],
   "source": [
    "# from sklearn.naive_bayes import GaussianNB, BernoulliNB\n",
    "from sklearn.svm import SVC\n",
    "from sklearn.linear_model import LogisticRegression as logit\n",
    "from sklearn import metrics\n",
    "from sklearn.model_selection import GridSearchCV\n",
    "\n",
    "class Model:\n",
    "    def __init__(self, train_data, test_data, classes, featurizer=None, parameters=None):\n",
    "        self.classifier = []\n",
    "        self.featurizer = featurizer\n",
    "        self.X_train = train_data[0]\n",
    "        self.y_train = train_data[1]\n",
    "        self.X_test = test_data[0]\n",
    "        self.y_test = test_data[1]\n",
    "        self.parameters = parameters\n",
    "        self.predictions = []\n",
    "        self.metrics = {}\n",
    "        self.classes = classes\n",
    "        \n",
    "    def fit(self, algorithm):\n",
    "        algorithm = algorithm()\n",
    "        for i in range(len(self.classes)):\n",
    "            classifier = algorithm.fit(self.X_train, self.y_train[:,i])\n",
    "            self.classifier.append(classifier)\n",
    "            y_predict = classifier.predict(self.X_test)\n",
    "            mets = metrics.classification_report(y_predict, self.y_test[:,i], output_dict=True)\n",
    "#            print(metrics.classification_report(y_predict, self.y_test[:,i]))\n",
    "            self.metrics[self.classes[i]] = mets\n",
    "        print('Done!')\n",
    "    \n",
    "    def generate_metrics(self):\n",
    "        for i in range(len(self.classes)):\n",
    "            y_predict = self.classifier[i].predict(self.X_test)\n",
    "            print(self.classes[i])\n",
    "            print(np.sum(self.y_test[:,i]))\n",
    "            mets = metrics.classification_report(y_predict, self.y_test[:,i], output_dict=True)\n",
    "            print(metrics.classification_report(y_predict, self.y_test[:,i]))\n",
    "            self.metrics[self.classes[i]] = mets\n",
    "        print('Done!')"
   ]
  },
  {
   "cell_type": "code",
   "execution_count": 377,
   "metadata": {},
   "outputs": [],
   "source": [
    "#mdl = Model((X_train, y_train), (X_test, y_test), classes)\n",
    "mdlLogic = Model((X_train_logic, y_train_logic), (X_test_logic, y_test_logic), classes)\n",
    "mdlRandom = Model((X_train_logic, y_train_logic), (X_test_logic, y_test_logic), classes)\n",
    "#mdlRandomRel = Model((X_train_random_rel, y_train_random_rel), (X_test_random_rel, y_test_random_rel), classes)\n",
    "#mdlLogicRel = Model((X_train_logic_rel, y_train_logic_rel), (X_test_logic_rel, y_test_logic_rel), classes)"
   ]
  },
  {
   "cell_type": "code",
   "execution_count": 326,
   "metadata": {
    "collapsed": true
   },
   "outputs": [
    {
     "name": "stderr",
     "output_type": "stream",
     "text": [
      "/usr/local/lib/python3.6/dist-packages/sklearn/linear_model/logistic.py:432: FutureWarning: Default solver will be changed to 'lbfgs' in 0.22. Specify a solver to silence this warning.\n",
      "  FutureWarning)\n",
      "/usr/local/lib/python3.6/dist-packages/sklearn/linear_model/logistic.py:432: FutureWarning: Default solver will be changed to 'lbfgs' in 0.22. Specify a solver to silence this warning.\n",
      "  FutureWarning)\n",
      "/usr/local/lib/python3.6/dist-packages/sklearn/linear_model/logistic.py:432: FutureWarning: Default solver will be changed to 'lbfgs' in 0.22. Specify a solver to silence this warning.\n",
      "  FutureWarning)\n",
      "/usr/local/lib/python3.6/dist-packages/sklearn/linear_model/logistic.py:432: FutureWarning: Default solver will be changed to 'lbfgs' in 0.22. Specify a solver to silence this warning.\n",
      "  FutureWarning)\n",
      "/usr/local/lib/python3.6/dist-packages/sklearn/linear_model/logistic.py:432: FutureWarning: Default solver will be changed to 'lbfgs' in 0.22. Specify a solver to silence this warning.\n",
      "  FutureWarning)\n",
      "/usr/local/lib/python3.6/dist-packages/sklearn/linear_model/logistic.py:432: FutureWarning: Default solver will be changed to 'lbfgs' in 0.22. Specify a solver to silence this warning.\n",
      "  FutureWarning)\n",
      "/usr/local/lib/python3.6/dist-packages/sklearn/linear_model/logistic.py:432: FutureWarning: Default solver will be changed to 'lbfgs' in 0.22. Specify a solver to silence this warning.\n",
      "  FutureWarning)\n",
      "/usr/local/lib/python3.6/dist-packages/sklearn/linear_model/logistic.py:432: FutureWarning: Default solver will be changed to 'lbfgs' in 0.22. Specify a solver to silence this warning.\n",
      "  FutureWarning)\n",
      "/usr/local/lib/python3.6/dist-packages/sklearn/linear_model/logistic.py:432: FutureWarning: Default solver will be changed to 'lbfgs' in 0.22. Specify a solver to silence this warning.\n",
      "  FutureWarning)\n",
      "/usr/local/lib/python3.6/dist-packages/sklearn/linear_model/logistic.py:432: FutureWarning: Default solver will be changed to 'lbfgs' in 0.22. Specify a solver to silence this warning.\n",
      "  FutureWarning)\n",
      "/usr/local/lib/python3.6/dist-packages/sklearn/linear_model/logistic.py:432: FutureWarning: Default solver will be changed to 'lbfgs' in 0.22. Specify a solver to silence this warning.\n",
      "  FutureWarning)\n",
      "/usr/local/lib/python3.6/dist-packages/sklearn/linear_model/logistic.py:432: FutureWarning: Default solver will be changed to 'lbfgs' in 0.22. Specify a solver to silence this warning.\n",
      "  FutureWarning)\n",
      "/usr/local/lib/python3.6/dist-packages/sklearn/linear_model/logistic.py:432: FutureWarning: Default solver will be changed to 'lbfgs' in 0.22. Specify a solver to silence this warning.\n",
      "  FutureWarning)\n",
      "/usr/local/lib/python3.6/dist-packages/sklearn/linear_model/logistic.py:432: FutureWarning: Default solver will be changed to 'lbfgs' in 0.22. Specify a solver to silence this warning.\n",
      "  FutureWarning)\n",
      "/usr/local/lib/python3.6/dist-packages/sklearn/linear_model/logistic.py:432: FutureWarning: Default solver will be changed to 'lbfgs' in 0.22. Specify a solver to silence this warning.\n",
      "  FutureWarning)\n",
      "/usr/local/lib/python3.6/dist-packages/sklearn/linear_model/logistic.py:432: FutureWarning: Default solver will be changed to 'lbfgs' in 0.22. Specify a solver to silence this warning.\n",
      "  FutureWarning)\n"
     ]
    },
    {
     "name": "stdout",
     "output_type": "stream",
     "text": [
      "Done!\n"
     ]
    }
   ],
   "source": [
    "mdl.fit(logit)"
   ]
  },
  {
   "cell_type": "code",
   "execution_count": 327,
   "metadata": {},
   "outputs": [
    {
     "name": "stdout",
     "output_type": "stream",
     "text": [
      "0.7202818982191337\n",
      "0.7435506339543294\n",
      "adjoins \t \t precision: 0.748670466395682 \t \t f1: 0.7814925675068181\n",
      "author \t \t precision: 0.9059095741566752 \t \t f1: 0.9312601671469949\n",
      "capital \t \t precision: 0.5196959617262806 \t \t f1: 0.5228278338036199\n",
      "contains \t \t precision: 0.8566609010789885 \t \t f1: 0.8590247509339974\n",
      "film_performance \t \t precision: 0.8964526484658006 \t \t f1: 0.9004292681124562\n",
      "founders \t \t precision: 0.8475239859053937 \t \t f1: 0.8661451542807475\n",
      "genre \t \t precision: 0.6282060641456173 \t \t f1: 0.6699461772067952\n",
      "has_sibling \t \t precision: 0.6953350571809813 \t \t f1: 0.7409164792224211\n",
      "has_spouse \t \t precision: 0.7284848909766529 \t \t f1: 0.773019773019773\n",
      "is_a \t \t precision: 0.6372461480958511 \t \t f1: 0.6460002245942795\n",
      "nationality \t \t precision: 0.7178678297199639 \t \t f1: 0.7341388887483622\n",
      "parents \t \t precision: 0.8352269699258187 \t \t f1: 0.86565881224858\n",
      "place_of_birth \t \t precision: 0.6752228421893577 \t \t f1: 0.7126117780363814\n",
      "place_of_death \t \t precision: 0.597261313448677 \t \t f1: 0.6209351072360743\n",
      "profession \t \t precision: 0.5102960325598073 \t \t f1: 0.5115381561184784\n",
      "worked_at \t \t precision: 0.7244496855345912 \t \t f1: 0.7608650050534906\n"
     ]
    }
   ],
   "source": [
    "print(_precision(mdl))\n",
    "print(_f1(mdl))\n",
    "_print_scores(mdl)"
   ]
  },
  {
   "cell_type": "code",
   "execution_count": 378,
   "metadata": {
    "collapsed": true
   },
   "outputs": [
    {
     "name": "stderr",
     "output_type": "stream",
     "text": [
      "/usr/local/lib/python3.6/dist-packages/sklearn/linear_model/logistic.py:432: FutureWarning: Default solver will be changed to 'lbfgs' in 0.22. Specify a solver to silence this warning.\n",
      "  FutureWarning)\n",
      "/usr/local/lib/python3.6/dist-packages/sklearn/linear_model/logistic.py:432: FutureWarning: Default solver will be changed to 'lbfgs' in 0.22. Specify a solver to silence this warning.\n",
      "  FutureWarning)\n",
      "/usr/local/lib/python3.6/dist-packages/sklearn/metrics/classification.py:1145: UndefinedMetricWarning: Recall and F-score are ill-defined and being set to 0.0 in labels with no true samples.\n",
      "  'recall', 'true', average, warn_for)\n",
      "/usr/local/lib/python3.6/dist-packages/sklearn/linear_model/logistic.py:432: FutureWarning: Default solver will be changed to 'lbfgs' in 0.22. Specify a solver to silence this warning.\n",
      "  FutureWarning)\n",
      "/usr/local/lib/python3.6/dist-packages/sklearn/metrics/classification.py:1145: UndefinedMetricWarning: Recall and F-score are ill-defined and being set to 0.0 in labels with no true samples.\n",
      "  'recall', 'true', average, warn_for)\n",
      "/usr/local/lib/python3.6/dist-packages/sklearn/linear_model/logistic.py:432: FutureWarning: Default solver will be changed to 'lbfgs' in 0.22. Specify a solver to silence this warning.\n",
      "  FutureWarning)\n",
      "/usr/local/lib/python3.6/dist-packages/sklearn/metrics/classification.py:1145: UndefinedMetricWarning: Recall and F-score are ill-defined and being set to 0.0 in labels with no true samples.\n",
      "  'recall', 'true', average, warn_for)\n",
      "/usr/local/lib/python3.6/dist-packages/sklearn/linear_model/logistic.py:432: FutureWarning: Default solver will be changed to 'lbfgs' in 0.22. Specify a solver to silence this warning.\n",
      "  FutureWarning)\n",
      "/usr/local/lib/python3.6/dist-packages/sklearn/metrics/classification.py:1145: UndefinedMetricWarning: Recall and F-score are ill-defined and being set to 0.0 in labels with no true samples.\n",
      "  'recall', 'true', average, warn_for)\n",
      "/usr/local/lib/python3.6/dist-packages/sklearn/linear_model/logistic.py:432: FutureWarning: Default solver will be changed to 'lbfgs' in 0.22. Specify a solver to silence this warning.\n",
      "  FutureWarning)\n",
      "/usr/local/lib/python3.6/dist-packages/sklearn/metrics/classification.py:1145: UndefinedMetricWarning: Recall and F-score are ill-defined and being set to 0.0 in labels with no true samples.\n",
      "  'recall', 'true', average, warn_for)\n",
      "/usr/local/lib/python3.6/dist-packages/sklearn/linear_model/logistic.py:432: FutureWarning: Default solver will be changed to 'lbfgs' in 0.22. Specify a solver to silence this warning.\n",
      "  FutureWarning)\n",
      "/usr/local/lib/python3.6/dist-packages/sklearn/metrics/classification.py:1145: UndefinedMetricWarning: Recall and F-score are ill-defined and being set to 0.0 in labels with no true samples.\n",
      "  'recall', 'true', average, warn_for)\n",
      "/usr/local/lib/python3.6/dist-packages/sklearn/linear_model/logistic.py:432: FutureWarning: Default solver will be changed to 'lbfgs' in 0.22. Specify a solver to silence this warning.\n",
      "  FutureWarning)\n",
      "/usr/local/lib/python3.6/dist-packages/sklearn/metrics/classification.py:1145: UndefinedMetricWarning: Recall and F-score are ill-defined and being set to 0.0 in labels with no true samples.\n",
      "  'recall', 'true', average, warn_for)\n",
      "/usr/local/lib/python3.6/dist-packages/sklearn/linear_model/logistic.py:432: FutureWarning: Default solver will be changed to 'lbfgs' in 0.22. Specify a solver to silence this warning.\n",
      "  FutureWarning)\n",
      "/usr/local/lib/python3.6/dist-packages/sklearn/linear_model/logistic.py:432: FutureWarning: Default solver will be changed to 'lbfgs' in 0.22. Specify a solver to silence this warning.\n",
      "  FutureWarning)\n",
      "/usr/local/lib/python3.6/dist-packages/sklearn/metrics/classification.py:1145: UndefinedMetricWarning: Recall and F-score are ill-defined and being set to 0.0 in labels with no true samples.\n",
      "  'recall', 'true', average, warn_for)\n",
      "/usr/local/lib/python3.6/dist-packages/sklearn/linear_model/logistic.py:432: FutureWarning: Default solver will be changed to 'lbfgs' in 0.22. Specify a solver to silence this warning.\n",
      "  FutureWarning)\n",
      "/usr/local/lib/python3.6/dist-packages/sklearn/metrics/classification.py:1145: UndefinedMetricWarning: Recall and F-score are ill-defined and being set to 0.0 in labels with no true samples.\n",
      "  'recall', 'true', average, warn_for)\n",
      "/usr/local/lib/python3.6/dist-packages/sklearn/linear_model/logistic.py:432: FutureWarning: Default solver will be changed to 'lbfgs' in 0.22. Specify a solver to silence this warning.\n",
      "  FutureWarning)\n",
      "/usr/local/lib/python3.6/dist-packages/sklearn/metrics/classification.py:1145: UndefinedMetricWarning: Recall and F-score are ill-defined and being set to 0.0 in labels with no true samples.\n",
      "  'recall', 'true', average, warn_for)\n",
      "/usr/local/lib/python3.6/dist-packages/sklearn/linear_model/logistic.py:432: FutureWarning: Default solver will be changed to 'lbfgs' in 0.22. Specify a solver to silence this warning.\n",
      "  FutureWarning)\n",
      "/usr/local/lib/python3.6/dist-packages/sklearn/metrics/classification.py:1145: UndefinedMetricWarning: Recall and F-score are ill-defined and being set to 0.0 in labels with no true samples.\n",
      "  'recall', 'true', average, warn_for)\n",
      "/usr/local/lib/python3.6/dist-packages/sklearn/linear_model/logistic.py:432: FutureWarning: Default solver will be changed to 'lbfgs' in 0.22. Specify a solver to silence this warning.\n",
      "  FutureWarning)\n"
     ]
    },
    {
     "name": "stdout",
     "output_type": "stream",
     "text": [
      "Done!\n"
     ]
    },
    {
     "name": "stderr",
     "output_type": "stream",
     "text": [
      "/usr/local/lib/python3.6/dist-packages/sklearn/metrics/classification.py:1145: UndefinedMetricWarning: Recall and F-score are ill-defined and being set to 0.0 in labels with no true samples.\n",
      "  'recall', 'true', average, warn_for)\n",
      "/usr/local/lib/python3.6/dist-packages/sklearn/linear_model/logistic.py:432: FutureWarning: Default solver will be changed to 'lbfgs' in 0.22. Specify a solver to silence this warning.\n",
      "  FutureWarning)\n",
      "/usr/local/lib/python3.6/dist-packages/sklearn/metrics/classification.py:1145: UndefinedMetricWarning: Recall and F-score are ill-defined and being set to 0.0 in labels with no true samples.\n",
      "  'recall', 'true', average, warn_for)\n",
      "/usr/local/lib/python3.6/dist-packages/sklearn/linear_model/logistic.py:432: FutureWarning: Default solver will be changed to 'lbfgs' in 0.22. Specify a solver to silence this warning.\n",
      "  FutureWarning)\n",
      "/usr/local/lib/python3.6/dist-packages/sklearn/metrics/classification.py:1145: UndefinedMetricWarning: Recall and F-score are ill-defined and being set to 0.0 in labels with no true samples.\n",
      "  'recall', 'true', average, warn_for)\n"
     ]
    }
   ],
   "source": [
    "mdlLogic.fit(logit)"
   ]
  },
  {
   "cell_type": "code",
   "execution_count": 379,
   "metadata": {},
   "outputs": [
    {
     "name": "stdout",
     "output_type": "stream",
     "text": [
      "0.5037767751737507\n",
      "0.4898635005990504\n",
      "adjoins \t \t precision: 0.5607829288967682 \t \t f1: 0.5915684129223004\n",
      "author \t \t precision: 0.5 \t \t f1: 0.48379888268156424\n",
      "capital \t \t precision: 0.5 \t \t f1: 0.4967868423918963\n",
      "contains \t \t precision: 0.5 \t \t f1: 0.40708418891170434\n",
      "film_performance \t \t precision: 0.5 \t \t f1: 0.4755363832444091\n",
      "founders \t \t precision: 0.5 \t \t f1: 0.48922056384742946\n",
      "genre \t \t precision: 0.5 \t \t f1: 0.49738903394255873\n",
      "has_sibling \t \t precision: 0.5 \t \t f1: 0.48246891452895707\n",
      "has_spouse \t \t precision: 0.4996454738832427 \t \t f1: 0.4778481012658228\n",
      "is_a \t \t precision: 0.5 \t \t f1: 0.4861528194861528\n",
      "nationality \t \t precision: 0.5 \t \t f1: 0.49096518289995594\n",
      "parents \t \t precision: 0.5 \t \t f1: 0.48910759703638174\n",
      "place_of_birth \t \t precision: 0.5 \t \t f1: 0.49230769230769234\n",
      "place_of_death \t \t precision: 0.5 \t \t f1: 0.4943635766663019\n",
      "profession \t \t precision: 0.5 \t \t f1: 0.4920844327176781\n",
      "worked_at \t \t precision: 0.5 \t \t f1: 0.49113338473400153\n"
     ]
    }
   ],
   "source": [
    "print(_precision(mdlLogic))\n",
    "print(_f1(mdlLogic))\n",
    "_print_scores(mdlLogic)"
   ]
  },
  {
   "cell_type": "code",
   "execution_count": 317,
   "metadata": {
    "collapsed": true
   },
   "outputs": [
    {
     "name": "stderr",
     "output_type": "stream",
     "text": [
      "/usr/local/lib/python3.6/dist-packages/sklearn/linear_model/logistic.py:432: FutureWarning: Default solver will be changed to 'lbfgs' in 0.22. Specify a solver to silence this warning.\n",
      "  FutureWarning)\n",
      "/usr/local/lib/python3.6/dist-packages/sklearn/linear_model/logistic.py:432: FutureWarning: Default solver will be changed to 'lbfgs' in 0.22. Specify a solver to silence this warning.\n",
      "  FutureWarning)\n",
      "/usr/local/lib/python3.6/dist-packages/sklearn/linear_model/logistic.py:432: FutureWarning: Default solver will be changed to 'lbfgs' in 0.22. Specify a solver to silence this warning.\n",
      "  FutureWarning)\n",
      "/usr/local/lib/python3.6/dist-packages/sklearn/linear_model/logistic.py:432: FutureWarning: Default solver will be changed to 'lbfgs' in 0.22. Specify a solver to silence this warning.\n",
      "  FutureWarning)\n",
      "/usr/local/lib/python3.6/dist-packages/sklearn/svm/base.py:922: ConvergenceWarning: Liblinear failed to converge, increase the number of iterations.\n",
      "  \"the number of iterations.\", ConvergenceWarning)\n",
      "/usr/local/lib/python3.6/dist-packages/sklearn/linear_model/logistic.py:432: FutureWarning: Default solver will be changed to 'lbfgs' in 0.22. Specify a solver to silence this warning.\n",
      "  FutureWarning)\n",
      "/usr/local/lib/python3.6/dist-packages/sklearn/linear_model/logistic.py:432: FutureWarning: Default solver will be changed to 'lbfgs' in 0.22. Specify a solver to silence this warning.\n",
      "  FutureWarning)\n",
      "/usr/local/lib/python3.6/dist-packages/sklearn/linear_model/logistic.py:432: FutureWarning: Default solver will be changed to 'lbfgs' in 0.22. Specify a solver to silence this warning.\n",
      "  FutureWarning)\n",
      "/usr/local/lib/python3.6/dist-packages/sklearn/linear_model/logistic.py:432: FutureWarning: Default solver will be changed to 'lbfgs' in 0.22. Specify a solver to silence this warning.\n",
      "  FutureWarning)\n",
      "/usr/local/lib/python3.6/dist-packages/sklearn/linear_model/logistic.py:432: FutureWarning: Default solver will be changed to 'lbfgs' in 0.22. Specify a solver to silence this warning.\n",
      "  FutureWarning)\n",
      "/usr/local/lib/python3.6/dist-packages/sklearn/linear_model/logistic.py:432: FutureWarning: Default solver will be changed to 'lbfgs' in 0.22. Specify a solver to silence this warning.\n",
      "  FutureWarning)\n",
      "/usr/local/lib/python3.6/dist-packages/sklearn/linear_model/logistic.py:432: FutureWarning: Default solver will be changed to 'lbfgs' in 0.22. Specify a solver to silence this warning.\n",
      "  FutureWarning)\n",
      "/usr/local/lib/python3.6/dist-packages/sklearn/linear_model/logistic.py:432: FutureWarning: Default solver will be changed to 'lbfgs' in 0.22. Specify a solver to silence this warning.\n",
      "  FutureWarning)\n",
      "/usr/local/lib/python3.6/dist-packages/sklearn/linear_model/logistic.py:432: FutureWarning: Default solver will be changed to 'lbfgs' in 0.22. Specify a solver to silence this warning.\n",
      "  FutureWarning)\n",
      "/usr/local/lib/python3.6/dist-packages/sklearn/linear_model/logistic.py:432: FutureWarning: Default solver will be changed to 'lbfgs' in 0.22. Specify a solver to silence this warning.\n",
      "  FutureWarning)\n",
      "/usr/local/lib/python3.6/dist-packages/sklearn/linear_model/logistic.py:432: FutureWarning: Default solver will be changed to 'lbfgs' in 0.22. Specify a solver to silence this warning.\n",
      "  FutureWarning)\n",
      "/usr/local/lib/python3.6/dist-packages/sklearn/linear_model/logistic.py:432: FutureWarning: Default solver will be changed to 'lbfgs' in 0.22. Specify a solver to silence this warning.\n",
      "  FutureWarning)\n"
     ]
    },
    {
     "name": "stdout",
     "output_type": "stream",
     "text": [
      "Done!\n"
     ]
    }
   ],
   "source": [
    "mdlLogicRel.fit(logit)"
   ]
  },
  {
   "cell_type": "code",
   "execution_count": 324,
   "metadata": {},
   "outputs": [
    {
     "name": "stdout",
     "output_type": "stream",
     "text": [
      "0.7265346025141752\n",
      "0.748537385240936\n",
      "adjoins \t \t precision: 0.7901063337956542 \t \t f1: 0.8171479310407133\n",
      "author \t \t precision: 0.9048229293365888 \t \t f1: 0.9253366476822793\n",
      "capital \t \t precision: 0.5249306468097532 \t \t f1: 0.5319401445467357\n",
      "contains \t \t precision: 0.8740831802224934 \t \t f1: 0.8751889350298847\n",
      "film_performance \t \t precision: 0.8983120942427052 \t \t f1: 0.9029599895683187\n",
      "founders \t \t precision: 0.8576448479851198 \t \t f1: 0.8787791241434822\n",
      "genre \t \t precision: 0.6311663191395962 \t \t f1: 0.6736931321084865\n",
      "has_sibling \t \t precision: 0.685835372453061 \t \t f1: 0.7293546910755149\n",
      "has_spouse \t \t precision: 0.7452256944444444 \t \t f1: 0.7804408168643358\n",
      "is_a \t \t precision: 0.6593226811094101 \t \t f1: 0.6734854482889694\n",
      "nationality \t \t precision: 0.6991248559262662 \t \t f1: 0.7162879745692302\n",
      "parents \t \t precision: 0.8121513643901703 \t \t f1: 0.8472554427646612\n",
      "place_of_birth \t \t precision: 0.678025135120953 \t \t f1: 0.7024190702719657\n",
      "place_of_death \t \t precision: 0.5995346381285617 \t \t f1: 0.623020244302465\n",
      "profession \t \t precision: 0.5070085795245841 \t \t f1: 0.5076273709892323\n",
      "worked_at \t \t precision: 0.7572589675974425 \t \t f1: 0.7916612006087003\n"
     ]
    }
   ],
   "source": [
    "print(_precision(mdlLogicRel))\n",
    "print(_f1(mdlLogicRel))\n",
    "_print_scores(mdlLogicRel)"
   ]
  },
  {
   "cell_type": "code",
   "execution_count": 380,
   "metadata": {
    "collapsed": true
   },
   "outputs": [
    {
     "name": "stderr",
     "output_type": "stream",
     "text": [
      "/usr/local/lib/python3.6/dist-packages/sklearn/linear_model/logistic.py:432: FutureWarning: Default solver will be changed to 'lbfgs' in 0.22. Specify a solver to silence this warning.\n",
      "  FutureWarning)\n",
      "/usr/local/lib/python3.6/dist-packages/sklearn/linear_model/logistic.py:432: FutureWarning: Default solver will be changed to 'lbfgs' in 0.22. Specify a solver to silence this warning.\n",
      "  FutureWarning)\n",
      "/usr/local/lib/python3.6/dist-packages/sklearn/metrics/classification.py:1145: UndefinedMetricWarning: Recall and F-score are ill-defined and being set to 0.0 in labels with no true samples.\n",
      "  'recall', 'true', average, warn_for)\n",
      "/usr/local/lib/python3.6/dist-packages/sklearn/linear_model/logistic.py:432: FutureWarning: Default solver will be changed to 'lbfgs' in 0.22. Specify a solver to silence this warning.\n",
      "  FutureWarning)\n",
      "/usr/local/lib/python3.6/dist-packages/sklearn/metrics/classification.py:1145: UndefinedMetricWarning: Recall and F-score are ill-defined and being set to 0.0 in labels with no true samples.\n",
      "  'recall', 'true', average, warn_for)\n",
      "/usr/local/lib/python3.6/dist-packages/sklearn/linear_model/logistic.py:432: FutureWarning: Default solver will be changed to 'lbfgs' in 0.22. Specify a solver to silence this warning.\n",
      "  FutureWarning)\n",
      "/usr/local/lib/python3.6/dist-packages/sklearn/metrics/classification.py:1145: UndefinedMetricWarning: Recall and F-score are ill-defined and being set to 0.0 in labels with no true samples.\n",
      "  'recall', 'true', average, warn_for)\n",
      "/usr/local/lib/python3.6/dist-packages/sklearn/linear_model/logistic.py:432: FutureWarning: Default solver will be changed to 'lbfgs' in 0.22. Specify a solver to silence this warning.\n",
      "  FutureWarning)\n",
      "/usr/local/lib/python3.6/dist-packages/sklearn/metrics/classification.py:1145: UndefinedMetricWarning: Recall and F-score are ill-defined and being set to 0.0 in labels with no true samples.\n",
      "  'recall', 'true', average, warn_for)\n",
      "/usr/local/lib/python3.6/dist-packages/sklearn/linear_model/logistic.py:432: FutureWarning: Default solver will be changed to 'lbfgs' in 0.22. Specify a solver to silence this warning.\n",
      "  FutureWarning)\n",
      "/usr/local/lib/python3.6/dist-packages/sklearn/metrics/classification.py:1145: UndefinedMetricWarning: Recall and F-score are ill-defined and being set to 0.0 in labels with no true samples.\n",
      "  'recall', 'true', average, warn_for)\n",
      "/usr/local/lib/python3.6/dist-packages/sklearn/linear_model/logistic.py:432: FutureWarning: Default solver will be changed to 'lbfgs' in 0.22. Specify a solver to silence this warning.\n",
      "  FutureWarning)\n",
      "/usr/local/lib/python3.6/dist-packages/sklearn/metrics/classification.py:1145: UndefinedMetricWarning: Recall and F-score are ill-defined and being set to 0.0 in labels with no true samples.\n",
      "  'recall', 'true', average, warn_for)\n",
      "/usr/local/lib/python3.6/dist-packages/sklearn/linear_model/logistic.py:432: FutureWarning: Default solver will be changed to 'lbfgs' in 0.22. Specify a solver to silence this warning.\n",
      "  FutureWarning)\n",
      "/usr/local/lib/python3.6/dist-packages/sklearn/metrics/classification.py:1145: UndefinedMetricWarning: Recall and F-score are ill-defined and being set to 0.0 in labels with no true samples.\n",
      "  'recall', 'true', average, warn_for)\n",
      "/usr/local/lib/python3.6/dist-packages/sklearn/linear_model/logistic.py:432: FutureWarning: Default solver will be changed to 'lbfgs' in 0.22. Specify a solver to silence this warning.\n",
      "  FutureWarning)\n",
      "/usr/local/lib/python3.6/dist-packages/sklearn/linear_model/logistic.py:432: FutureWarning: Default solver will be changed to 'lbfgs' in 0.22. Specify a solver to silence this warning.\n",
      "  FutureWarning)\n",
      "/usr/local/lib/python3.6/dist-packages/sklearn/metrics/classification.py:1145: UndefinedMetricWarning: Recall and F-score are ill-defined and being set to 0.0 in labels with no true samples.\n",
      "  'recall', 'true', average, warn_for)\n",
      "/usr/local/lib/python3.6/dist-packages/sklearn/linear_model/logistic.py:432: FutureWarning: Default solver will be changed to 'lbfgs' in 0.22. Specify a solver to silence this warning.\n",
      "  FutureWarning)\n",
      "/usr/local/lib/python3.6/dist-packages/sklearn/metrics/classification.py:1145: UndefinedMetricWarning: Recall and F-score are ill-defined and being set to 0.0 in labels with no true samples.\n",
      "  'recall', 'true', average, warn_for)\n",
      "/usr/local/lib/python3.6/dist-packages/sklearn/linear_model/logistic.py:432: FutureWarning: Default solver will be changed to 'lbfgs' in 0.22. Specify a solver to silence this warning.\n",
      "  FutureWarning)\n",
      "/usr/local/lib/python3.6/dist-packages/sklearn/metrics/classification.py:1145: UndefinedMetricWarning: Recall and F-score are ill-defined and being set to 0.0 in labels with no true samples.\n",
      "  'recall', 'true', average, warn_for)\n",
      "/usr/local/lib/python3.6/dist-packages/sklearn/linear_model/logistic.py:432: FutureWarning: Default solver will be changed to 'lbfgs' in 0.22. Specify a solver to silence this warning.\n",
      "  FutureWarning)\n",
      "/usr/local/lib/python3.6/dist-packages/sklearn/metrics/classification.py:1145: UndefinedMetricWarning: Recall and F-score are ill-defined and being set to 0.0 in labels with no true samples.\n",
      "  'recall', 'true', average, warn_for)\n",
      "/usr/local/lib/python3.6/dist-packages/sklearn/linear_model/logistic.py:432: FutureWarning: Default solver will be changed to 'lbfgs' in 0.22. Specify a solver to silence this warning.\n",
      "  FutureWarning)\n"
     ]
    },
    {
     "name": "stdout",
     "output_type": "stream",
     "text": [
      "Done!\n"
     ]
    },
    {
     "name": "stderr",
     "output_type": "stream",
     "text": [
      "/usr/local/lib/python3.6/dist-packages/sklearn/metrics/classification.py:1145: UndefinedMetricWarning: Recall and F-score are ill-defined and being set to 0.0 in labels with no true samples.\n",
      "  'recall', 'true', average, warn_for)\n",
      "/usr/local/lib/python3.6/dist-packages/sklearn/linear_model/logistic.py:432: FutureWarning: Default solver will be changed to 'lbfgs' in 0.22. Specify a solver to silence this warning.\n",
      "  FutureWarning)\n",
      "/usr/local/lib/python3.6/dist-packages/sklearn/metrics/classification.py:1145: UndefinedMetricWarning: Recall and F-score are ill-defined and being set to 0.0 in labels with no true samples.\n",
      "  'recall', 'true', average, warn_for)\n",
      "/usr/local/lib/python3.6/dist-packages/sklearn/linear_model/logistic.py:432: FutureWarning: Default solver will be changed to 'lbfgs' in 0.22. Specify a solver to silence this warning.\n",
      "  FutureWarning)\n",
      "/usr/local/lib/python3.6/dist-packages/sklearn/metrics/classification.py:1145: UndefinedMetricWarning: Recall and F-score are ill-defined and being set to 0.0 in labels with no true samples.\n",
      "  'recall', 'true', average, warn_for)\n"
     ]
    }
   ],
   "source": [
    "mdlRandom.fit(logit)"
   ]
  },
  {
   "cell_type": "code",
   "execution_count": 381,
   "metadata": {},
   "outputs": [
    {
     "name": "stdout",
     "output_type": "stream",
     "text": [
      "0.5037767751737507\n",
      "0.4898635005990504\n",
      "adjoins \t \t precision: 0.5607829288967682 \t \t f1: 0.5915684129223004\n",
      "author \t \t precision: 0.5 \t \t f1: 0.48379888268156424\n",
      "capital \t \t precision: 0.5 \t \t f1: 0.4967868423918963\n",
      "contains \t \t precision: 0.5 \t \t f1: 0.40708418891170434\n",
      "film_performance \t \t precision: 0.5 \t \t f1: 0.4755363832444091\n",
      "founders \t \t precision: 0.5 \t \t f1: 0.48922056384742946\n",
      "genre \t \t precision: 0.5 \t \t f1: 0.49738903394255873\n",
      "has_sibling \t \t precision: 0.5 \t \t f1: 0.48246891452895707\n",
      "has_spouse \t \t precision: 0.4996454738832427 \t \t f1: 0.4778481012658228\n",
      "is_a \t \t precision: 0.5 \t \t f1: 0.4861528194861528\n",
      "nationality \t \t precision: 0.5 \t \t f1: 0.49096518289995594\n",
      "parents \t \t precision: 0.5 \t \t f1: 0.48910759703638174\n",
      "place_of_birth \t \t precision: 0.5 \t \t f1: 0.49230769230769234\n",
      "place_of_death \t \t precision: 0.5 \t \t f1: 0.4943635766663019\n",
      "profession \t \t precision: 0.5 \t \t f1: 0.4920844327176781\n",
      "worked_at \t \t precision: 0.5 \t \t f1: 0.49113338473400153\n"
     ]
    }
   ],
   "source": [
    "print(_precision(mdlRandom))\n",
    "print(_f1(mdlRandom))\n",
    "_print_scores(mdlRandom)"
   ]
  },
  {
   "cell_type": "code",
   "execution_count": 374,
   "metadata": {
    "collapsed": true
   },
   "outputs": [
    {
     "name": "stderr",
     "output_type": "stream",
     "text": [
      "/usr/local/lib/python3.6/dist-packages/sklearn/linear_model/logistic.py:432: FutureWarning: Default solver will be changed to 'lbfgs' in 0.22. Specify a solver to silence this warning.\n",
      "  FutureWarning)\n",
      "/usr/local/lib/python3.6/dist-packages/sklearn/linear_model/logistic.py:432: FutureWarning: Default solver will be changed to 'lbfgs' in 0.22. Specify a solver to silence this warning.\n",
      "  FutureWarning)\n",
      "/usr/local/lib/python3.6/dist-packages/sklearn/linear_model/logistic.py:432: FutureWarning: Default solver will be changed to 'lbfgs' in 0.22. Specify a solver to silence this warning.\n",
      "  FutureWarning)\n",
      "/usr/local/lib/python3.6/dist-packages/sklearn/linear_model/logistic.py:432: FutureWarning: Default solver will be changed to 'lbfgs' in 0.22. Specify a solver to silence this warning.\n",
      "  FutureWarning)\n",
      "/usr/local/lib/python3.6/dist-packages/sklearn/linear_model/logistic.py:432: FutureWarning: Default solver will be changed to 'lbfgs' in 0.22. Specify a solver to silence this warning.\n",
      "  FutureWarning)\n",
      "/usr/local/lib/python3.6/dist-packages/sklearn/linear_model/logistic.py:432: FutureWarning: Default solver will be changed to 'lbfgs' in 0.22. Specify a solver to silence this warning.\n",
      "  FutureWarning)\n",
      "/usr/local/lib/python3.6/dist-packages/sklearn/linear_model/logistic.py:432: FutureWarning: Default solver will be changed to 'lbfgs' in 0.22. Specify a solver to silence this warning.\n",
      "  FutureWarning)\n",
      "/usr/local/lib/python3.6/dist-packages/sklearn/linear_model/logistic.py:432: FutureWarning: Default solver will be changed to 'lbfgs' in 0.22. Specify a solver to silence this warning.\n",
      "  FutureWarning)\n",
      "/usr/local/lib/python3.6/dist-packages/sklearn/linear_model/logistic.py:432: FutureWarning: Default solver will be changed to 'lbfgs' in 0.22. Specify a solver to silence this warning.\n",
      "  FutureWarning)\n",
      "/usr/local/lib/python3.6/dist-packages/sklearn/linear_model/logistic.py:432: FutureWarning: Default solver will be changed to 'lbfgs' in 0.22. Specify a solver to silence this warning.\n",
      "  FutureWarning)\n",
      "/usr/local/lib/python3.6/dist-packages/sklearn/linear_model/logistic.py:432: FutureWarning: Default solver will be changed to 'lbfgs' in 0.22. Specify a solver to silence this warning.\n",
      "  FutureWarning)\n",
      "/usr/local/lib/python3.6/dist-packages/sklearn/linear_model/logistic.py:432: FutureWarning: Default solver will be changed to 'lbfgs' in 0.22. Specify a solver to silence this warning.\n",
      "  FutureWarning)\n",
      "/usr/local/lib/python3.6/dist-packages/sklearn/linear_model/logistic.py:432: FutureWarning: Default solver will be changed to 'lbfgs' in 0.22. Specify a solver to silence this warning.\n",
      "  FutureWarning)\n",
      "/usr/local/lib/python3.6/dist-packages/sklearn/linear_model/logistic.py:432: FutureWarning: Default solver will be changed to 'lbfgs' in 0.22. Specify a solver to silence this warning.\n",
      "  FutureWarning)\n",
      "/usr/local/lib/python3.6/dist-packages/sklearn/linear_model/logistic.py:432: FutureWarning: Default solver will be changed to 'lbfgs' in 0.22. Specify a solver to silence this warning.\n",
      "  FutureWarning)\n",
      "/usr/local/lib/python3.6/dist-packages/sklearn/linear_model/logistic.py:432: FutureWarning: Default solver will be changed to 'lbfgs' in 0.22. Specify a solver to silence this warning.\n",
      "  FutureWarning)\n"
     ]
    },
    {
     "name": "stdout",
     "output_type": "stream",
     "text": [
      "Done!\n"
     ]
    }
   ],
   "source": [
    "mdlRandomRel.fit(logit)"
   ]
  },
  {
   "cell_type": "code",
   "execution_count": 375,
   "metadata": {},
   "outputs": [
    {
     "name": "stdout",
     "output_type": "stream",
     "text": [
      "0.7279009270889634\n",
      "0.7481967770877074\n",
      "adjoins \t \t precision: 0.7938518574407375 \t \t f1: 0.8118238036585341\n",
      "author \t \t precision: 0.9318260869565218 \t \t f1: 0.9435319867884031\n",
      "capital \t \t precision: 0.5087474172678929 \t \t f1: 0.5109008788719411\n",
      "contains \t \t precision: 0.8646658234834299 \t \t f1: 0.8657639533199533\n",
      "film_performance \t \t precision: 0.8957833437926834 \t \t f1: 0.9046375519274183\n",
      "founders \t \t precision: 0.8354987622268217 \t \t f1: 0.8542546521394518\n",
      "genre \t \t precision: 0.6866479416850573 \t \t f1: 0.7310027740523962\n",
      "has_sibling \t \t precision: 0.6887305342385834 \t \t f1: 0.7337012824435974\n",
      "has_spouse \t \t precision: 0.738873481856104 \t \t f1: 0.7835258902787167\n",
      "is_a \t \t precision: 0.6159863420008667 \t \t f1: 0.6350613017382216\n",
      "nationality \t \t precision: 0.712183686363183 \t \t f1: 0.7244959307867145\n",
      "parents \t \t precision: 0.850565050091864 \t \t f1: 0.8690226556199135\n",
      "place_of_birth \t \t precision: 0.6624382647385985 \t \t f1: 0.6861783327911108\n",
      "place_of_death \t \t precision: 0.5930013309671694 \t \t f1: 0.6139854203170254\n",
      "profession \t \t precision: 0.51875 \t \t f1: 0.5194677272781896\n",
      "worked_at \t \t precision: 0.7488649103139013 \t \t f1: 0.7837942913917297\n"
     ]
    }
   ],
   "source": [
    "print(_precision(mdlRandomRel))\n",
    "print(_f1(mdlRandomRel))\n",
    "_print_scores(mdlRandomRel)"
   ]
  },
  {
   "cell_type": "code",
   "execution_count": 301,
   "metadata": {},
   "outputs": [
    {
     "name": "stdout",
     "output_type": "stream",
     "text": [
      "0.7240426344543941\n",
      "0.7345549019266707\n"
     ]
    }
   ],
   "source": [
    "def _precision(model_class):\n",
    "    return np.mean([model_class.metrics[i]['macro avg']['precision'] for i in model_class.metrics])\n",
    "print(_precision(mdl))\n",
    "print(_precision(mdlLogicRel))"
   ]
  },
  {
   "cell_type": "code",
   "execution_count": null,
   "metadata": {},
   "outputs": [],
   "source": []
  },
  {
   "cell_type": "code",
   "execution_count": 318,
   "metadata": {},
   "outputs": [
    {
     "name": "stdout",
     "output_type": "stream",
     "text": [
      "0.748537385240936\n",
      "0.7510064412983555\n"
     ]
    }
   ],
   "source": [
    "def _f1(model_class):\n",
    "    return np.mean([ model_class.metrics[i]['macro avg']['f1-score'] for i in model_class.metrics])\n",
    "#print(_f1(mdl))\n",
    "print(_f1(mdlLogicRel))\n",
    "print(_f1(mdlRandomRel))"
   ]
  },
  {
   "cell_type": "code",
   "execution_count": 303,
   "metadata": {},
   "outputs": [],
   "source": [
    "def _print_scores(model_class):\n",
    "    for rel in model_class.metrics:\n",
    "        print(f\"{rel} \\t \\t precision: {model_class.metrics[rel]['macro avg']['precision']} \\t \\t f1: {model_class.metrics[rel]['macro avg']['f1-score']}\")"
   ]
  },
  {
   "cell_type": "code",
   "execution_count": 304,
   "metadata": {},
   "outputs": [
    {
     "name": "stdout",
     "output_type": "stream",
     "text": [
      "adjoins \t \t precision: 0.7806691400801091 \t \t f1: 0.7994937963188216\n",
      "author \t \t precision: 0.9304257767548907 \t \t f1: 0.9432558522385323\n",
      "capital \t \t precision: 0.530828802782619 \t \t f1: 0.5394200290910314\n",
      "contains \t \t precision: 0.8678704157174224 \t \t f1: 0.8714264771525284\n",
      "film_performance \t \t precision: 0.8949936334356976 \t \t f1: 0.9066504713979988\n",
      "founders \t \t precision: 0.8487296241442452 \t \t f1: 0.8564233515798106\n",
      "genre \t \t precision: 0.7377024070021883 \t \t f1: 0.7500618687232024\n",
      "has_sibling \t \t precision: 0.6883593004769475 \t \t f1: 0.7378838541066144\n",
      "has_spouse \t \t precision: 0.7469529092377929 \t \t f1: 0.7928789531308775\n",
      "is_a \t \t precision: 0.6507173382173382 \t \t f1: 0.6650531624276159\n",
      "nationality \t \t precision: 0.7296214222210426 \t \t f1: 0.7446119235095613\n",
      "parents \t \t precision: 0.8657932282750914 \t \t f1: 0.8905345326716294\n",
      "place_of_birth \t \t precision: 0.6617548559946417 \t \t f1: 0.6949263489924664\n",
      "place_of_death \t \t precision: 0.5806095327675524 \t \t f1: 0.5943290247227092\n",
      "profession \t \t precision: 0.5128856774927796 \t \t f1: 0.5148743047830923\n",
      "worked_at \t \t precision: 0.7249643662263727 \t \t f1: 0.760317746266224\n"
     ]
    }
   ],
   "source": [
    "_print_scores(mdlLogicRel)"
   ]
  },
  {
   "cell_type": "code",
   "execution_count": 149,
   "metadata": {},
   "outputs": [],
   "source": []
  },
  {
   "cell_type": "code",
   "execution_count": 150,
   "metadata": {},
   "outputs": [],
   "source": [
    "X, y = _generate_data_for_relation(relations_middle)\n",
    "X_train, X_test, y_train, y_test, classes = generate_splits(X, y, 0.2)"
   ]
  },
  {
   "cell_type": "code",
   "execution_count": 151,
   "metadata": {},
   "outputs": [],
   "source": [
    "mdl_middle = Model((X_train, y_train), (X_test, y_test), classes)"
   ]
  },
  {
   "cell_type": "code",
   "execution_count": 156,
   "metadata": {},
   "outputs": [
    {
     "name": "stdout",
     "output_type": "stream",
     "text": [
      "Done!\n"
     ]
    }
   ],
   "source": [
    "from sklearn.ensemble import GradientBoostingClassifier\n",
    "\n",
    "mdl_middle.fit(GradientBoostingClassifier)"
   ]
  },
  {
   "cell_type": "code",
   "execution_count": 160,
   "metadata": {},
   "outputs": [
    {
     "data": {
      "text/plain": [
       "(18477, 3072)"
      ]
     },
     "execution_count": 160,
     "metadata": {},
     "output_type": "execute_result"
    }
   ],
   "source": [
    "X_train.shape"
   ]
  },
  {
   "cell_type": "code",
   "execution_count": 241,
   "metadata": {},
   "outputs": [],
   "source": [
    "#relations_examples_text['adjoins'][\"('Poland', 'Czech_Republic')\"]\n"
   ]
  },
  {
   "cell_type": "code",
   "execution_count": 245,
   "metadata": {},
   "outputs": [],
   "source": []
  },
  {
   "cell_type": "code",
   "execution_count": 246,
   "metadata": {},
   "outputs": [
    {
     "data": {
      "text/plain": [
       "(23097, 3)"
      ]
     },
     "execution_count": 246,
     "metadata": {},
     "output_type": "execute_result"
    }
   ],
   "source": [
    "xlog = np.array(X_logic)\n",
    "xlog.shape"
   ]
  },
  {
   "cell_type": "code",
   "execution_count": 249,
   "metadata": {},
   "outputs": [
    {
     "data": {
      "text/plain": [
       "10855"
      ]
     },
     "execution_count": 249,
     "metadata": {},
     "output_type": "execute_result"
    }
   ],
   "source": [
    "np.sum(xlog[:,0])"
   ]
  },
  {
   "cell_type": "code",
   "execution_count": 244,
   "metadata": {},
   "outputs": [
    {
     "data": {
      "text/plain": [
       "(23097,)"
      ]
     },
     "execution_count": 244,
     "metadata": {},
     "output_type": "execute_result"
    }
   ],
   "source": [
    "xtext = np.array(X_text)\n",
    "xtext.shape"
   ]
  },
  {
   "cell_type": "code",
   "execution_count": null,
   "metadata": {},
   "outputs": [],
   "source": []
  }
 ],
 "metadata": {
  "kernelspec": {
   "display_name": "Python 3",
   "language": "python",
   "name": "python3"
  },
  "language_info": {
   "codemirror_mode": {
    "name": "ipython",
    "version": 3
   },
   "file_extension": ".py",
   "mimetype": "text/x-python",
   "name": "python",
   "nbconvert_exporter": "python",
   "pygments_lexer": "ipython3",
   "version": "3.6.11"
  }
 },
 "nbformat": 4,
 "nbformat_minor": 2
}
